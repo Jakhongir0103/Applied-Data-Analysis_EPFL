{
 "cells": [
  {
   "cell_type": "markdown",
   "metadata": {},
   "source": [
    "## Data from World Happiness Report\n",
    "\n",
    "The World Happiness Report is an annual publication of the United Nations Sustainable Development Solutions Network. It contains articles, and rankings of national happiness based on respondent ratings of their own lives, which the report also correlates with various life factors.\n",
    "\n",
    "In this notebook we will explore the happiness of different countries and the features associated.\n",
    "The datasets that we will use are available in *Data*: **happiness2020.pkl** and **countries_info.csv**.\n",
    "\n",
    "Although the features are self-explanatory, here a summary: \n",
    "\n",
    "**happiness2020.pkl**\n",
    "* country: *Name of the country*\n",
    "* happiness_score: *Happiness score*\n",
    "* social_support: *Social support (mitigation the effects of inequality)*\n",
    "* healthy_life_expectancy: *Healthy Life Expectancy*\n",
    "* freedom_of_choices: *Freedom to make life choices*\n",
    "* generosity: *Generosity (charity, volunteers)*\n",
    "* perception_of_corruption: *Corruption Perception*\n",
    "* world_region: *Area of the world of the country*\n",
    "\n",
    "**countries_info.csv**\n",
    "* country_name: *Name of the country*\n",
    "* area: *Area in sq mi*\n",
    "* population: *Number of people*\n",
    "* literacy: *Literacy percentage*"
   ]
  },
  {
   "cell_type": "code",
   "execution_count": 1,
   "metadata": {},
   "outputs": [
    {
     "name": "stdout",
     "output_type": "stream",
     "text": [
      "country_name,area,population,literacy\n",
      "afghanistan,647500,31056997,\"36,0\"\n",
      "albania,28748,3581655,\"86,5\"\n",
      "algeria,2381740,32930091,\"70,0\"\n",
      "argentina,2766890,39921833,\"97,1\"\n",
      "armenia,29800,2976372,\"98,6\"\n",
      "australia,7686850,20264082,\"100,0\"\n",
      "austria,83870,8192880,\"98,0\"\n",
      "azerbaijan,86600,7961619,\"97,0\"\n",
      "bahrain,665,698585,\"89,1\"\n"
     ]
    }
   ],
   "source": [
    "!head Data/countries_info.csv"
   ]
  },
  {
   "cell_type": "code",
   "execution_count": 1,
   "metadata": {
    "tags": []
   },
   "outputs": [],
   "source": [
    "import pandas as pd\n",
    "%matplotlib inline\n",
    "\n",
    "DATA_FOLDER = 'Data/'\n",
    "\n",
    "HAPPINESS_DATASET = DATA_FOLDER+\"happiness2020.csv\"\n",
    "COUNTRIES_DATASET = DATA_FOLDER+\"countries_info.csv\""
   ]
  },
  {
   "cell_type": "markdown",
   "metadata": {},
   "source": [
    "## Task 1: Load the data\n",
    "\n",
    "Load the 2 datasets in Pandas dataframes (called *happiness* and *countries*), and show the first rows.\n",
    "\n",
    "\n",
    "**Hint**: Use the correct reader and verify the data has the expected format."
   ]
  },
  {
   "cell_type": "code",
   "execution_count": 2,
   "metadata": {
    "tags": []
   },
   "outputs": [
    {
     "name": "stdout",
     "output_type": "stream",
     "text": [
      "(135, 8)\n"
     ]
    },
    {
     "data": {
      "text/html": [
       "<div>\n",
       "<style scoped>\n",
       "    .dataframe tbody tr th:only-of-type {\n",
       "        vertical-align: middle;\n",
       "    }\n",
       "\n",
       "    .dataframe tbody tr th {\n",
       "        vertical-align: top;\n",
       "    }\n",
       "\n",
       "    .dataframe thead th {\n",
       "        text-align: right;\n",
       "    }\n",
       "</style>\n",
       "<table border=\"1\" class=\"dataframe\">\n",
       "  <thead>\n",
       "    <tr style=\"text-align: right;\">\n",
       "      <th></th>\n",
       "      <th>country</th>\n",
       "      <th>happiness_score</th>\n",
       "      <th>social_support</th>\n",
       "      <th>healthy_life_expectancy</th>\n",
       "      <th>freedom_of_choices</th>\n",
       "      <th>generosity</th>\n",
       "      <th>perception_of_corruption</th>\n",
       "      <th>world_region</th>\n",
       "    </tr>\n",
       "  </thead>\n",
       "  <tbody>\n",
       "    <tr>\n",
       "      <th>0</th>\n",
       "      <td>Afghanistan</td>\n",
       "      <td>2.5669</td>\n",
       "      <td>0.470367</td>\n",
       "      <td>52.590000</td>\n",
       "      <td>0.396573</td>\n",
       "      <td>-0.096429</td>\n",
       "      <td>0.933687</td>\n",
       "      <td>South Asia</td>\n",
       "    </tr>\n",
       "    <tr>\n",
       "      <th>1</th>\n",
       "      <td>Albania</td>\n",
       "      <td>4.8827</td>\n",
       "      <td>0.671070</td>\n",
       "      <td>68.708138</td>\n",
       "      <td>0.781994</td>\n",
       "      <td>-0.042309</td>\n",
       "      <td>0.896304</td>\n",
       "      <td>Central and Eastern Europe</td>\n",
       "    </tr>\n",
       "    <tr>\n",
       "      <th>2</th>\n",
       "      <td>Algeria</td>\n",
       "      <td>5.0051</td>\n",
       "      <td>0.803385</td>\n",
       "      <td>65.905174</td>\n",
       "      <td>0.466611</td>\n",
       "      <td>-0.121105</td>\n",
       "      <td>0.735485</td>\n",
       "      <td>Middle East and North Africa</td>\n",
       "    </tr>\n",
       "    <tr>\n",
       "      <th>3</th>\n",
       "      <td>Argentina</td>\n",
       "      <td>5.9747</td>\n",
       "      <td>0.900568</td>\n",
       "      <td>68.803802</td>\n",
       "      <td>0.831132</td>\n",
       "      <td>-0.194914</td>\n",
       "      <td>0.842010</td>\n",
       "      <td>Latin America and Caribbean</td>\n",
       "    </tr>\n",
       "    <tr>\n",
       "      <th>4</th>\n",
       "      <td>Armenia</td>\n",
       "      <td>4.6768</td>\n",
       "      <td>0.757479</td>\n",
       "      <td>66.750656</td>\n",
       "      <td>0.712018</td>\n",
       "      <td>-0.138780</td>\n",
       "      <td>0.773545</td>\n",
       "      <td>Commonwealth of Independent States</td>\n",
       "    </tr>\n",
       "  </tbody>\n",
       "</table>\n",
       "</div>"
      ],
      "text/plain": [
       "       country  happiness_score  social_support  healthy_life_expectancy  \\\n",
       "0  Afghanistan           2.5669        0.470367                52.590000   \n",
       "1      Albania           4.8827        0.671070                68.708138   \n",
       "2      Algeria           5.0051        0.803385                65.905174   \n",
       "3    Argentina           5.9747        0.900568                68.803802   \n",
       "4      Armenia           4.6768        0.757479                66.750656   \n",
       "\n",
       "   freedom_of_choices  generosity  perception_of_corruption  \\\n",
       "0            0.396573   -0.096429                  0.933687   \n",
       "1            0.781994   -0.042309                  0.896304   \n",
       "2            0.466611   -0.121105                  0.735485   \n",
       "3            0.831132   -0.194914                  0.842010   \n",
       "4            0.712018   -0.138780                  0.773545   \n",
       "\n",
       "                         world_region  \n",
       "0                          South Asia  \n",
       "1          Central and Eastern Europe  \n",
       "2        Middle East and North Africa  \n",
       "3         Latin America and Caribbean  \n",
       "4  Commonwealth of Independent States  "
      ]
     },
     "execution_count": 2,
     "metadata": {},
     "output_type": "execute_result"
    }
   ],
   "source": [
    "df_happiness=pd.read_csv(HAPPINESS_DATASET)\n",
    "print(df_happiness.shape)\n",
    "df_happiness.head(5)"
   ]
  },
  {
   "cell_type": "code",
   "execution_count": 3,
   "metadata": {
    "tags": []
   },
   "outputs": [
    {
     "name": "stdout",
     "output_type": "stream",
     "text": [
      "(135, 4)\n"
     ]
    },
    {
     "data": {
      "text/html": [
       "<div>\n",
       "<style scoped>\n",
       "    .dataframe tbody tr th:only-of-type {\n",
       "        vertical-align: middle;\n",
       "    }\n",
       "\n",
       "    .dataframe tbody tr th {\n",
       "        vertical-align: top;\n",
       "    }\n",
       "\n",
       "    .dataframe thead th {\n",
       "        text-align: right;\n",
       "    }\n",
       "</style>\n",
       "<table border=\"1\" class=\"dataframe\">\n",
       "  <thead>\n",
       "    <tr style=\"text-align: right;\">\n",
       "      <th></th>\n",
       "      <th>country_name</th>\n",
       "      <th>area</th>\n",
       "      <th>population</th>\n",
       "      <th>literacy</th>\n",
       "    </tr>\n",
       "  </thead>\n",
       "  <tbody>\n",
       "    <tr>\n",
       "      <th>0</th>\n",
       "      <td>afghanistan</td>\n",
       "      <td>647500</td>\n",
       "      <td>31056997</td>\n",
       "      <td>36,0</td>\n",
       "    </tr>\n",
       "    <tr>\n",
       "      <th>1</th>\n",
       "      <td>albania</td>\n",
       "      <td>28748</td>\n",
       "      <td>3581655</td>\n",
       "      <td>86,5</td>\n",
       "    </tr>\n",
       "    <tr>\n",
       "      <th>2</th>\n",
       "      <td>algeria</td>\n",
       "      <td>2381740</td>\n",
       "      <td>32930091</td>\n",
       "      <td>70,0</td>\n",
       "    </tr>\n",
       "    <tr>\n",
       "      <th>3</th>\n",
       "      <td>argentina</td>\n",
       "      <td>2766890</td>\n",
       "      <td>39921833</td>\n",
       "      <td>97,1</td>\n",
       "    </tr>\n",
       "    <tr>\n",
       "      <th>4</th>\n",
       "      <td>armenia</td>\n",
       "      <td>29800</td>\n",
       "      <td>2976372</td>\n",
       "      <td>98,6</td>\n",
       "    </tr>\n",
       "  </tbody>\n",
       "</table>\n",
       "</div>"
      ],
      "text/plain": [
       "  country_name     area  population literacy\n",
       "0  afghanistan   647500    31056997     36,0\n",
       "1      albania    28748     3581655     86,5\n",
       "2      algeria  2381740    32930091     70,0\n",
       "3    argentina  2766890    39921833     97,1\n",
       "4      armenia    29800     2976372     98,6"
      ]
     },
     "execution_count": 3,
     "metadata": {},
     "output_type": "execute_result"
    }
   ],
   "source": [
    "df_countries=pd.read_csv(COUNTRIES_DATASET)\n",
    "print(df_countries.shape)\n",
    "df_countries.head()"
   ]
  },
  {
   "cell_type": "markdown",
   "metadata": {},
   "source": [
    "## Task 2: Let's merge the data\n",
    "\n",
    "Create a dataframe called *country_features* by merging *happiness* and *countries*. A row of this dataframe must describe all the features that we have about a country.\n",
    "\n",
    "**Hint**: Verify that all the rows are in the final dataframe."
   ]
  },
  {
   "cell_type": "code",
   "execution_count": 4,
   "metadata": {
    "tags": []
   },
   "outputs": [],
   "source": [
    "df_countries.country_name=df_countries.country_name.str.capitalize()\n",
    "country_features=pd.merge(df_countries,df_happiness.rename({'country':'country_name'},axis=1),on='country_name',how='left')"
   ]
  },
  {
   "cell_type": "code",
   "execution_count": 5,
   "metadata": {
    "tags": []
   },
   "outputs": [
    {
     "data": {
      "text/html": [
       "<div>\n",
       "<style scoped>\n",
       "    .dataframe tbody tr th:only-of-type {\n",
       "        vertical-align: middle;\n",
       "    }\n",
       "\n",
       "    .dataframe tbody tr th {\n",
       "        vertical-align: top;\n",
       "    }\n",
       "\n",
       "    .dataframe thead th {\n",
       "        text-align: right;\n",
       "    }\n",
       "</style>\n",
       "<table border=\"1\" class=\"dataframe\">\n",
       "  <thead>\n",
       "    <tr style=\"text-align: right;\">\n",
       "      <th></th>\n",
       "      <th>country_name</th>\n",
       "      <th>area</th>\n",
       "      <th>population</th>\n",
       "      <th>literacy</th>\n",
       "      <th>happiness_score</th>\n",
       "      <th>social_support</th>\n",
       "      <th>healthy_life_expectancy</th>\n",
       "      <th>freedom_of_choices</th>\n",
       "      <th>generosity</th>\n",
       "      <th>perception_of_corruption</th>\n",
       "      <th>world_region</th>\n",
       "    </tr>\n",
       "  </thead>\n",
       "  <tbody>\n",
       "    <tr>\n",
       "      <th>0</th>\n",
       "      <td>Afghanistan</td>\n",
       "      <td>647500</td>\n",
       "      <td>31056997</td>\n",
       "      <td>36,0</td>\n",
       "      <td>2.5669</td>\n",
       "      <td>0.470367</td>\n",
       "      <td>52.590000</td>\n",
       "      <td>0.396573</td>\n",
       "      <td>-0.096429</td>\n",
       "      <td>0.933687</td>\n",
       "      <td>South Asia</td>\n",
       "    </tr>\n",
       "    <tr>\n",
       "      <th>1</th>\n",
       "      <td>Albania</td>\n",
       "      <td>28748</td>\n",
       "      <td>3581655</td>\n",
       "      <td>86,5</td>\n",
       "      <td>4.8827</td>\n",
       "      <td>0.671070</td>\n",
       "      <td>68.708138</td>\n",
       "      <td>0.781994</td>\n",
       "      <td>-0.042309</td>\n",
       "      <td>0.896304</td>\n",
       "      <td>Central and Eastern Europe</td>\n",
       "    </tr>\n",
       "    <tr>\n",
       "      <th>2</th>\n",
       "      <td>Algeria</td>\n",
       "      <td>2381740</td>\n",
       "      <td>32930091</td>\n",
       "      <td>70,0</td>\n",
       "      <td>5.0051</td>\n",
       "      <td>0.803385</td>\n",
       "      <td>65.905174</td>\n",
       "      <td>0.466611</td>\n",
       "      <td>-0.121105</td>\n",
       "      <td>0.735485</td>\n",
       "      <td>Middle East and North Africa</td>\n",
       "    </tr>\n",
       "    <tr>\n",
       "      <th>3</th>\n",
       "      <td>Argentina</td>\n",
       "      <td>2766890</td>\n",
       "      <td>39921833</td>\n",
       "      <td>97,1</td>\n",
       "      <td>5.9747</td>\n",
       "      <td>0.900568</td>\n",
       "      <td>68.803802</td>\n",
       "      <td>0.831132</td>\n",
       "      <td>-0.194914</td>\n",
       "      <td>0.842010</td>\n",
       "      <td>Latin America and Caribbean</td>\n",
       "    </tr>\n",
       "    <tr>\n",
       "      <th>4</th>\n",
       "      <td>Armenia</td>\n",
       "      <td>29800</td>\n",
       "      <td>2976372</td>\n",
       "      <td>98,6</td>\n",
       "      <td>4.6768</td>\n",
       "      <td>0.757479</td>\n",
       "      <td>66.750656</td>\n",
       "      <td>0.712018</td>\n",
       "      <td>-0.138780</td>\n",
       "      <td>0.773545</td>\n",
       "      <td>Commonwealth of Independent States</td>\n",
       "    </tr>\n",
       "  </tbody>\n",
       "</table>\n",
       "</div>"
      ],
      "text/plain": [
       "  country_name     area  population literacy  happiness_score  social_support  \\\n",
       "0  Afghanistan   647500    31056997     36,0           2.5669        0.470367   \n",
       "1      Albania    28748     3581655     86,5           4.8827        0.671070   \n",
       "2      Algeria  2381740    32930091     70,0           5.0051        0.803385   \n",
       "3    Argentina  2766890    39921833     97,1           5.9747        0.900568   \n",
       "4      Armenia    29800     2976372     98,6           4.6768        0.757479   \n",
       "\n",
       "   healthy_life_expectancy  freedom_of_choices  generosity  \\\n",
       "0                52.590000            0.396573   -0.096429   \n",
       "1                68.708138            0.781994   -0.042309   \n",
       "2                65.905174            0.466611   -0.121105   \n",
       "3                68.803802            0.831132   -0.194914   \n",
       "4                66.750656            0.712018   -0.138780   \n",
       "\n",
       "   perception_of_corruption                        world_region  \n",
       "0                  0.933687                          South Asia  \n",
       "1                  0.896304          Central and Eastern Europe  \n",
       "2                  0.735485        Middle East and North Africa  \n",
       "3                  0.842010         Latin America and Caribbean  \n",
       "4                  0.773545  Commonwealth of Independent States  "
      ]
     },
     "execution_count": 5,
     "metadata": {},
     "output_type": "execute_result"
    }
   ],
   "source": [
    "country_features.head()"
   ]
  },
  {
   "cell_type": "markdown",
   "metadata": {},
   "source": [
    "## Task 3: Where are people happier?\n",
    "\n",
    "Print the top 10 countries based on their happiness score (higher is better)."
   ]
  },
  {
   "cell_type": "code",
   "execution_count": 6,
   "metadata": {
    "tags": []
   },
   "outputs": [
    {
     "data": {
      "text/html": [
       "<div>\n",
       "<style scoped>\n",
       "    .dataframe tbody tr th:only-of-type {\n",
       "        vertical-align: middle;\n",
       "    }\n",
       "\n",
       "    .dataframe tbody tr th {\n",
       "        vertical-align: top;\n",
       "    }\n",
       "\n",
       "    .dataframe thead th {\n",
       "        text-align: right;\n",
       "    }\n",
       "</style>\n",
       "<table border=\"1\" class=\"dataframe\">\n",
       "  <thead>\n",
       "    <tr style=\"text-align: right;\">\n",
       "      <th></th>\n",
       "      <th>country_name</th>\n",
       "      <th>area</th>\n",
       "      <th>population</th>\n",
       "      <th>literacy</th>\n",
       "      <th>happiness_score</th>\n",
       "      <th>social_support</th>\n",
       "      <th>healthy_life_expectancy</th>\n",
       "      <th>freedom_of_choices</th>\n",
       "      <th>generosity</th>\n",
       "      <th>perception_of_corruption</th>\n",
       "      <th>world_region</th>\n",
       "    </tr>\n",
       "  </thead>\n",
       "  <tbody>\n",
       "    <tr>\n",
       "      <th>38</th>\n",
       "      <td>Finland</td>\n",
       "      <td>338145</td>\n",
       "      <td>5231372</td>\n",
       "      <td>100,0</td>\n",
       "      <td>7.8087</td>\n",
       "      <td>0.954330</td>\n",
       "      <td>71.900825</td>\n",
       "      <td>0.949172</td>\n",
       "      <td>-0.059482</td>\n",
       "      <td>0.195445</td>\n",
       "      <td>Western Europe</td>\n",
       "    </tr>\n",
       "    <tr>\n",
       "      <th>31</th>\n",
       "      <td>Denmark</td>\n",
       "      <td>43094</td>\n",
       "      <td>5450661</td>\n",
       "      <td>100,0</td>\n",
       "      <td>7.6456</td>\n",
       "      <td>0.955991</td>\n",
       "      <td>72.402504</td>\n",
       "      <td>0.951444</td>\n",
       "      <td>0.066202</td>\n",
       "      <td>0.168489</td>\n",
       "      <td>Western Europe</td>\n",
       "    </tr>\n",
       "    <tr>\n",
       "      <th>115</th>\n",
       "      <td>Switzerland</td>\n",
       "      <td>41290</td>\n",
       "      <td>7523934</td>\n",
       "      <td>99,0</td>\n",
       "      <td>7.5599</td>\n",
       "      <td>0.942847</td>\n",
       "      <td>74.102448</td>\n",
       "      <td>0.921337</td>\n",
       "      <td>0.105911</td>\n",
       "      <td>0.303728</td>\n",
       "      <td>Western Europe</td>\n",
       "    </tr>\n",
       "    <tr>\n",
       "      <th>50</th>\n",
       "      <td>Iceland</td>\n",
       "      <td>103000</td>\n",
       "      <td>299388</td>\n",
       "      <td>99,9</td>\n",
       "      <td>7.5045</td>\n",
       "      <td>0.974670</td>\n",
       "      <td>73.000000</td>\n",
       "      <td>0.948892</td>\n",
       "      <td>0.246944</td>\n",
       "      <td>0.711710</td>\n",
       "      <td>Western Europe</td>\n",
       "    </tr>\n",
       "    <tr>\n",
       "      <th>92</th>\n",
       "      <td>Norway</td>\n",
       "      <td>323802</td>\n",
       "      <td>4610820</td>\n",
       "      <td>100,0</td>\n",
       "      <td>7.4880</td>\n",
       "      <td>0.952487</td>\n",
       "      <td>73.200783</td>\n",
       "      <td>0.955750</td>\n",
       "      <td>0.134533</td>\n",
       "      <td>0.263218</td>\n",
       "      <td>Western Europe</td>\n",
       "    </tr>\n",
       "    <tr>\n",
       "      <th>87</th>\n",
       "      <td>Netherlands</td>\n",
       "      <td>41526</td>\n",
       "      <td>16491461</td>\n",
       "      <td>99,0</td>\n",
       "      <td>7.4489</td>\n",
       "      <td>0.939139</td>\n",
       "      <td>72.300919</td>\n",
       "      <td>0.908548</td>\n",
       "      <td>0.207612</td>\n",
       "      <td>0.364717</td>\n",
       "      <td>Western Europe</td>\n",
       "    </tr>\n",
       "    <tr>\n",
       "      <th>114</th>\n",
       "      <td>Sweden</td>\n",
       "      <td>449964</td>\n",
       "      <td>9016596</td>\n",
       "      <td>99,0</td>\n",
       "      <td>7.3535</td>\n",
       "      <td>0.926311</td>\n",
       "      <td>72.600769</td>\n",
       "      <td>0.939144</td>\n",
       "      <td>0.111615</td>\n",
       "      <td>0.250880</td>\n",
       "      <td>Western Europe</td>\n",
       "    </tr>\n",
       "    <tr>\n",
       "      <th>6</th>\n",
       "      <td>Austria</td>\n",
       "      <td>83870</td>\n",
       "      <td>8192880</td>\n",
       "      <td>98,0</td>\n",
       "      <td>7.2942</td>\n",
       "      <td>0.928046</td>\n",
       "      <td>73.002502</td>\n",
       "      <td>0.899989</td>\n",
       "      <td>0.085429</td>\n",
       "      <td>0.499955</td>\n",
       "      <td>Western Europe</td>\n",
       "    </tr>\n",
       "    <tr>\n",
       "      <th>72</th>\n",
       "      <td>Luxembourg</td>\n",
       "      <td>2586</td>\n",
       "      <td>474413</td>\n",
       "      <td>100,0</td>\n",
       "      <td>7.2375</td>\n",
       "      <td>0.906912</td>\n",
       "      <td>72.599998</td>\n",
       "      <td>0.905636</td>\n",
       "      <td>-0.004621</td>\n",
       "      <td>0.367084</td>\n",
       "      <td>Western Europe</td>\n",
       "    </tr>\n",
       "    <tr>\n",
       "      <th>21</th>\n",
       "      <td>Canada</td>\n",
       "      <td>9984670</td>\n",
       "      <td>33098932</td>\n",
       "      <td>97,0</td>\n",
       "      <td>7.2321</td>\n",
       "      <td>0.927177</td>\n",
       "      <td>73.601601</td>\n",
       "      <td>0.933913</td>\n",
       "      <td>0.124771</td>\n",
       "      <td>0.390843</td>\n",
       "      <td>North America and ANZ</td>\n",
       "    </tr>\n",
       "  </tbody>\n",
       "</table>\n",
       "</div>"
      ],
      "text/plain": [
       "    country_name     area  population literacy  happiness_score  \\\n",
       "38       Finland   338145     5231372    100,0           7.8087   \n",
       "31       Denmark    43094     5450661    100,0           7.6456   \n",
       "115  Switzerland    41290     7523934     99,0           7.5599   \n",
       "50       Iceland   103000      299388     99,9           7.5045   \n",
       "92        Norway   323802     4610820    100,0           7.4880   \n",
       "87   Netherlands    41526    16491461     99,0           7.4489   \n",
       "114       Sweden   449964     9016596     99,0           7.3535   \n",
       "6        Austria    83870     8192880     98,0           7.2942   \n",
       "72    Luxembourg     2586      474413    100,0           7.2375   \n",
       "21        Canada  9984670    33098932     97,0           7.2321   \n",
       "\n",
       "     social_support  healthy_life_expectancy  freedom_of_choices  generosity  \\\n",
       "38         0.954330                71.900825            0.949172   -0.059482   \n",
       "31         0.955991                72.402504            0.951444    0.066202   \n",
       "115        0.942847                74.102448            0.921337    0.105911   \n",
       "50         0.974670                73.000000            0.948892    0.246944   \n",
       "92         0.952487                73.200783            0.955750    0.134533   \n",
       "87         0.939139                72.300919            0.908548    0.207612   \n",
       "114        0.926311                72.600769            0.939144    0.111615   \n",
       "6          0.928046                73.002502            0.899989    0.085429   \n",
       "72         0.906912                72.599998            0.905636   -0.004621   \n",
       "21         0.927177                73.601601            0.933913    0.124771   \n",
       "\n",
       "     perception_of_corruption           world_region  \n",
       "38                   0.195445         Western Europe  \n",
       "31                   0.168489         Western Europe  \n",
       "115                  0.303728         Western Europe  \n",
       "50                   0.711710         Western Europe  \n",
       "92                   0.263218         Western Europe  \n",
       "87                   0.364717         Western Europe  \n",
       "114                  0.250880         Western Europe  \n",
       "6                    0.499955         Western Europe  \n",
       "72                   0.367084         Western Europe  \n",
       "21                   0.390843  North America and ANZ  "
      ]
     },
     "execution_count": 6,
     "metadata": {},
     "output_type": "execute_result"
    }
   ],
   "source": [
    "country_features.sort_values(by='happiness_score',ascending=False).head(10)"
   ]
  },
  {
   "cell_type": "markdown",
   "metadata": {},
   "source": [
    "We are interested to know in what world region people are happier. \n",
    "\n",
    "Create and print a dataframe with the (1) average happiness score and (2) the number of contries for each world region.\n",
    "Sort the result to show the happiness ranking."
   ]
  },
  {
   "cell_type": "code",
   "execution_count": 7,
   "metadata": {
    "tags": []
   },
   "outputs": [
    {
     "data": {
      "text/html": [
       "<div>\n",
       "<style scoped>\n",
       "    .dataframe tbody tr th:only-of-type {\n",
       "        vertical-align: middle;\n",
       "    }\n",
       "\n",
       "    .dataframe tbody tr th {\n",
       "        vertical-align: top;\n",
       "    }\n",
       "\n",
       "    .dataframe thead th {\n",
       "        text-align: right;\n",
       "    }\n",
       "</style>\n",
       "<table border=\"1\" class=\"dataframe\">\n",
       "  <thead>\n",
       "    <tr style=\"text-align: right;\">\n",
       "      <th></th>\n",
       "      <th>world_region</th>\n",
       "      <th>happiness_score</th>\n",
       "    </tr>\n",
       "  </thead>\n",
       "  <tbody>\n",
       "    <tr>\n",
       "      <th>5</th>\n",
       "      <td>North America and ANZ</td>\n",
       "      <td>7.227450</td>\n",
       "    </tr>\n",
       "    <tr>\n",
       "      <th>9</th>\n",
       "      <td>Western Europe</td>\n",
       "      <td>6.957032</td>\n",
       "    </tr>\n",
       "    <tr>\n",
       "      <th>3</th>\n",
       "      <td>Latin America and Caribbean</td>\n",
       "      <td>5.898041</td>\n",
       "    </tr>\n",
       "    <tr>\n",
       "      <th>0</th>\n",
       "      <td>Central and Eastern Europe</td>\n",
       "      <td>5.812969</td>\n",
       "    </tr>\n",
       "    <tr>\n",
       "      <th>7</th>\n",
       "      <td>Southeast Asia</td>\n",
       "      <td>5.517788</td>\n",
       "    </tr>\n",
       "    <tr>\n",
       "      <th>2</th>\n",
       "      <td>East Asia</td>\n",
       "      <td>5.483633</td>\n",
       "    </tr>\n",
       "    <tr>\n",
       "      <th>1</th>\n",
       "      <td>Commonwealth of Independent States</td>\n",
       "      <td>5.358342</td>\n",
       "    </tr>\n",
       "    <tr>\n",
       "      <th>4</th>\n",
       "      <td>Middle East and North Africa</td>\n",
       "      <td>5.079400</td>\n",
       "    </tr>\n",
       "    <tr>\n",
       "      <th>8</th>\n",
       "      <td>Sub-Saharan Africa</td>\n",
       "      <td>4.382559</td>\n",
       "    </tr>\n",
       "    <tr>\n",
       "      <th>6</th>\n",
       "      <td>South Asia</td>\n",
       "      <td>4.360700</td>\n",
       "    </tr>\n",
       "  </tbody>\n",
       "</table>\n",
       "</div>"
      ],
      "text/plain": [
       "                         world_region  happiness_score\n",
       "5               North America and ANZ         7.227450\n",
       "9                      Western Europe         6.957032\n",
       "3         Latin America and Caribbean         5.898041\n",
       "0          Central and Eastern Europe         5.812969\n",
       "7                      Southeast Asia         5.517788\n",
       "2                           East Asia         5.483633\n",
       "1  Commonwealth of Independent States         5.358342\n",
       "4        Middle East and North Africa         5.079400\n",
       "8                  Sub-Saharan Africa         4.382559\n",
       "6                          South Asia         4.360700"
      ]
     },
     "execution_count": 7,
     "metadata": {},
     "output_type": "execute_result"
    }
   ],
   "source": [
    "# 1\n",
    "country_features.groupby('world_region',as_index=False)[['happiness_score']].mean().sort_values(by='happiness_score',ascending=False)"
   ]
  },
  {
   "cell_type": "code",
   "execution_count": 8,
   "metadata": {
    "tags": []
   },
   "outputs": [
    {
     "data": {
      "text/html": [
       "<div>\n",
       "<style scoped>\n",
       "    .dataframe tbody tr th:only-of-type {\n",
       "        vertical-align: middle;\n",
       "    }\n",
       "\n",
       "    .dataframe tbody tr th {\n",
       "        vertical-align: top;\n",
       "    }\n",
       "\n",
       "    .dataframe thead th {\n",
       "        text-align: right;\n",
       "    }\n",
       "</style>\n",
       "<table border=\"1\" class=\"dataframe\">\n",
       "  <thead>\n",
       "    <tr style=\"text-align: right;\">\n",
       "      <th></th>\n",
       "      <th>world_region</th>\n",
       "      <th>country_count</th>\n",
       "    </tr>\n",
       "  </thead>\n",
       "  <tbody>\n",
       "    <tr>\n",
       "      <th>5</th>\n",
       "      <td>North America and ANZ</td>\n",
       "      <td>2</td>\n",
       "    </tr>\n",
       "    <tr>\n",
       "      <th>2</th>\n",
       "      <td>East Asia</td>\n",
       "      <td>3</td>\n",
       "    </tr>\n",
       "    <tr>\n",
       "      <th>6</th>\n",
       "      <td>South Asia</td>\n",
       "      <td>5</td>\n",
       "    </tr>\n",
       "    <tr>\n",
       "      <th>7</th>\n",
       "      <td>Southeast Asia</td>\n",
       "      <td>8</td>\n",
       "    </tr>\n",
       "    <tr>\n",
       "      <th>1</th>\n",
       "      <td>Commonwealth of Independent States</td>\n",
       "      <td>12</td>\n",
       "    </tr>\n",
       "    <tr>\n",
       "      <th>0</th>\n",
       "      <td>Central and Eastern Europe</td>\n",
       "      <td>13</td>\n",
       "    </tr>\n",
       "    <tr>\n",
       "      <th>4</th>\n",
       "      <td>Middle East and North Africa</td>\n",
       "      <td>14</td>\n",
       "    </tr>\n",
       "    <tr>\n",
       "      <th>3</th>\n",
       "      <td>Latin America and Caribbean</td>\n",
       "      <td>17</td>\n",
       "    </tr>\n",
       "    <tr>\n",
       "      <th>9</th>\n",
       "      <td>Western Europe</td>\n",
       "      <td>19</td>\n",
       "    </tr>\n",
       "    <tr>\n",
       "      <th>8</th>\n",
       "      <td>Sub-Saharan Africa</td>\n",
       "      <td>29</td>\n",
       "    </tr>\n",
       "  </tbody>\n",
       "</table>\n",
       "</div>"
      ],
      "text/plain": [
       "                         world_region  country_count\n",
       "5               North America and ANZ              2\n",
       "2                           East Asia              3\n",
       "6                          South Asia              5\n",
       "7                      Southeast Asia              8\n",
       "1  Commonwealth of Independent States             12\n",
       "0          Central and Eastern Europe             13\n",
       "4        Middle East and North Africa             14\n",
       "3         Latin America and Caribbean             17\n",
       "9                      Western Europe             19\n",
       "8                  Sub-Saharan Africa             29"
      ]
     },
     "execution_count": 8,
     "metadata": {},
     "output_type": "execute_result"
    }
   ],
   "source": [
    "regions_by_country_count=country_features.groupby('world_region',as_index=False)[['country_name']].count().rename({'country_name':'country_count'},axis=1).sort_values(by='country_count')\n",
    "regions_by_country_count"
   ]
  },
  {
   "cell_type": "markdown",
   "metadata": {},
   "source": [
    "The first region has only a few countries! What are them and what is their score?"
   ]
  },
  {
   "cell_type": "code",
   "execution_count": 9,
   "metadata": {
    "tags": []
   },
   "outputs": [
    {
     "name": "stdout",
     "output_type": "stream",
     "text": [
      "North America and ANZ\n"
     ]
    },
    {
     "data": {
      "text/html": [
       "<div>\n",
       "<style scoped>\n",
       "    .dataframe tbody tr th:only-of-type {\n",
       "        vertical-align: middle;\n",
       "    }\n",
       "\n",
       "    .dataframe tbody tr th {\n",
       "        vertical-align: top;\n",
       "    }\n",
       "\n",
       "    .dataframe thead th {\n",
       "        text-align: right;\n",
       "    }\n",
       "</style>\n",
       "<table border=\"1\" class=\"dataframe\">\n",
       "  <thead>\n",
       "    <tr style=\"text-align: right;\">\n",
       "      <th></th>\n",
       "      <th>world_region</th>\n",
       "      <th>country_name</th>\n",
       "      <th>happiness_score</th>\n",
       "    </tr>\n",
       "  </thead>\n",
       "  <tbody>\n",
       "    <tr>\n",
       "      <th>5</th>\n",
       "      <td>North America and ANZ</td>\n",
       "      <td>Australia</td>\n",
       "      <td>7.2228</td>\n",
       "    </tr>\n",
       "    <tr>\n",
       "      <th>21</th>\n",
       "      <td>North America and ANZ</td>\n",
       "      <td>Canada</td>\n",
       "      <td>7.2321</td>\n",
       "    </tr>\n",
       "  </tbody>\n",
       "</table>\n",
       "</div>"
      ],
      "text/plain": [
       "             world_region country_name  happiness_score\n",
       "5   North America and ANZ    Australia           7.2228\n",
       "21  North America and ANZ       Canada           7.2321"
      ]
     },
     "execution_count": 9,
     "metadata": {},
     "output_type": "execute_result"
    }
   ],
   "source": [
    "region_with_least_country=regions_by_country_count[regions_by_country_count.country_count==regions_by_country_count.country_count.min()].iloc[0]['world_region']\n",
    "print(region_with_least_country)\n",
    "\n",
    "country_features[country_features.world_region==region_with_least_country][['world_region','country_name','happiness_score']]"
   ]
  },
  {
   "cell_type": "code",
   "execution_count": null,
   "metadata": {},
   "outputs": [],
   "source": []
  },
  {
   "cell_type": "code",
   "execution_count": null,
   "metadata": {},
   "outputs": [],
   "source": []
  },
  {
   "cell_type": "markdown",
   "metadata": {},
   "source": [
    "## Task 4: How literate is the world?\n",
    "\n",
    "Print the names of the countries with a level of literacy of 100%. \n",
    "\n",
    "For each country, print the name and the world region in the format: *{region name} - {country name} ({happiness score})*"
   ]
  },
  {
   "cell_type": "code",
   "execution_count": 10,
   "metadata": {
    "tags": []
   },
   "outputs": [
    {
     "data": {
      "text/html": [
       "<div>\n",
       "<style scoped>\n",
       "    .dataframe tbody tr th:only-of-type {\n",
       "        vertical-align: middle;\n",
       "    }\n",
       "\n",
       "    .dataframe tbody tr th {\n",
       "        vertical-align: top;\n",
       "    }\n",
       "\n",
       "    .dataframe thead th {\n",
       "        text-align: right;\n",
       "    }\n",
       "</style>\n",
       "<table border=\"1\" class=\"dataframe\">\n",
       "  <thead>\n",
       "    <tr style=\"text-align: right;\">\n",
       "      <th></th>\n",
       "      <th>country_name</th>\n",
       "      <th>area</th>\n",
       "      <th>population</th>\n",
       "      <th>literacy</th>\n",
       "      <th>happiness_score</th>\n",
       "      <th>social_support</th>\n",
       "      <th>healthy_life_expectancy</th>\n",
       "      <th>freedom_of_choices</th>\n",
       "      <th>generosity</th>\n",
       "      <th>perception_of_corruption</th>\n",
       "      <th>world_region</th>\n",
       "    </tr>\n",
       "  </thead>\n",
       "  <tbody>\n",
       "    <tr>\n",
       "      <th>5</th>\n",
       "      <td>Australia</td>\n",
       "      <td>7686850</td>\n",
       "      <td>20264082</td>\n",
       "      <td>100.0</td>\n",
       "      <td>7.2228</td>\n",
       "      <td>0.944855</td>\n",
       "      <td>73.604538</td>\n",
       "      <td>0.915432</td>\n",
       "      <td>0.190460</td>\n",
       "      <td>0.415169</td>\n",
       "      <td>North America and ANZ</td>\n",
       "    </tr>\n",
       "    <tr>\n",
       "      <th>31</th>\n",
       "      <td>Denmark</td>\n",
       "      <td>43094</td>\n",
       "      <td>5450661</td>\n",
       "      <td>100.0</td>\n",
       "      <td>7.6456</td>\n",
       "      <td>0.955991</td>\n",
       "      <td>72.402504</td>\n",
       "      <td>0.951444</td>\n",
       "      <td>0.066202</td>\n",
       "      <td>0.168489</td>\n",
       "      <td>Western Europe</td>\n",
       "    </tr>\n",
       "    <tr>\n",
       "      <th>38</th>\n",
       "      <td>Finland</td>\n",
       "      <td>338145</td>\n",
       "      <td>5231372</td>\n",
       "      <td>100.0</td>\n",
       "      <td>7.8087</td>\n",
       "      <td>0.954330</td>\n",
       "      <td>71.900825</td>\n",
       "      <td>0.949172</td>\n",
       "      <td>-0.059482</td>\n",
       "      <td>0.195445</td>\n",
       "      <td>Western Europe</td>\n",
       "    </tr>\n",
       "    <tr>\n",
       "      <th>72</th>\n",
       "      <td>Luxembourg</td>\n",
       "      <td>2586</td>\n",
       "      <td>474413</td>\n",
       "      <td>100.0</td>\n",
       "      <td>7.2375</td>\n",
       "      <td>0.906912</td>\n",
       "      <td>72.599998</td>\n",
       "      <td>0.905636</td>\n",
       "      <td>-0.004621</td>\n",
       "      <td>0.367084</td>\n",
       "      <td>Western Europe</td>\n",
       "    </tr>\n",
       "    <tr>\n",
       "      <th>92</th>\n",
       "      <td>Norway</td>\n",
       "      <td>323802</td>\n",
       "      <td>4610820</td>\n",
       "      <td>100.0</td>\n",
       "      <td>7.4880</td>\n",
       "      <td>0.952487</td>\n",
       "      <td>73.200783</td>\n",
       "      <td>0.955750</td>\n",
       "      <td>0.134533</td>\n",
       "      <td>0.263218</td>\n",
       "      <td>Western Europe</td>\n",
       "    </tr>\n",
       "  </tbody>\n",
       "</table>\n",
       "</div>"
      ],
      "text/plain": [
       "   country_name     area  population  literacy  happiness_score  \\\n",
       "5     Australia  7686850    20264082     100.0           7.2228   \n",
       "31      Denmark    43094     5450661     100.0           7.6456   \n",
       "38      Finland   338145     5231372     100.0           7.8087   \n",
       "72   Luxembourg     2586      474413     100.0           7.2375   \n",
       "92       Norway   323802     4610820     100.0           7.4880   \n",
       "\n",
       "    social_support  healthy_life_expectancy  freedom_of_choices  generosity  \\\n",
       "5         0.944855                73.604538            0.915432    0.190460   \n",
       "31        0.955991                72.402504            0.951444    0.066202   \n",
       "38        0.954330                71.900825            0.949172   -0.059482   \n",
       "72        0.906912                72.599998            0.905636   -0.004621   \n",
       "92        0.952487                73.200783            0.955750    0.134533   \n",
       "\n",
       "    perception_of_corruption           world_region  \n",
       "5                   0.415169  North America and ANZ  \n",
       "31                  0.168489         Western Europe  \n",
       "38                  0.195445         Western Europe  \n",
       "72                  0.367084         Western Europe  \n",
       "92                  0.263218         Western Europe  "
      ]
     },
     "execution_count": 10,
     "metadata": {},
     "output_type": "execute_result"
    }
   ],
   "source": [
    "country_features.literacy=country_features.literacy.str.replace(',','.').astype(float)\n",
    "country_features[country_features.literacy==100]"
   ]
  },
  {
   "cell_type": "code",
   "execution_count": 11,
   "metadata": {
    "tags": []
   },
   "outputs": [
    {
     "name": "stdout",
     "output_type": "stream",
     "text": [
      "South Asia - Afghanistan(2.566900015)\n",
      "Central and Eastern Europe - Albania(4.882699966000001)\n",
      "Middle East and North Africa - Algeria(5.005099773)\n",
      "Latin America and Caribbean - Argentina(5.974699974)\n",
      "Commonwealth of Independent States - Armenia(4.676799774)\n",
      "North America and ANZ - Australia(7.222799778)\n",
      "Western Europe - Austria(7.294199944)\n",
      "Commonwealth of Independent States - Azerbaijan(5.164800167)\n",
      "Middle East and North Africa - Bahrain(6.227300167)\n",
      "South Asia - Bangladesh(4.832799911)\n",
      "Commonwealth of Independent States - Belarus(5.539899826)\n",
      "Western Europe - Belgium(6.863500117999999)\n",
      "Sub-Saharan Africa - Benin(5.21600008)\n",
      "Latin America and Caribbean - Bolivia(5.747499942999999)\n",
      "Sub-Saharan Africa - Botswana(3.478899956)\n",
      "Latin America and Caribbean - Brazil(6.375599861)\n",
      "Central and Eastern Europe - Bulgaria(5.101500034)\n",
      "nan - Burkina faso(nan)\n",
      "Sub-Saharan Africa - Burundi(3.775300026)\n",
      "Southeast Asia - Cambodia(4.8484001160000005)\n",
      "Sub-Saharan Africa - Cameroon(5.084899902)\n",
      "North America and ANZ - Canada(7.23210001)\n",
      "Sub-Saharan Africa - Chad(4.422699928)\n",
      "Latin America and Caribbean - Chile(6.228499889)\n",
      "East Asia - China(5.123899937)\n",
      "Latin America and Caribbean - Colombia(6.163400172999999)\n",
      "Sub-Saharan Africa - Comoros(4.288599968)\n",
      "nan - Costa rica(nan)\n",
      "Central and Eastern Europe - Croatia(5.504700184)\n",
      "Western Europe - Cyprus(6.15899992)\n",
      "nan - Czech republic(nan)\n",
      "Western Europe - Denmark(7.645599842)\n",
      "nan - Dominican republic(nan)\n",
      "Latin America and Caribbean - Ecuador(5.925199986)\n",
      "Middle East and North Africa - Egypt(4.151400089)\n",
      "nan - El salvador(nan)\n",
      "Central and Eastern Europe - Estonia(6.0218000410000005)\n",
      "Sub-Saharan Africa - Ethiopia(4.186200142)\n",
      "Western Europe - Finland(7.808700085)\n",
      "Western Europe - France(6.663799762999999)\n",
      "Sub-Saharan Africa - Gabon(4.829299927)\n",
      "Commonwealth of Independent States - Georgia(4.672599792)\n",
      "Western Europe - Germany(7.075799942000001)\n",
      "Sub-Saharan Africa - Ghana(5.1479997630000005)\n",
      "Western Europe - Greece(5.514999866)\n",
      "Latin America and Caribbean - Guatemala(6.398900032)\n",
      "Sub-Saharan Africa - Guinea(4.949299812)\n",
      "Latin America and Caribbean - Haiti(3.720799923)\n",
      "Latin America and Caribbean - Honduras(5.953199862999999)\n",
      "Central and Eastern Europe - Hungary(6.000400066)\n",
      "Western Europe - Iceland(7.504499912000001)\n",
      "South Asia - India(3.573299885)\n",
      "Southeast Asia - Indonesia(5.285600185)\n",
      "Middle East and North Africa - Iran(4.672399998)\n",
      "Middle East and North Africa - Iraq(4.7848000530000006)\n",
      "Western Europe - Ireland(7.093699932000001)\n",
      "Middle East and North Africa - Israel(7.128600121)\n",
      "Western Europe - Italy(6.38740015)\n",
      "Latin America and Caribbean - Jamaica(5.889800072000001)\n",
      "East Asia - Japan(5.870800018)\n",
      "Middle East and North Africa - Jordan(4.6333999630000005)\n",
      "Commonwealth of Independent States - Kazakhstan(6.0578999520000005)\n",
      "Sub-Saharan Africa - Kenya(4.583000183)\n",
      "Middle East and North Africa - Kuwait(6.102099895)\n",
      "Commonwealth of Independent States - Kyrgyzstan(5.541500092000001)\n",
      "Southeast Asia - Laos(4.888599873)\n",
      "Central and Eastern Europe - Latvia(5.949999809)\n",
      "Middle East and North Africa - Lebanon(4.771500111)\n",
      "Sub-Saharan Africa - Lesotho(3.652800083)\n",
      "Sub-Saharan Africa - Liberia(4.557899952)\n",
      "Middle East and North Africa - Libya(5.488800049)\n",
      "Central and Eastern Europe - Lithuania(6.215499877999999)\n",
      "Western Europe - Luxembourg(7.237500191)\n",
      "Central and Eastern Europe - Macedonia(5.1598000530000006)\n",
      "Sub-Saharan Africa - Madagascar(4.165599823)\n",
      "Sub-Saharan Africa - Malawi(3.538000107)\n",
      "Southeast Asia - Malaysia(5.384300232)\n",
      "Sub-Saharan Africa - Mali(4.729300021999999)\n",
      "Western Europe - Malta(6.772799968999999)\n",
      "Sub-Saharan Africa - Mauritania(4.374599934)\n",
      "Sub-Saharan Africa - Mauritius(6.101299762999999)\n",
      "Latin America and Caribbean - Mexico(6.465000152999999)\n",
      "Commonwealth of Independent States - Moldova(5.607500076)\n",
      "East Asia - Mongolia(5.456200123)\n",
      "Middle East and North Africa - Morocco(5.094799995)\n",
      "Sub-Saharan Africa - Mozambique(4.623600006)\n",
      "South Asia - Nepal(5.137199879)\n",
      "Western Europe - Netherlands(7.448900223)\n",
      "nan - New zealand(nan)\n",
      "Latin America and Caribbean - Nicaragua(6.13710022)\n",
      "Sub-Saharan Africa - Niger(4.909599781)\n",
      "Sub-Saharan Africa - Nigeria(4.724100113)\n",
      "Western Europe - Norway(7.487999916000001)\n",
      "South Asia - Pakistan(5.69329977)\n",
      "Latin America and Caribbean - Panama(6.304800033999999)\n",
      "Latin America and Caribbean - Paraguay(5.692100048)\n",
      "Latin America and Caribbean - Peru(5.796800137000001)\n",
      "Southeast Asia - Philippines(6.006000042)\n",
      "Central and Eastern Europe - Poland(6.1862998010000005)\n",
      "Western Europe - Portugal(5.9109001160000005)\n",
      "Central and Eastern Europe - Romania(6.123700142000001)\n",
      "Commonwealth of Independent States - Russia(5.546000004)\n",
      "Sub-Saharan Africa - Rwanda(3.312299967)\n",
      "nan - Saudi arabia(nan)\n",
      "Sub-Saharan Africa - Senegal(4.980800152)\n",
      "Central and Eastern Europe - Serbia(5.77820015)\n",
      "nan - Sierra leone(nan)\n",
      "Southeast Asia - Singapore(6.377099991000001)\n",
      "Central and Eastern Europe - Slovakia(6.280600071)\n",
      "Central and Eastern Europe - Slovenia(6.363399982000001)\n",
      "nan - South africa(nan)\n",
      "Western Europe - Spain(6.4008998870000005)\n",
      "nan - Sri lanka(nan)\n",
      "Sub-Saharan Africa - Swaziland(4.308100224)\n",
      "Western Europe - Sweden(7.353499889)\n",
      "Western Europe - Switzerland(7.559899807000001)\n",
      "Commonwealth of Independent States - Tajikistan(5.555699825)\n",
      "Sub-Saharan Africa - Tanzania(3.476200104)\n",
      "Southeast Asia - Thailand(5.9987998010000005)\n",
      "Sub-Saharan Africa - Togo(4.187200069)\n",
      "Middle East and North Africa - Tunisia(4.392199993)\n",
      "Middle East and North Africa - Turkey(5.131800175)\n",
      "Commonwealth of Independent States - Turkmenistan(5.119100093999999)\n",
      "Sub-Saharan Africa - Uganda(4.43200016)\n",
      "Commonwealth of Independent States - Ukraine(4.56069994)\n",
      "nan - United arab emirates(nan)\n",
      "nan - United kingdom(nan)\n",
      "nan - United states(nan)\n",
      "Latin America and Caribbean - Uruguay(6.440100192999999)\n",
      "Commonwealth of Independent States - Uzbekistan(6.257599831)\n",
      "Latin America and Caribbean - Venezuela(5.053199768)\n",
      "Southeast Asia - Vietnam(5.353499889)\n",
      "Middle East and North Africa - Yemen(3.527400017)\n",
      "Sub-Saharan Africa - Zambia(3.759399891)\n",
      "Sub-Saharan Africa - Zimbabwe(3.2992000580000003)\n"
     ]
    }
   ],
   "source": [
    "country_features[['world_region','country_name','happiness_score']].apply((lambda x:print(f'{x.world_region} - {x.country_name}({x.happiness_score})')) ,axis=1);"
   ]
  },
  {
   "cell_type": "markdown",
   "metadata": {},
   "source": [
    "What is the global average?"
   ]
  },
  {
   "cell_type": "code",
   "execution_count": 12,
   "metadata": {
    "tags": []
   },
   "outputs": [
    {
     "name": "stdout",
     "output_type": "stream",
     "text": [
      "81.85112781954888\n",
      "90.9\n"
     ]
    }
   ],
   "source": [
    "print(country_features.literacy.mean())\n",
    "print(country_features.literacy.median())"
   ]
  },
  {
   "cell_type": "markdown",
   "metadata": {},
   "source": [
    "Calculate the proportion of countries with a literacy level below 50%. Print the value in percentage, formatted with 2 decimals."
   ]
  },
  {
   "cell_type": "code",
   "execution_count": 13,
   "metadata": {
    "tags": []
   },
   "outputs": [
    {
     "data": {
      "text/plain": [
       "0.12"
      ]
     },
     "execution_count": 13,
     "metadata": {},
     "output_type": "execute_result"
    }
   ],
   "source": [
    "round(country_features[country_features.literacy<50].country_name.nunique()/country_features.country_name.nunique(),2)"
   ]
  },
  {
   "cell_type": "markdown",
   "metadata": {},
   "source": [
    "Print the raw number and the percentage of world population that is illiterate."
   ]
  },
  {
   "cell_type": "code",
   "execution_count": 14,
   "metadata": {
    "tags": []
   },
   "outputs": [
    {
     "name": "stdout",
     "output_type": "stream",
     "text": [
      "Illiterate population: 580572946 (0.094%)\n"
     ]
    }
   ],
   "source": [
    "illiterate_countries=country_features[country_features.literacy<50].country_name\n",
    "illiterate_population=country_features[country_features.country_name.isin(illiterate_countries)].population.sum()\n",
    "illiterate_population/country_features.population.sum()\n",
    "print('Illiterate population: {} ({:.3f}%)'.format(illiterate_population, illiterate_population/country_features.population.sum()))\n"
   ]
  },
  {
   "cell_type": "markdown",
   "metadata": {},
   "source": [
    "## Task 5: Population density\n",
    "\n",
    "Add to the dataframe a new field called *population_density* computed by dividing *population* by *area*."
   ]
  },
  {
   "cell_type": "code",
   "execution_count": 15,
   "metadata": {
    "tags": []
   },
   "outputs": [],
   "source": [
    "country_features['population_density']=country_features.population/country_features.area"
   ]
  },
  {
   "cell_type": "markdown",
   "metadata": {},
   "source": [
    "What is the happiness score of the 3 countries with the lowest population density?"
   ]
  },
  {
   "cell_type": "code",
   "execution_count": 16,
   "metadata": {
    "tags": []
   },
   "outputs": [
    {
     "data": {
      "text/html": [
       "<div>\n",
       "<style scoped>\n",
       "    .dataframe tbody tr th:only-of-type {\n",
       "        vertical-align: middle;\n",
       "    }\n",
       "\n",
       "    .dataframe tbody tr th {\n",
       "        vertical-align: top;\n",
       "    }\n",
       "\n",
       "    .dataframe thead th {\n",
       "        text-align: right;\n",
       "    }\n",
       "</style>\n",
       "<table border=\"1\" class=\"dataframe\">\n",
       "  <thead>\n",
       "    <tr style=\"text-align: right;\">\n",
       "      <th></th>\n",
       "      <th>country_name</th>\n",
       "      <th>happiness_score</th>\n",
       "      <th>population_density</th>\n",
       "    </tr>\n",
       "  </thead>\n",
       "  <tbody>\n",
       "    <tr>\n",
       "      <th>83</th>\n",
       "      <td>Mongolia</td>\n",
       "      <td>5.4562</td>\n",
       "      <td>1.810751</td>\n",
       "    </tr>\n",
       "    <tr>\n",
       "      <th>5</th>\n",
       "      <td>Australia</td>\n",
       "      <td>7.2228</td>\n",
       "      <td>2.636201</td>\n",
       "    </tr>\n",
       "    <tr>\n",
       "      <th>14</th>\n",
       "      <td>Botswana</td>\n",
       "      <td>3.4789</td>\n",
       "      <td>2.731371</td>\n",
       "    </tr>\n",
       "  </tbody>\n",
       "</table>\n",
       "</div>"
      ],
      "text/plain": [
       "   country_name  happiness_score  population_density\n",
       "83     Mongolia           5.4562            1.810751\n",
       "5     Australia           7.2228            2.636201\n",
       "14     Botswana           3.4789            2.731371"
      ]
     },
     "execution_count": 16,
     "metadata": {},
     "output_type": "execute_result"
    }
   ],
   "source": [
    "country_features.sort_values(by='population_density')[['country_name','happiness_score','population_density']].head(3)"
   ]
  },
  {
   "cell_type": "markdown",
   "metadata": {},
   "source": [
    "## Task 6: Healty and happy?\n",
    "\n",
    "Plot in a scatter plot the happiness score (x) and healty life expectancy (y)."
   ]
  },
  {
   "cell_type": "code",
   "execution_count": 17,
   "metadata": {
    "tags": []
   },
   "outputs": [
    {
     "data": {
      "image/png": "[encoded data removed]",
      "text/plain": [
       "<Figure size 640x480 with 1 Axes>"
      ]
     },
     "metadata": {},
     "output_type": "display_data"
    }
   ],
   "source": [
    "import matplotlib.pyplot as plt\n",
    "country_features.plot(kind='scatter',x='happiness_score',y='healthy_life_expectancy')\n",
    "plt.show()"
   ]
  },
  {
   "cell_type": "markdown",
   "metadata": {},
   "source": [
    "Feel free to continue the exploration of the dataset! We'll release the solutions next week.\n",
    "\n",
    "----\n",
    "Enjoy EPFL and be happy, next year Switzerland must be #1."
   ]
  },
  {
   "cell_type": "markdown",
   "metadata": {},
   "source": [
    "# Further Analysis?"
   ]
  },
  {
   "cell_type": "markdown",
   "metadata": {
    "tags": []
   },
   "source": [
    "## 3 countributing factors to the happiness score"
   ]
  },
  {
   "cell_type": "code",
   "execution_count": 53,
   "metadata": {
    "tags": []
   },
   "outputs": [],
   "source": [
    "columns=['literacy', 'social_support', 'healthy_life_expectancy', 'freedom_of_choices', 'generosity', 'perception_of_corruption']\n",
    "columns.append('happiness_score')"
   ]
  },
  {
   "cell_type": "code",
   "execution_count": 54,
   "metadata": {
    "tags": []
   },
   "outputs": [
    {
     "data": {
      "text/html": [
       "<div>\n",
       "<style scoped>\n",
       "    .dataframe tbody tr th:only-of-type {\n",
       "        vertical-align: middle;\n",
       "    }\n",
       "\n",
       "    .dataframe tbody tr th {\n",
       "        vertical-align: top;\n",
       "    }\n",
       "\n",
       "    .dataframe thead th {\n",
       "        text-align: right;\n",
       "    }\n",
       "</style>\n",
       "<table border=\"1\" class=\"dataframe\">\n",
       "  <thead>\n",
       "    <tr style=\"text-align: right;\">\n",
       "      <th></th>\n",
       "      <th>happiness_score</th>\n",
       "    </tr>\n",
       "  </thead>\n",
       "  <tbody>\n",
       "    <tr>\n",
       "      <th>healthy_life_expectancy</th>\n",
       "      <td>0.787138</td>\n",
       "    </tr>\n",
       "    <tr>\n",
       "      <th>social_support</th>\n",
       "      <td>0.772333</td>\n",
       "    </tr>\n",
       "    <tr>\n",
       "      <th>literacy</th>\n",
       "      <td>0.602380</td>\n",
       "    </tr>\n",
       "  </tbody>\n",
       "</table>\n",
       "</div>"
      ],
      "text/plain": [
       "                         happiness_score\n",
       "healthy_life_expectancy         0.787138\n",
       "social_support                  0.772333\n",
       "literacy                        0.602380"
      ]
     },
     "execution_count": 54,
     "metadata": {},
     "output_type": "execute_result"
    }
   ],
   "source": [
    "correlation=country_features[columns].corr()[['happiness_score']].sort_values(by='happiness_score',ascending=False).iloc[1:4]\n",
    "correlation"
   ]
  },
  {
   "cell_type": "code",
   "execution_count": 56,
   "metadata": {
    "tags": []
   },
   "outputs": [
    {
     "data": {
      "image/png": "[encoded data removed]",
      "text/plain": [
       "<Figure size 640x480 with 1 Axes>"
      ]
     },
     "metadata": {},
     "output_type": "display_data"
    },
    {
     "data": {
      "image/png": "[encoded data removed]",
      "text/plain": [
       "<Figure size 640x480 with 1 Axes>"
      ]
     },
     "metadata": {},
     "output_type": "display_data"
    },
    {
     "data": {
      "image/png": "[encoded data removed]",
      "text/plain": [
       "<Figure size 640x480 with 1 Axes>"
      ]
     },
     "metadata": {},
     "output_type": "display_data"
    }
   ],
   "source": [
    "for col in ['healthy_life_expectancy','social_support','literacy']:\n",
    "    country_features.plot(kind='scatter',x='happiness_score',y=col)\n",
    "plt.show()"
   ]
  },
  {
   "cell_type": "markdown",
   "metadata": {},
   "source": [
    "## 3 countries with the highest score in all above factors"
   ]
  },
  {
   "cell_type": "code",
   "execution_count": 67,
   "metadata": {
    "tags": []
   },
   "outputs": [
    {
     "name": "stdout",
     "output_type": "stream",
     "text": [
      "Happiness score:\n",
      "Finland - 7.808700085\n",
      "Denmark - 7.645599842\n",
      "Switzerland - 7.559899807000001\n",
      "Iceland - 7.504499912000001\n",
      "Norway - 7.487999916000001\n",
      "Netherlands - 7.448900223\n",
      "Sweden - 7.353499889\n",
      "Austria - 7.294199944\n",
      "Luxembourg - 7.237500191\n",
      "Canada - 7.23210001\n",
      "\n",
      "Healthy life expectancy:\n",
      "Singapore - 76.80458069\n",
      "Japan - 75.00096893\n",
      "Spain - 74.40270996\n",
      "Switzerland - 74.10244751\n",
      "France - 73.80193329\n",
      "Cyprus - 73.70222473\n",
      "Australia - 73.60453796\n",
      "Italy - 73.60168457\n",
      "Canada - 73.60160065\n",
      "Norway - 73.20078278\n",
      "\n",
      "Social support:\n",
      "Iceland - 0.974669576\n",
      "Turkmenistan - 0.958966196\n",
      "Denmark - 0.955990791\n",
      "Finland - 0.954329729\n",
      "Norway - 0.952486575\n",
      "Australia - 0.944854617\n",
      "Switzerland - 0.942846596\n",
      "Ireland - 0.942081571\n",
      "Slovenia - 0.939575672\n",
      "Netherlands - 0.93913883\n",
      "\n",
      "Literacy:\n",
      "Luxembourg - 100.0\n",
      "Norway - 100.0\n",
      "Australia - 100.0\n",
      "Finland - 100.0\n",
      "Denmark - 100.0\n",
      "Czech republic - 99.9\n",
      "Iceland - 99.9\n",
      "Poland - 99.8\n",
      "Estonia - 99.8\n",
      "Latvia - 99.8\n"
     ]
    }
   ],
   "source": [
    "print('Happiness score:')\n",
    "countries_by_happiness=country_features.sort_values(by='happiness_score',ascending=False).head(10)\n",
    "countries_by_happiness.apply((lambda x:print(f'{x.country_name} - {x.happiness_score}')) ,axis=1);\n",
    "print('\\nHealthy life expectancy:')\n",
    "countries_by_life_expectancy=country_features.sort_values(by='healthy_life_expectancy',ascending=False).head(10)\n",
    "countries_by_life_expectancy.apply((lambda x:print(f'{x.country_name} - {x.healthy_life_expectancy}')) ,axis=1);\n",
    "print('\\nSocial support:')\n",
    "countries_by_social_support=country_features.sort_values(by='social_support',ascending=False).head(10)\n",
    "countries_by_social_support.apply((lambda x:print(f'{x.country_name} - {x.social_support}')) ,axis=1);\n",
    "print('\\nLiteracy:')\n",
    "countries_by_literacy=country_features.sort_values(by='literacy',ascending=False).head(10)\n",
    "countries_by_literacy.apply((lambda x:print(f'{x.country_name} - {x.literacy}')) ,axis=1);"
   ]
  },
  {
   "cell_type": "code",
   "execution_count": 73,
   "metadata": {
    "tags": []
   },
   "outputs": [],
   "source": [
    "best_countries=pd.merge(\n",
    "    pd.merge(\n",
    "        countries_by_happiness[['country_name','social_support']],\n",
    "        countries_by_life_expectancy[['country_name','literacy']],\n",
    "        how='inner',\n",
    "        on='country_name'\n",
    "    ),\n",
    "    pd.merge(\n",
    "        countries_by_happiness[['country_name','happiness_score']],\n",
    "        countries_by_life_expectancy[['country_name','healthy_life_expectancy']],\n",
    "        how='inner',\n",
    "        on='country_name'\n",
    "    ),\n",
    "    how='inner',\n",
    "    on='country_name'\n",
    ")"
   ]
  },
  {
   "cell_type": "code",
   "execution_count": 74,
   "metadata": {
    "tags": []
   },
   "outputs": [
    {
     "data": {
      "text/html": [
       "<div>\n",
       "<style scoped>\n",
       "    .dataframe tbody tr th:only-of-type {\n",
       "        vertical-align: middle;\n",
       "    }\n",
       "\n",
       "    .dataframe tbody tr th {\n",
       "        vertical-align: top;\n",
       "    }\n",
       "\n",
       "    .dataframe thead th {\n",
       "        text-align: right;\n",
       "    }\n",
       "</style>\n",
       "<table border=\"1\" class=\"dataframe\">\n",
       "  <thead>\n",
       "    <tr style=\"text-align: right;\">\n",
       "      <th></th>\n",
       "      <th>country_name</th>\n",
       "      <th>social_support</th>\n",
       "      <th>literacy</th>\n",
       "      <th>happiness_score</th>\n",
       "      <th>healthy_life_expectancy</th>\n",
       "    </tr>\n",
       "  </thead>\n",
       "  <tbody>\n",
       "    <tr>\n",
       "      <th>0</th>\n",
       "      <td>Switzerland</td>\n",
       "      <td>0.942847</td>\n",
       "      <td>99.0</td>\n",
       "      <td>7.5599</td>\n",
       "      <td>74.102448</td>\n",
       "    </tr>\n",
       "    <tr>\n",
       "      <th>1</th>\n",
       "      <td>Norway</td>\n",
       "      <td>0.952487</td>\n",
       "      <td>100.0</td>\n",
       "      <td>7.4880</td>\n",
       "      <td>73.200783</td>\n",
       "    </tr>\n",
       "    <tr>\n",
       "      <th>2</th>\n",
       "      <td>Canada</td>\n",
       "      <td>0.927177</td>\n",
       "      <td>97.0</td>\n",
       "      <td>7.2321</td>\n",
       "      <td>73.601601</td>\n",
       "    </tr>\n",
       "  </tbody>\n",
       "</table>\n",
       "</div>"
      ],
      "text/plain": [
       "  country_name  social_support  literacy  happiness_score  \\\n",
       "0  Switzerland        0.942847      99.0           7.5599   \n",
       "1       Norway        0.952487     100.0           7.4880   \n",
       "2       Canada        0.927177      97.0           7.2321   \n",
       "\n",
       "   healthy_life_expectancy  \n",
       "0                74.102448  \n",
       "1                73.200783  \n",
       "2                73.601601  "
      ]
     },
     "execution_count": 74,
     "metadata": {},
     "output_type": "execute_result"
    }
   ],
   "source": [
    "best_countries"
   ]
  },
  {
   "cell_type": "code",
   "execution_count": null,
   "metadata": {},
   "outputs": [],
   "source": []
  }
 ],
 "metadata": {
  "kernelspec": {
   "display_name": "Python 3 (ipykernel)",
   "language": "python",
   "name": "python3"
  },
  "language_info": {
   "codemirror_mode": {
    "name": "ipython",
    "version": 3
   },
   "file_extension": ".py",
   "mimetype": "text/x-python",
   "name": "python",
   "nbconvert_exporter": "python",
   "pygments_lexer": "ipython3",
   "version": "3.9.18"
  }
 },
 "nbformat": 4,
 "nbformat_minor": 4
}
