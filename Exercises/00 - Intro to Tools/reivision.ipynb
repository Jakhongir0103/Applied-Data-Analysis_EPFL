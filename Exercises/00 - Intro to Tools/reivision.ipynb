{
 "cells": [
  {
   "cell_type": "code",
   "execution_count": 1,
   "id": "f277a467-02a2-4eba-a114-124df6607210",
   "metadata": {
    "tags": []
   },
   "outputs": [],
   "source": [
    "import collections"
   ]
  },
  {
   "cell_type": "code",
   "execution_count": 6,
   "id": "ffa0b076-eddf-45b4-969c-e074c5be9b49",
   "metadata": {
    "tags": []
   },
   "outputs": [],
   "source": [
    "students=collections.defaultdict(list)\n",
    "students['name'].extend(['John','Jack','Zeyad'])\n",
    "students['age'].extend([21, 31, 54])"
   ]
  },
  {
   "cell_type": "code",
   "execution_count": 7,
   "id": "86855b4f-3f7b-4cc2-b8d6-4989e64a7af9",
   "metadata": {
    "tags": []
   },
   "outputs": [
    {
     "data": {
      "text/plain": [
       "defaultdict(list, {'name': ['John', 'Jack', 'Zeyad'], 'age': [21, 31, 54]})"
      ]
     },
     "execution_count": 7,
     "metadata": {},
     "output_type": "execute_result"
    }
   ],
   "source": [
    "students"
   ]
  },
  {
   "cell_type": "code",
   "execution_count": 11,
   "id": "35270d8e-5ae4-4f18-a0c5-23073f5a2c06",
   "metadata": {
    "tags": []
   },
   "outputs": [
    {
     "data": {
      "text/plain": [
       "Counter({'apple': 1})"
      ]
     },
     "execution_count": 11,
     "metadata": {},
     "output_type": "execute_result"
    }
   ],
   "source": [
    "count=collections.Counter()\n",
    "count['apple']+=1\n",
    "count"
   ]
  },
  {
   "cell_type": "code",
   "execution_count": 14,
   "id": "ef7ea604-b6e6-4b48-a856-40abe81459f8",
   "metadata": {
    "tags": []
   },
   "outputs": [
    {
     "data": {
      "text/plain": [
       "Counter({1: 3, 2: 4, 3: 3, 4: 3})"
      ]
     },
     "execution_count": 14,
     "metadata": {},
     "output_type": "execute_result"
    }
   ],
   "source": [
    "numbers=[1,2,3,4,3,2,4,1,2,3,4,2,1]\n",
    "answer=collections.Counter(numbers)\n",
    "answer"
   ]
  },
  {
   "cell_type": "code",
   "execution_count": null,
   "id": "a4151e0b-0cc3-4faa-99c6-37dd7793a34a",
   "metadata": {},
   "outputs": [],
   "source": []
  },
  {
   "cell_type": "code",
   "execution_count": null,
   "id": "3e0f94b8-c275-4d90-901b-50349d17730e",
   "metadata": {},
   "outputs": [],
   "source": []
  },
  {
   "cell_type": "markdown",
   "id": "1fd648d4-b206-43e8-822a-3f2c14d44b80",
   "metadata": {},
   "source": [
    "## Files"
   ]
  },
  {
   "cell_type": "code",
   "execution_count": 16,
   "id": "575d520f-37c1-4c70-973f-8fa66d33c59d",
   "metadata": {
    "tags": []
   },
   "outputs": [
    {
     "name": "stdout",
     "output_type": "stream",
     "text": [
      "# 00 - Intro to Tools\n",
      "\n",
      "This tutorial should get you up and running with your Python environment, plus give you the basics of Jupyter notebooks. Please complete part 1 before the exercise session on Friday, September 22rd. \n",
      "\n",
      "## Disclaimer - Important\n",
      "\n",
      "We don't care which platform you use to produce the Jupyter Notebook files that you will submit for grading. These instructions will help you get started with Anaconda's local installation, but feel free to use [Google Colab](https://colab.research.google.com/notebooks/intro.ipynb) (or [EPFL Noto](https://noto.epfl.ch/)). It is part of your responsibility to have a working environment for the homework and final exam.\n",
      "\n",
      "\n",
      "## Part 1: Setting up your environment (IF you want a local/offline installation)\n",
      "\n",
      "* Install Anaconda, Python 3.9 version: [Anaconda](https://www.anaconda.com/distribution/#download-section).\n",
      "\n",
      "*For Linux (x86)*: Open a terminal, go to the Downloads folder and execute:\n",
      "\n",
      "```\n",
      "bash ./Anaconda3-2022.05-Linux-x86_64.sh -b -p $HOME/Anaconda3\n",
      "```\n",
      "\n",
      "Check that `conda` is in your path. If `which conda` returns something like `/home/YOURUSERNAME/Anaconda3/bin/conda`, you are good to go. Otherwise execute\n",
      "`echo 'export PATH=\"$HOME/Anaconda3/bin/:$PATH\"' >> $HOME/.bashrc`. Next close the terminal and open a new window. Check `which conda` again.\n",
      "\n",
      "* IF conda is already installed, run `conda update conda`.\n",
      "\n",
      "---\n",
      "\n",
      "\n",
      "* Install Git:\n",
      "\n",
      "*For Ubuntu/Debian*: `sudo apt-get install git`\n",
      "\n",
      "*For Fedora*: `sudo dnf install git`\n",
      "\n",
      "*For Windows*:\n",
      "Install it following this download link: [Git](https://git-scm.com/download/win). To execute Git commands, use the Git bash: home key - type \"git bash\" - enter.\n",
      "\n",
      "[Git cheatsheet](http://rogerdudler.github.io/git-guide/)\n",
      "\n",
      "---\n",
      "\n",
      "* Clone the tutorials repo into a local folder:\n",
      "\n",
      "```\n",
      "git clone https://github.com/epfl-ada/2023 ADA2023\n",
      "cd ADA2023\n",
      "```\n",
      "<!-- \n",
      "* or pull new changes if you already have it (from the local folder):\n",
      "\n",
      "```\n",
      "git pull\n",
      "``` -->\n",
      "\n",
      "---\n",
      "\n",
      "* Create a new environment:\n",
      "\n",
      "*For Windows*: \n",
      "To execute Anaconda commands, use the Anaconda prompt: home key - type \"anaconda prompt\" - enter.\n",
      "Also note that while it is possible to use Git commands on Anaconda prompt, we advise against it.\n",
      "\n",
      "```\n",
      "conda create -y -n ada python=3.9 scipy pandas numpy matplotlib\n",
      "```\n",
      "\n",
      "* Activate it:\n",
      "    \n",
      "```\n",
      "conda activate ada\n",
      "```\n",
      "\n",
      "* List your environments:\n",
      "    \n",
      "```\n",
      "conda env list\n",
      "```\n",
      "\n",
      "* To deactivate the current environment and remove an environment. (Do not run the remove command, as it will remove the environment you just installed ...)\n",
      "    \n",
      "```\n",
      "conda deactivate\n",
      "conda remove --name ada --all\n",
      "```\n",
      "\n",
      "[more info on managing environments](https://conda.io/docs/user-guide/tasks/manage-environments.html)\n",
      "\n",
      "* Install [JupyterLab](https://jupyterlab.readthedocs.io/en/stable/) using conda (the ada environment needs to be activated):\n",
      "    \n",
      "```\n",
      "conda install jupyterlab bokeh seaborn nb_conda_kernels\n",
      "```\n",
      "\n",
      "* [Optional] Install some extensions using the Python package manager:\n",
      "    \n",
      "```\n",
      "pip install jupyter_nbextensions_configurator\n",
      "```\n",
      "\n",
      "---\n",
      "\n",
      "* Run a Jupyter notebook server (be sure to be at the tutorial's folder -- `cd path/to/folder/`). A browser window should open up for you.\n",
      "\n",
      "```\n",
      "jupyter lab\n",
      "```\n",
      "\n",
      "---\n",
      "\n",
      "\n",
      "* To shut down the server, close the window on your browser, then do CTRL+C in the terminal.\n",
      "\n",
      "## Part 2: Overview of Jupyter notebooks\n",
      "\n",
      "In [this tutorial](Intro%20to%20Jupyter%20Notebooks.ipynb) we explore the functionalities of the Jupyter notebooks. In this repository you can find the notebook we use during the tutorial.\n",
      "\n",
      "Credits to [saloot](https://github.com/saloot) and [Michele Catasta](https://github.com/pirroh), on whose material this version is based.\n",
      "\n",
      "## Part 3: Good coding practices - Python\n",
      "\n",
      "This is a small guide on how-to-code. Although it's quite succint, there are a few things you should know.\n",
      "Please read [this tutorial](good_coding_practices.ipynb).\n",
      "\n",
      "\n",
      "## Part 4: Homework 0\n",
      "\n",
      "Access Homework 0 (OPTIONAL and UNGRADED) [here](https://github.com/epfl-ada/2023/tree/main/Homework/00%20-%20Optional%20Homework). Clone the repo locally and take the opportunity to freshen up your Python skills, or to acquire them.\n",
      "\n",
      "## Common issues\n",
      "\n",
      "\n",
      "* IF when activating the environment you get an error that look like:\n",
      "\n",
      "```\n",
      "CommandNotFoundError: Your shell has not been properly configured to use 'conda activate'.\n",
      "```\n",
      "\n",
      "Follow the instructions as select the shell that you are currently using (powershell in Windows, typically bash or zsh on Linux and OSX).\n",
      "\n",
      "* IF you get an error about packages requiring cython and PyHamcrest, try the following:\n",
      "```\n",
      "pip install cython PyHamcrest jupyter_nbextensions_configurator\n",
      "```\n",
      "\n",
      "* IF you have warnings about missing fonts, in Ubuntu the missing fonts are in `fonts-humor-sans` (to install them: `sudo apt install fonts-humor-sans`). You may also have to clean `matplotlib`'s font cache (~/.cache/matplotlib/) and restart your current Jupyter session, for matplotlib to take notice of the changes.\n",
      "\n",
      "\n",
      "* IF you have problems with widgets (conda version might not be the latest one!):\n",
      "    \n",
      "```\n",
      "pip install --upgrade ipywidgets\n",
      "    \n",
      "jupyter nbextension enable --py widgetsnbextension\n",
      "    \n",
      "jupyter nbextension enable --py --sys-prefix widgetsnbextension\n",
      "```\n",
      "\n",
      "* IF you still have problems with widgets:\n",
      "\n",
      "```\n",
      "jupyter serverextension enable --sys-prefix jupyter_nbextensions_configurator nb_conda nb_anacondacloud nbpresent\n",
      "```\n",
      "\n",
      "* ... and if you STILL have problems with widgets:\n",
      "\n",
      "```\n",
      "conda install nodejs\n",
      "jupyter labextension install @jupyter-widgets/jupyterlab-manager\n",
      "```\n",
      "Do not forget to restart the kernel (or jupyter lab itself) to apply all the changes.\n",
      "\n",
      "\n",
      "### Credits to: [Tiziano Piccardi](https://piccardi.me/)\n",
      "\n"
     ]
    }
   ],
   "source": [
    "with open('./README.md','r') as file:\n",
    "    print(file.read())"
   ]
  },
  {
   "cell_type": "code",
   "execution_count": null,
   "id": "9a3bb2aa-a129-4f88-98d8-936d9e210a83",
   "metadata": {},
   "outputs": [],
   "source": []
  }
 ],
 "metadata": {
  "kernelspec": {
   "display_name": "Python [conda env:ada] *",
   "language": "python",
   "name": "conda-env-ada-py"
  },
  "language_info": {
   "codemirror_mode": {
    "name": "ipython",
    "version": 3
   },
   "file_extension": ".py",
   "mimetype": "text/x-python",
   "name": "python",
   "nbconvert_exporter": "python",
   "pygments_lexer": "ipython3",
   "version": "3.9.18"
  }
 },
 "nbformat": 4,
 "nbformat_minor": 5
}
