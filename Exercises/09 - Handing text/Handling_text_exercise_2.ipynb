{
 "cells": [
  {
   "cell_type": "code",
   "execution_count": 1,
   "metadata": {
    "tags": []
   },
   "outputs": [],
   "source": [
    "import numpy as np\n",
    "import pandas as pd\n",
    "import matplotlib.pyplot as plt\n",
    "%matplotlib inline\n",
    "from sklearn.linear_model import LogisticRegressionCV\n",
    "from sklearn.decomposition import TruncatedSVD\n",
    "from sklearn.feature_extraction.text import TfidfVectorizer\n",
    "from helpers.helper_functions import *"
   ]
  },
  {
   "cell_type": "markdown",
   "metadata": {},
   "source": [
    "# Handling text 2 exercise\n",
    "[Handling text exercisses ADApted drom ADA 2018 final exam]\n",
    "\n",
    "The Sheldon Cooper we all know and love (OK, some of us might not know him, and some might not love him) from the TV series \"The Big Bang Theory\" has gotten into an argument with Leonard from the same TV show. Sheldon insists that he knows the show better than anyone, and keeps making various claims about the show, which neither of them know how to prove or disprove. The two of them have reached out to you ladies and gentlemen, as data scientists, to help them. You will be given the full script of the series, with information on the episode, the scene, the person saying each dialogue line, and the dialogue lines themselves.\n",
    "\n",
    "Leonard has challenged several of Sheldon's claims about the show, and throughout this exam you will see some of those and you will get to prove or disprove them, but remember: sometimes, we can neither prove a claim, nor disprove it!"
   ]
  },
  {
   "cell_type": "markdown",
   "metadata": {},
   "source": [
    "## Task A: Picking up the shovel\n",
    "\n",
    "**Note: You will use the data you preprocess in this task in all the subsequent ones.**\n",
    "\n",
    "Our friends' argument concerns the entire show. We have given you a file in the `data/` folder that contains the script of every single episode. New episodes are indicated by '>>', new scenes by '>', and the rest of the lines are dialogue lines. Some lines are said by multiple people (for example, lines indicated by 'All' or 'Together'); **you must discard these lines**, for the sake of simplicity. However, you do not need to do it for Q1 in this task -- you'll take care of it when you solve Q2.\n",
    "\n",
    "**Q1**. Your first task is to extract all lines of dialogue in each scene and episode, creating a dataframe where each row has the episode and scene where a dialogue line was said, the character who said it, and the line itself. You do not need to extract the proper name of the episode (e.g. episode 1 can appear as \"Series 01 Episode 01 - Pilot Episode\", and doesn't need to appear as \"Pilot Episode\"). Then, answer the following question: In total, how many scenes are there in each season? We're not asking about unique scenes; the same location appearing in two episodes counts as two scenes. You can use a Pandas dataframe with a season column and a scene count column as the response.\n",
    "\n",
    "**Note: The data refers to seasons as \"series\".**"
   ]
  },
  {
   "cell_type": "code",
   "execution_count": 9,
   "metadata": {},
   "outputs": [],
   "source": [
    "with open('data/all_scripts.txt') as f:\n",
    "    lines = f.readlines()"
   ]
  },
  {
   "cell_type": "code",
   "execution_count": 10,
   "metadata": {},
   "outputs": [],
   "source": [
    "df_scritp = pd.DataFrame(columns=['episode','scene','dialogue'])\n",
    "for line in lines:\n",
    "    line = line.replace('\\n','').replace('\\xa0',' ')\n",
    "    if line.startswith('>>'):\n",
    "        episode = line.replace('>>','')\n",
    "    elif line.startswith('>'):\n",
    "        scene = line.replace('>','')\n",
    "    else:\n",
    "        df_scritp = pd.concat([df_scritp, pd.DataFrame([[episode, scene, line]],columns=['episode','scene','dialogue'])])"
   ]
  },
  {
   "cell_type": "code",
   "execution_count": null,
   "metadata": {},
   "outputs": [
    {
     "data": {
      "text/html": [
       "<div>\n",
       "<style scoped>\n",
       "    .dataframe tbody tr th:only-of-type {\n",
       "        vertical-align: middle;\n",
       "    }\n",
       "\n",
       "    .dataframe tbody tr th {\n",
       "        vertical-align: top;\n",
       "    }\n",
       "\n",
       "    .dataframe thead th {\n",
       "        text-align: right;\n",
       "    }\n",
       "</style>\n",
       "<table border=\"1\" class=\"dataframe\">\n",
       "  <thead>\n",
       "    <tr style=\"text-align: right;\">\n",
       "      <th></th>\n",
       "      <th>episode</th>\n",
       "      <th>scene</th>\n",
       "      <th>dialogue</th>\n",
       "    </tr>\n",
       "  </thead>\n",
       "  <tbody>\n",
       "    <tr>\n",
       "      <th>0</th>\n",
       "      <td>Series 01 Episode 01 – Pilot Episode</td>\n",
       "      <td>A corridor at a sperm bank.</td>\n",
       "      <td>Sheldon: So if a photon is directed through a ...</td>\n",
       "    </tr>\n",
       "    <tr>\n",
       "      <th>0</th>\n",
       "      <td>Series 01 Episode 01 – Pilot Episode</td>\n",
       "      <td>A corridor at a sperm bank.</td>\n",
       "      <td>Leonard: Agreed, what’s your point?</td>\n",
       "    </tr>\n",
       "    <tr>\n",
       "      <th>0</th>\n",
       "      <td>Series 01 Episode 01 – Pilot Episode</td>\n",
       "      <td>A corridor at a sperm bank.</td>\n",
       "      <td>Sheldon: There’s no point, I just think it’s a...</td>\n",
       "    </tr>\n",
       "    <tr>\n",
       "      <th>0</th>\n",
       "      <td>Series 01 Episode 01 – Pilot Episode</td>\n",
       "      <td>A corridor at a sperm bank.</td>\n",
       "      <td>Leonard: Excuse me?</td>\n",
       "    </tr>\n",
       "    <tr>\n",
       "      <th>0</th>\n",
       "      <td>Series 01 Episode 01 – Pilot Episode</td>\n",
       "      <td>A corridor at a sperm bank.</td>\n",
       "      <td>Receptionist: Hang on.</td>\n",
       "    </tr>\n",
       "  </tbody>\n",
       "</table>\n",
       "</div>"
      ],
      "text/plain": [
       "                                 episode                         scene  \\\n",
       "0   Series 01 Episode 01 – Pilot Episode   A corridor at a sperm bank.   \n",
       "0   Series 01 Episode 01 – Pilot Episode   A corridor at a sperm bank.   \n",
       "0   Series 01 Episode 01 – Pilot Episode   A corridor at a sperm bank.   \n",
       "0   Series 01 Episode 01 – Pilot Episode   A corridor at a sperm bank.   \n",
       "0   Series 01 Episode 01 – Pilot Episode   A corridor at a sperm bank.   \n",
       "\n",
       "                                            dialogue  \n",
       "0  Sheldon: So if a photon is directed through a ...  \n",
       "0                Leonard: Agreed, what’s your point?  \n",
       "0  Sheldon: There’s no point, I just think it’s a...  \n",
       "0                                Leonard: Excuse me?  \n",
       "0                             Receptionist: Hang on.  "
      ]
     },
     "execution_count": 4,
     "metadata": {},
     "output_type": "execute_result"
    }
   ],
   "source": [
    "df_scritp.head()"
   ]
  },
  {
   "cell_type": "markdown",
   "metadata": {},
   "source": [
    "**Q2**. Now, let's define two sets of characters: all the characters, and recurrent characters. Recurrent characters are those who appear in more than one episode. For the subsequent sections, you will need to have a list of recurrent characters. Assume that there are no two _named characters_ (i.e. characters who have actual names and aren't referred to generically as \"little girl\", \"grumpy grandpa\", etc.) with the same name, i.e. there are no two Sheldons, etc. Generate a list of recurrent characters who have more than 90 dialogue lines in total, and then take a look at the list you have. If you've done this correctly, you should have a list of 20 names. However, one of these is clearly not a recurrent character. Manually remove that one, and print out your list of recurrent characters. To remove that character, pay attention to the _named character_ assumption we gave you earlier on. **For all the subsequent questions, you must only keep the dialogue lines said by the recurrent characters in your list.**"
   ]
  },
  {
   "cell_type": "code",
   "execution_count": null,
   "metadata": {},
   "outputs": [
    {
     "data": {
      "text/html": [
       "<div>\n",
       "<style scoped>\n",
       "    .dataframe tbody tr th:only-of-type {\n",
       "        vertical-align: middle;\n",
       "    }\n",
       "\n",
       "    .dataframe tbody tr th {\n",
       "        vertical-align: top;\n",
       "    }\n",
       "\n",
       "    .dataframe thead th {\n",
       "        text-align: right;\n",
       "    }\n",
       "</style>\n",
       "<table border=\"1\" class=\"dataframe\">\n",
       "  <thead>\n",
       "    <tr style=\"text-align: right;\">\n",
       "      <th></th>\n",
       "      <th>episode</th>\n",
       "      <th>scene</th>\n",
       "      <th>dialogue</th>\n",
       "      <th>cast</th>\n",
       "    </tr>\n",
       "  </thead>\n",
       "  <tbody>\n",
       "    <tr>\n",
       "      <th>0</th>\n",
       "      <td>Series 01 Episode 01 – Pilot Episode</td>\n",
       "      <td>A corridor at a sperm bank.</td>\n",
       "      <td>So if a photon is directed through a plane wi...</td>\n",
       "      <td>Sheldon</td>\n",
       "    </tr>\n",
       "    <tr>\n",
       "      <th>0</th>\n",
       "      <td>Series 01 Episode 01 – Pilot Episode</td>\n",
       "      <td>A corridor at a sperm bank.</td>\n",
       "      <td>Agreed, what’s your point?</td>\n",
       "      <td>Leonard</td>\n",
       "    </tr>\n",
       "    <tr>\n",
       "      <th>0</th>\n",
       "      <td>Series 01 Episode 01 – Pilot Episode</td>\n",
       "      <td>A corridor at a sperm bank.</td>\n",
       "      <td>There’s no point, I just think it’s a good id...</td>\n",
       "      <td>Sheldon</td>\n",
       "    </tr>\n",
       "    <tr>\n",
       "      <th>0</th>\n",
       "      <td>Series 01 Episode 01 – Pilot Episode</td>\n",
       "      <td>A corridor at a sperm bank.</td>\n",
       "      <td>Excuse me?</td>\n",
       "      <td>Leonard</td>\n",
       "    </tr>\n",
       "    <tr>\n",
       "      <th>0</th>\n",
       "      <td>Series 01 Episode 01 – Pilot Episode</td>\n",
       "      <td>A corridor at a sperm bank.</td>\n",
       "      <td>Hang on.</td>\n",
       "      <td>Receptionist</td>\n",
       "    </tr>\n",
       "  </tbody>\n",
       "</table>\n",
       "</div>"
      ],
      "text/plain": [
       "                                 episode                         scene  \\\n",
       "0   Series 01 Episode 01 – Pilot Episode   A corridor at a sperm bank.   \n",
       "0   Series 01 Episode 01 – Pilot Episode   A corridor at a sperm bank.   \n",
       "0   Series 01 Episode 01 – Pilot Episode   A corridor at a sperm bank.   \n",
       "0   Series 01 Episode 01 – Pilot Episode   A corridor at a sperm bank.   \n",
       "0   Series 01 Episode 01 – Pilot Episode   A corridor at a sperm bank.   \n",
       "\n",
       "                                            dialogue          cast  \n",
       "0   So if a photon is directed through a plane wi...       Sheldon  \n",
       "0                         Agreed, what’s your point?       Leonard  \n",
       "0   There’s no point, I just think it’s a good id...       Sheldon  \n",
       "0                                         Excuse me?       Leonard  \n",
       "0                                           Hang on.  Receptionist  "
      ]
     },
     "execution_count": 5,
     "metadata": {},
     "output_type": "execute_result"
    }
   ],
   "source": [
    "df_scritp['cast'] = df_scritp['dialogue'].apply(lambda line: line.split(':',2)[0])\n",
    "df_scritp['dialogue'] = df_scritp['dialogue'].apply(lambda line: line.split(':',2)[1])\n",
    "df_scritp.head()"
   ]
  },
  {
   "cell_type": "code",
   "execution_count": null,
   "metadata": {},
   "outputs": [
    {
     "name": "stdout",
     "output_type": "stream",
     "text": [
      "Index(['Sheldon', 'Leonard', 'Penny', 'Howard', 'Raj', 'Amy', 'Bernadette',\n",
      "       'Stuart', 'Priya', 'Mrs Cooper', 'Emily', 'Beverley', 'Mrs Wolowitz',\n",
      "       'Zack', 'Arthur', 'Wil', 'Leslie', 'Kripke', 'Bert'],\n",
      "      dtype='object', name='cast')\n"
     ]
    }
   ],
   "source": [
    "recurrent_char = df_scritp.cast.value_counts()\n",
    "top_recurrent_char = recurrent_char[(recurrent_char > 90) & (recurrent_char.index != 'Man')].index\n",
    "print(top_recurrent_char)"
   ]
  },
  {
   "cell_type": "code",
   "execution_count": null,
   "metadata": {},
   "outputs": [],
   "source": [
    "df_scritp = df_scritp[df_scritp.cast.isin(top_recurrent_char)]"
   ]
  },
  {
   "cell_type": "markdown",
   "metadata": {},
   "source": [
    "## Task B: Read the scripts carefully\n",
    "\n",
    "### Part 1: Don't put the shovel down just yet\n",
    "\n",
    "**Q3**. From each dialogue line, replace punctuation marks (listed in the EXCLUDE_CHARS variable provided in `helpers/helper_functions.py`) with whitespaces, and lowercase all the text. **Do not remove any stopwords, leave them be for all the questions in this task.**"
   ]
  },
  {
   "cell_type": "code",
   "execution_count": null,
   "metadata": {},
   "outputs": [
    {
     "ename": "NameError",
     "evalue": "name 'df_scritp' is not defined",
     "output_type": "error",
     "traceback": [
      "\u001b[1;31m---------------------------------------------------------------------------\u001b[0m",
      "\u001b[1;31mNameError\u001b[0m                                 Traceback (most recent call last)",
      "\u001b[1;32mc:\\Users\\jsayd\\Documents\\Master_courses\\ada\\course\\Exercises\\09 - Handing text\\Handling_text_exercise_2.ipynb Cell 12\u001b[0m line \u001b[0;36m5\n\u001b[0;32m      <a href='vscode-notebook-cell:/c%3A/Users/jsayd/Documents/Master_courses/ada/course/Exercises/09%20-%20Handing%20text/Handling_text_exercise_2.ipynb#X14sZmlsZQ%3D%3D?line=2'>3</a>\u001b[0m         \u001b[39minput\u001b[39m \u001b[39m=\u001b[39m \u001b[39minput\u001b[39m\u001b[39m.\u001b[39mreplace(punct,\u001b[39m'\u001b[39m\u001b[39m \u001b[39m\u001b[39m'\u001b[39m)\n\u001b[0;32m      <a href='vscode-notebook-cell:/c%3A/Users/jsayd/Documents/Master_courses/ada/course/Exercises/09%20-%20Handing%20text/Handling_text_exercise_2.ipynb#X14sZmlsZQ%3D%3D?line=3'>4</a>\u001b[0m     \u001b[39mreturn\u001b[39;00m \u001b[39minput\u001b[39m\n\u001b[1;32m----> <a href='vscode-notebook-cell:/c%3A/Users/jsayd/Documents/Master_courses/ada/course/Exercises/09%20-%20Handing%20text/Handling_text_exercise_2.ipynb#X14sZmlsZQ%3D%3D?line=4'>5</a>\u001b[0m df_scritp[\u001b[39m'\u001b[39m\u001b[39mdialogue_clean\u001b[39m\u001b[39m'\u001b[39m] \u001b[39m=\u001b[39m df_scritp[\u001b[39m'\u001b[39m\u001b[39mdialogue\u001b[39m\u001b[39m'\u001b[39m]\u001b[39m.\u001b[39mapply(\u001b[39mlambda\u001b[39;00m diag: remove_punctuation(diag)\u001b[39m.\u001b[39mlower())\n",
      "\u001b[1;31mNameError\u001b[0m: name 'df_scritp' is not defined"
     ]
    }
   ],
   "source": [
    "def remove_punctuation(input):\n",
    "    for punct in EXCLUDE_CHARS:\n",
    "        input = input.replace(punct,' ')\n",
    "    return input\n",
    "df_scritp['dialogue_clean'] = df_scritp['dialogue'].apply(lambda diag: remove_punctuation(diag).lower())"
   ]
  },
  {
   "cell_type": "markdown",
   "metadata": {},
   "source": [
    "**Q4**. For each term, calculate its \"corpus frequency\", i.e. its number of occurrences in the entire series. Visualize the distribution of corpus frequency using a histogram. Explain your observations. What are the appropriate x and y scales for this plot?"
   ]
  },
  {
   "cell_type": "code",
   "execution_count": null,
   "metadata": {},
   "outputs": [
    {
     "data": {
      "text/html": [
       "<div>\n",
       "<style scoped>\n",
       "    .dataframe tbody tr th:only-of-type {\n",
       "        vertical-align: middle;\n",
       "    }\n",
       "\n",
       "    .dataframe tbody tr th {\n",
       "        vertical-align: top;\n",
       "    }\n",
       "\n",
       "    .dataframe thead th {\n",
       "        text-align: right;\n",
       "    }\n",
       "</style>\n",
       "<table border=\"1\" class=\"dataframe\">\n",
       "  <thead>\n",
       "    <tr style=\"text-align: right;\">\n",
       "      <th></th>\n",
       "      <th>episode</th>\n",
       "      <th>scene</th>\n",
       "      <th>dialogue</th>\n",
       "      <th>cast</th>\n",
       "      <th>dialogue_clean</th>\n",
       "      <th>dialogue_tokenized</th>\n",
       "    </tr>\n",
       "  </thead>\n",
       "  <tbody>\n",
       "    <tr>\n",
       "      <th>0</th>\n",
       "      <td>Series 01 Episode 01 – Pilot Episode</td>\n",
       "      <td>A corridor at a sperm bank.</td>\n",
       "      <td>So if a photon is directed through a plane wi...</td>\n",
       "      <td>Sheldon</td>\n",
       "      <td>so if a photon is directed through a plane wi...</td>\n",
       "      <td>[so, if, a, photon, is, directed, through, a, ...</td>\n",
       "    </tr>\n",
       "    <tr>\n",
       "      <th>0</th>\n",
       "      <td>Series 01 Episode 01 – Pilot Episode</td>\n",
       "      <td>A corridor at a sperm bank.</td>\n",
       "      <td>Agreed, what’s your point?</td>\n",
       "      <td>Leonard</td>\n",
       "      <td>agreed  what s your point</td>\n",
       "      <td>[agreed, what, s, your, point]</td>\n",
       "    </tr>\n",
       "    <tr>\n",
       "      <th>0</th>\n",
       "      <td>Series 01 Episode 01 – Pilot Episode</td>\n",
       "      <td>A corridor at a sperm bank.</td>\n",
       "      <td>There’s no point, I just think it’s a good id...</td>\n",
       "      <td>Sheldon</td>\n",
       "      <td>there s no point  i just think it s a good id...</td>\n",
       "      <td>[there, s, no, point, i, just, think, it, s, a...</td>\n",
       "    </tr>\n",
       "    <tr>\n",
       "      <th>0</th>\n",
       "      <td>Series 01 Episode 01 – Pilot Episode</td>\n",
       "      <td>A corridor at a sperm bank.</td>\n",
       "      <td>Excuse me?</td>\n",
       "      <td>Leonard</td>\n",
       "      <td>excuse me</td>\n",
       "      <td>[excuse, me]</td>\n",
       "    </tr>\n",
       "    <tr>\n",
       "      <th>0</th>\n",
       "      <td>Series 01 Episode 01 – Pilot Episode</td>\n",
       "      <td>A corridor at a sperm bank.</td>\n",
       "      <td>One across is Aegean, eight down is Nabakov, ...</td>\n",
       "      <td>Leonard</td>\n",
       "      <td>one across is aegean  eight down is nabakov  ...</td>\n",
       "      <td>[one, across, is, aegean, eight, down, is, nab...</td>\n",
       "    </tr>\n",
       "  </tbody>\n",
       "</table>\n",
       "</div>"
      ],
      "text/plain": [
       "                                 episode                         scene  \\\n",
       "0   Series 01 Episode 01 – Pilot Episode   A corridor at a sperm bank.   \n",
       "0   Series 01 Episode 01 – Pilot Episode   A corridor at a sperm bank.   \n",
       "0   Series 01 Episode 01 – Pilot Episode   A corridor at a sperm bank.   \n",
       "0   Series 01 Episode 01 – Pilot Episode   A corridor at a sperm bank.   \n",
       "0   Series 01 Episode 01 – Pilot Episode   A corridor at a sperm bank.   \n",
       "\n",
       "                                            dialogue     cast  \\\n",
       "0   So if a photon is directed through a plane wi...  Sheldon   \n",
       "0                         Agreed, what’s your point?  Leonard   \n",
       "0   There’s no point, I just think it’s a good id...  Sheldon   \n",
       "0                                         Excuse me?  Leonard   \n",
       "0   One across is Aegean, eight down is Nabakov, ...  Leonard   \n",
       "\n",
       "                                      dialogue_clean  \\\n",
       "0   so if a photon is directed through a plane wi...   \n",
       "0                         agreed  what s your point    \n",
       "0   there s no point  i just think it s a good id...   \n",
       "0                                         excuse me    \n",
       "0   one across is aegean  eight down is nabakov  ...   \n",
       "\n",
       "                                  dialogue_tokenized  \n",
       "0  [so, if, a, photon, is, directed, through, a, ...  \n",
       "0                     [agreed, what, s, your, point]  \n",
       "0  [there, s, no, point, i, just, think, it, s, a...  \n",
       "0                                       [excuse, me]  \n",
       "0  [one, across, is, aegean, eight, down, is, nab...  "
      ]
     },
     "execution_count": 9,
     "metadata": {},
     "output_type": "execute_result"
    }
   ],
   "source": [
    "df_scritp['dialogue_tokenized'] = df_scritp['dialogue_clean'].apply(lambda diag: simple_tokeniser(diag))\n",
    "df_scritp.head()"
   ]
  },
  {
   "cell_type": "code",
   "execution_count": null,
   "metadata": {},
   "outputs": [
    {
     "ename": "NameError",
     "evalue": "name 'df_scritp' is not defined",
     "output_type": "error",
     "traceback": [
      "\u001b[1;31m---------------------------------------------------------------------------\u001b[0m",
      "\u001b[1;31mNameError\u001b[0m                                 Traceback (most recent call last)",
      "\u001b[1;32mc:\\Users\\jsayd\\Documents\\Master_courses\\ada\\course\\Exercises\\09 - Handing text\\Handling_text_exercise_2.ipynb Cell 15\u001b[0m line \u001b[0;36m1\n\u001b[1;32m----> <a href='vscode-notebook-cell:/c%3A/Users/jsayd/Documents/Master_courses/ada/course/Exercises/09%20-%20Handing%20text/Handling_text_exercise_2.ipynb#X20sZmlsZQ%3D%3D?line=0'>1</a>\u001b[0m tokens \u001b[39m=\u001b[39m np\u001b[39m.\u001b[39marray([word \u001b[39mfor\u001b[39;00m sub_list \u001b[39min\u001b[39;00m df_scritp[\u001b[39m'\u001b[39m\u001b[39mdialogue_tokenized\u001b[39m\u001b[39m'\u001b[39m]\u001b[39m.\u001b[39mvalues \u001b[39mfor\u001b[39;00m word \u001b[39min\u001b[39;00m sub_list])\n\u001b[0;32m      <a href='vscode-notebook-cell:/c%3A/Users/jsayd/Documents/Master_courses/ada/course/Exercises/09%20-%20Handing%20text/Handling_text_exercise_2.ipynb#X20sZmlsZQ%3D%3D?line=1'>2</a>\u001b[0m tokens_occ \u001b[39m=\u001b[39m np\u001b[39m.\u001b[39munique(tokens,return_counts\u001b[39m=\u001b[39m\u001b[39mTrue\u001b[39;00m)\n\u001b[0;32m      <a href='vscode-notebook-cell:/c%3A/Users/jsayd/Documents/Master_courses/ada/course/Exercises/09%20-%20Handing%20text/Handling_text_exercise_2.ipynb#X20sZmlsZQ%3D%3D?line=2'>3</a>\u001b[0m occurance \u001b[39m=\u001b[39m \u001b[39msorted\u001b[39m(tokens_occ[\u001b[39m1\u001b[39m],reverse\u001b[39m=\u001b[39m\u001b[39mTrue\u001b[39;00m)\n",
      "\u001b[1;31mNameError\u001b[0m: name 'df_scritp' is not defined"
     ]
    }
   ],
   "source": [
    "tokens = np.array([word for sub_list in df_scritp['dialogue_tokenized'].values for word in sub_list])\n",
    "tokens_occ = np.unique(tokens,return_counts=True)\n",
    "occurance = sorted(tokens_occ[1],reverse=True)"
   ]
  },
  {
   "cell_type": "code",
   "execution_count": null,
   "metadata": {},
   "outputs": [
    {
     "ename": "NameError",
     "evalue": "name 'occurance' is not defined",
     "output_type": "error",
     "traceback": [
      "\u001b[1;31m---------------------------------------------------------------------------\u001b[0m",
      "\u001b[1;31mNameError\u001b[0m                                 Traceback (most recent call last)",
      "\u001b[1;32mc:\\Users\\jsayd\\Documents\\Master_courses\\ada\\course\\Exercises\\09 - Handing text\\Handling_text_exercise_2.ipynb Cell 16\u001b[0m line \u001b[0;36m1\n\u001b[1;32m----> <a href='vscode-notebook-cell:/c%3A/Users/jsayd/Documents/Master_courses/ada/course/Exercises/09%20-%20Handing%20text/Handling_text_exercise_2.ipynb#X21sZmlsZQ%3D%3D?line=0'>1</a>\u001b[0m plt\u001b[39m.\u001b[39mplot(\u001b[39mrange\u001b[39m(\u001b[39m0\u001b[39m,\u001b[39mlen\u001b[39m(occurance)),occurance)\n\u001b[0;32m      <a href='vscode-notebook-cell:/c%3A/Users/jsayd/Documents/Master_courses/ada/course/Exercises/09%20-%20Handing%20text/Handling_text_exercise_2.ipynb#X21sZmlsZQ%3D%3D?line=1'>2</a>\u001b[0m plt\u001b[39m.\u001b[39mxlabel(\u001b[39m'\u001b[39m\u001b[39mwords rank (log)\u001b[39m\u001b[39m'\u001b[39m)\n\u001b[0;32m      <a href='vscode-notebook-cell:/c%3A/Users/jsayd/Documents/Master_courses/ada/course/Exercises/09%20-%20Handing%20text/Handling_text_exercise_2.ipynb#X21sZmlsZQ%3D%3D?line=2'>3</a>\u001b[0m plt\u001b[39m.\u001b[39mylabel(\u001b[39m'\u001b[39m\u001b[39mwords occurances (log)\u001b[39m\u001b[39m'\u001b[39m)\n",
      "\u001b[1;31mNameError\u001b[0m: name 'occurance' is not defined"
     ]
    }
   ],
   "source": [
    "plt.plot(range(0,len(occurance)),occurance)\n",
    "plt.xlabel('words rank (log)')\n",
    "plt.ylabel('words occurances (log)')\n",
    "plt.yscale('log')\n",
    "plt.xscale('log')"
   ]
  },
  {
   "cell_type": "code",
   "execution_count": null,
   "metadata": {},
   "outputs": [
    {
     "ename": "NameError",
     "evalue": "name 'occurance' is not defined",
     "output_type": "error",
     "traceback": [
      "\u001b[1;31m---------------------------------------------------------------------------\u001b[0m",
      "\u001b[1;31mNameError\u001b[0m                                 Traceback (most recent call last)",
      "\u001b[1;32mc:\\Users\\jsayd\\Documents\\Master_courses\\ada\\course\\Exercises\\09 - Handing text\\Handling_text_exercise_2.ipynb Cell 17\u001b[0m line \u001b[0;36m1\n\u001b[1;32m----> <a href='vscode-notebook-cell:/c%3A/Users/jsayd/Documents/Master_courses/ada/course/Exercises/09%20-%20Handing%20text/Handling_text_exercise_2.ipynb#X22sZmlsZQ%3D%3D?line=0'>1</a>\u001b[0m plt\u001b[39m.\u001b[39mhist(occurance,loglog\u001b[39m=\u001b[39m\u001b[39mTrue\u001b[39;00m)\n\u001b[0;32m      <a href='vscode-notebook-cell:/c%3A/Users/jsayd/Documents/Master_courses/ada/course/Exercises/09%20-%20Handing%20text/Handling_text_exercise_2.ipynb#X22sZmlsZQ%3D%3D?line=1'>2</a>\u001b[0m plt\u001b[39m.\u001b[39mxlabel(\u001b[39m'\u001b[39m\u001b[39m'\u001b[39m)\n\u001b[0;32m      <a href='vscode-notebook-cell:/c%3A/Users/jsayd/Documents/Master_courses/ada/course/Exercises/09%20-%20Handing%20text/Handling_text_exercise_2.ipynb#X22sZmlsZQ%3D%3D?line=2'>3</a>\u001b[0m plt\u001b[39m.\u001b[39mylabel(\u001b[39m'\u001b[39m\u001b[39mwords frequency\u001b[39m\u001b[39m'\u001b[39m)\n",
      "\u001b[1;31mNameError\u001b[0m: name 'occurance' is not defined"
     ]
    }
   ],
   "source": [
    "plt.hist(occurance,loglog=True)\n",
    "plt.xlabel('')\n",
    "plt.ylabel('words frequency')\n",
    "plt.show()"
   ]
  },
  {
   "cell_type": "markdown",
   "metadata": {},
   "source": [
    "### Part 2: Talkativity\n",
    "**Q5**. For each of the recurrent characters, calculate their total number of words uttered across all episodes. Based on this, who seems to be the most talkative character?"
   ]
  },
  {
   "cell_type": "code",
   "execution_count": null,
   "metadata": {},
   "outputs": [
    {
     "ename": "NameError",
     "evalue": "name 'df_scritp' is not defined",
     "output_type": "error",
     "traceback": [
      "\u001b[1;31m---------------------------------------------------------------------------\u001b[0m",
      "\u001b[1;31mNameError\u001b[0m                                 Traceback (most recent call last)",
      "\u001b[1;32mc:\\Users\\jsayd\\Documents\\Master_courses\\ada\\course\\Exercises\\09 - Handing text\\Handling_text_exercise_2.ipynb Cell 19\u001b[0m line \u001b[0;36m1\n\u001b[1;32m----> <a href='vscode-notebook-cell:/c%3A/Users/jsayd/Documents/Master_courses/ada/course/Exercises/09%20-%20Handing%20text/Handling_text_exercise_2.ipynb#X24sZmlsZQ%3D%3D?line=0'>1</a>\u001b[0m df_scritp[\u001b[39m'\u001b[39m\u001b[39mcount_token\u001b[39m\u001b[39m'\u001b[39m] \u001b[39m=\u001b[39m df_scritp[\u001b[39m'\u001b[39m\u001b[39mdialogue_tokenized\u001b[39m\u001b[39m'\u001b[39m]\u001b[39m.\u001b[39mapply(\u001b[39mlambda\u001b[39;00m tokens: \u001b[39mlen\u001b[39m(tokens))\n\u001b[0;32m      <a href='vscode-notebook-cell:/c%3A/Users/jsayd/Documents/Master_courses/ada/course/Exercises/09%20-%20Handing%20text/Handling_text_exercise_2.ipynb#X24sZmlsZQ%3D%3D?line=1'>2</a>\u001b[0m talkativity \u001b[39m=\u001b[39m df_scritp\u001b[39m.\u001b[39mgroupby(\u001b[39m'\u001b[39m\u001b[39mcast\u001b[39m\u001b[39m'\u001b[39m,as_index\u001b[39m=\u001b[39m\u001b[39mFalse\u001b[39;00m)[[\u001b[39m'\u001b[39m\u001b[39mcount_token\u001b[39m\u001b[39m'\u001b[39m]]\u001b[39m.\u001b[39msum()\n\u001b[0;32m      <a href='vscode-notebook-cell:/c%3A/Users/jsayd/Documents/Master_courses/ada/course/Exercises/09%20-%20Handing%20text/Handling_text_exercise_2.ipynb#X24sZmlsZQ%3D%3D?line=2'>3</a>\u001b[0m talkativity\u001b[39m.\u001b[39msort_values(\u001b[39m'\u001b[39m\u001b[39mcount_token\u001b[39m\u001b[39m'\u001b[39m,ascending\u001b[39m=\u001b[39m\u001b[39mFalse\u001b[39;00m)\n",
      "\u001b[1;31mNameError\u001b[0m: name 'df_scritp' is not defined"
     ]
    }
   ],
   "source": [
    "df_scritp['count_token'] = df_scritp['dialogue_tokenized'].apply(lambda tokens: len(tokens))\n",
    "talkativity = df_scritp.groupby('cast',as_index=False)[['count_token']].sum()\n",
    "talkativity.sort_values('count_token',ascending=False)"
   ]
  },
  {
   "cell_type": "markdown",
   "metadata": {},
   "source": [
    "## Task D: The Detective's Hat\n",
    "\n",
    "Sheldon claims that given a dialogue line, he can, with an accuracy of above 70%, say whether it's by himself or by someone else. Leonard contests this claim, since he believes that this claimed accuracy is too high.\n",
    "\n",
    "**Q6**. Divide the set of all dialogue lines into two subsets: the training set, consisting of all the seasons except the last two, and the test set, consisting of the last two seasons."
   ]
  },
  {
   "cell_type": "code",
   "execution_count": null,
   "metadata": {},
   "outputs": [
    {
     "ename": "NameError",
     "evalue": "name 'df_scritp' is not defined",
     "output_type": "error",
     "traceback": [
      "\u001b[1;31m---------------------------------------------------------------------------\u001b[0m",
      "\u001b[1;31mNameError\u001b[0m                                 Traceback (most recent call last)",
      "\u001b[1;32mc:\\Users\\jsayd\\Documents\\Master_courses\\ada\\course\\Exercises\\09 - Handing text\\Handling_text_exercise_2.ipynb Cell 21\u001b[0m line \u001b[0;36m1\n\u001b[1;32m----> <a href='vscode-notebook-cell:/c%3A/Users/jsayd/Documents/Master_courses/ada/course/Exercises/09%20-%20Handing%20text/Handling_text_exercise_2.ipynb#X26sZmlsZQ%3D%3D?line=0'>1</a>\u001b[0m df_scritp\u001b[39m.\u001b[39mreset_index(drop\u001b[39m=\u001b[39m\u001b[39mTrue\u001b[39;00m,inplace\u001b[39m=\u001b[39m\u001b[39mTrue\u001b[39;00m)\n\u001b[0;32m      <a href='vscode-notebook-cell:/c%3A/Users/jsayd/Documents/Master_courses/ada/course/Exercises/09%20-%20Handing%20text/Handling_text_exercise_2.ipynb#X26sZmlsZQ%3D%3D?line=1'>2</a>\u001b[0m test_index \u001b[39m=\u001b[39m df_scritp[df_scritp\u001b[39m.\u001b[39mepisode\u001b[39m.\u001b[39mstr\u001b[39m.\u001b[39mcontains(\u001b[39m'\u001b[39m\u001b[39mSeries 09\u001b[39m\u001b[39m'\u001b[39m) \u001b[39m|\u001b[39m df_scritp\u001b[39m.\u001b[39mepisode\u001b[39m.\u001b[39mstr\u001b[39m.\u001b[39mcontains(\u001b[39m'\u001b[39m\u001b[39mSeries 10\u001b[39m\u001b[39m'\u001b[39m)]\u001b[39m.\u001b[39mindex\n\u001b[0;32m      <a href='vscode-notebook-cell:/c%3A/Users/jsayd/Documents/Master_courses/ada/course/Exercises/09%20-%20Handing%20text/Handling_text_exercise_2.ipynb#X26sZmlsZQ%3D%3D?line=2'>3</a>\u001b[0m train_index \u001b[39m=\u001b[39m df_scritp[\u001b[39m~\u001b[39mdf_scritp\u001b[39m.\u001b[39mepisode\u001b[39m.\u001b[39mstr\u001b[39m.\u001b[39mcontains(\u001b[39m'\u001b[39m\u001b[39mSeries 09\u001b[39m\u001b[39m'\u001b[39m) \u001b[39m&\u001b[39m \u001b[39m~\u001b[39mdf_scritp\u001b[39m.\u001b[39mepisode\u001b[39m.\u001b[39mstr\u001b[39m.\u001b[39mcontains(\u001b[39m'\u001b[39m\u001b[39mSeries 10\u001b[39m\u001b[39m'\u001b[39m)]\u001b[39m.\u001b[39mindex\n",
      "\u001b[1;31mNameError\u001b[0m: name 'df_scritp' is not defined"
     ]
    }
   ],
   "source": [
    "df_scritp.reset_index(drop=True,inplace=True)\n",
    "test_index = df_scritp[df_scritp.episode.str.contains('Series 09') | df_scritp.episode.str.contains('Series 10')].index\n",
    "train_index = df_scritp[~df_scritp.episode.str.contains('Series 09') & ~df_scritp.episode.str.contains('Series 10')].index"
   ]
  },
  {
   "cell_type": "markdown",
   "metadata": {},
   "source": [
    "**Q7**. Find the set of all words in the training set that are only uttered by Sheldon. Is it possible for Sheldon to identify himself only based on these? Use the test set to assess this possibility, and explain your method."
   ]
  },
  {
   "cell_type": "code",
   "execution_count": null,
   "metadata": {},
   "outputs": [
    {
     "ename": "NameError",
     "evalue": "name 'df_scritp' is not defined",
     "output_type": "error",
     "traceback": [
      "\u001b[1;31m---------------------------------------------------------------------------\u001b[0m",
      "\u001b[1;31mNameError\u001b[0m                                 Traceback (most recent call last)",
      "\u001b[1;32mc:\\Users\\jsayd\\Documents\\Master_courses\\ada\\course\\Exercises\\09 - Handing text\\Handling_text_exercise_2.ipynb Cell 23\u001b[0m line \u001b[0;36m1\n\u001b[0;32m     <a href='vscode-notebook-cell:/c%3A/Users/jsayd/Documents/Master_courses/ada/course/Exercises/09%20-%20Handing%20text/Handling_text_exercise_2.ipynb#X31sZmlsZQ%3D%3D?line=11'>12</a>\u001b[0m     Y_test \u001b[39m=\u001b[39m Y[test_index]\n\u001b[0;32m     <a href='vscode-notebook-cell:/c%3A/Users/jsayd/Documents/Master_courses/ada/course/Exercises/09%20-%20Handing%20text/Handling_text_exercise_2.ipynb#X31sZmlsZQ%3D%3D?line=13'>14</a>\u001b[0m     \u001b[39mreturn\u001b[39;00m X_train, Y_train, X_test, Y_test\n\u001b[1;32m---> <a href='vscode-notebook-cell:/c%3A/Users/jsayd/Documents/Master_courses/ada/course/Exercises/09%20-%20Handing%20text/Handling_text_exercise_2.ipynb#X31sZmlsZQ%3D%3D?line=15'>16</a>\u001b[0m X_train, Y_train, X_test, Y_test \u001b[39m=\u001b[39m preprocess_bow(df_scritp, train_index, test_index)\n\u001b[0;32m     <a href='vscode-notebook-cell:/c%3A/Users/jsayd/Documents/Master_courses/ada/course/Exercises/09%20-%20Handing%20text/Handling_text_exercise_2.ipynb#X31sZmlsZQ%3D%3D?line=16'>17</a>\u001b[0m \u001b[39mprint\u001b[39m(X_train\u001b[39m.\u001b[39mshape)\n\u001b[0;32m     <a href='vscode-notebook-cell:/c%3A/Users/jsayd/Documents/Master_courses/ada/course/Exercises/09%20-%20Handing%20text/Handling_text_exercise_2.ipynb#X31sZmlsZQ%3D%3D?line=17'>18</a>\u001b[0m \u001b[39mprint\u001b[39m(X_test\u001b[39m.\u001b[39mshape)\n",
      "\u001b[1;31mNameError\u001b[0m: name 'df_scritp' is not defined"
     ]
    }
   ],
   "source": [
    "from sklearn.feature_extraction.text import CountVectorizer\n",
    "vectorizer = CountVectorizer()\n",
    "\n",
    "def preprocess_bow(df, train_index, test_index):\n",
    "    X = vectorizer.fit_transform(df.dialogue_clean.values)\n",
    "    Y = ((df.cast == 'Sheldon').values).astype(int)\n",
    "\n",
    "    X_train = X.toarray()[train_index,:]\n",
    "    X_test = X.toarray()[test_index,:]\n",
    "\n",
    "    Y_train = Y[train_index]\n",
    "    Y_test = Y[test_index]\n",
    "\n",
    "    return X_train, Y_train, X_test, Y_test\n",
    "\n",
    "X_train, Y_train, X_test, Y_test = preprocess_bow(df_scritp, train_index, test_index)\n",
    "print(X_train.shape)\n",
    "print(X_test.shape)"
   ]
  },
  {
   "cell_type": "code",
   "execution_count": null,
   "metadata": {},
   "outputs": [],
   "source": [
    "import warnings\n",
    "warnings.filterwarnings('ignore')\n",
    "\n",
    "model = LogisticRegressionCV(cv=10).fit(X_train, Y_train)\n",
    "score_train = model.score(X_train,Y_train)\n",
    "score_test = model.score(X_test,Y_test)\n",
    "\n",
    "print('Train Accuracy:',score_train)\n",
    "print('Test Accuracy:',score_test)"
   ]
  },
  {
   "cell_type": "code",
   "execution_count": null,
   "metadata": {},
   "outputs": [],
   "source": []
  }
 ],
 "metadata": {
  "kernelspec": {
   "display_name": "Python 3 (ipykernel)",
   "language": "python",
   "name": "python3"
  },
  "language_info": {
   "codemirror_mode": {
    "name": "ipython",
    "version": 3
   },
   "file_extension": ".py",
   "mimetype": "text/x-python",
   "name": "python",
   "nbconvert_exporter": "python",
   "pygments_lexer": "ipython3",
   "version": "3.9.18"
  },
  "varInspector": {
   "cols": {
    "lenName": 16,
    "lenType": 16,
    "lenVar": 40
   },
   "kernels_config": {
    "python": {
     "delete_cmd_postfix": "",
     "delete_cmd_prefix": "del ",
     "library": "var_list.py",
     "varRefreshCmd": "print(var_dic_list())"
    },
    "r": {
     "delete_cmd_postfix": ") ",
     "delete_cmd_prefix": "rm(",
     "library": "var_list.r",
     "varRefreshCmd": "cat(var_dic_list()) "
    }
   },
   "types_to_exclude": [
    "module",
    "function",
    "builtin_function_or_method",
    "instance",
    "_Feature"
   ],
   "window_display": false
  }
 },
 "nbformat": 4,
 "nbformat_minor": 4
}
