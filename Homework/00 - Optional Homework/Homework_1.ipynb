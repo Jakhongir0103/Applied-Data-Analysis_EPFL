{
 "cells": [
  {
   "cell_type": "code",
   "execution_count": 87,
   "id": "479df51a-e0dd-4ce9-badb-b95d15512c5d",
   "metadata": {
    "tags": []
   },
   "outputs": [],
   "source": [
    "import pandas as pd\n",
    "import numpy as np\n",
    "import matplotlib as plt"
   ]
  },
  {
   "cell_type": "code",
   "execution_count": 88,
   "id": "677756ae-0b37-47ed-b389-082d37c8333e",
   "metadata": {
    "tags": []
   },
   "outputs": [
    {
     "data": {
      "text/html": [
       "<div>\n",
       "<style scoped>\n",
       "    .dataframe tbody tr th:only-of-type {\n",
       "        vertical-align: middle;\n",
       "    }\n",
       "\n",
       "    .dataframe tbody tr th {\n",
       "        vertical-align: top;\n",
       "    }\n",
       "\n",
       "    .dataframe thead th {\n",
       "        text-align: right;\n",
       "    }\n",
       "</style>\n",
       "<table border=\"1\" class=\"dataframe\">\n",
       "  <thead>\n",
       "    <tr style=\"text-align: right;\">\n",
       "      <th></th>\n",
       "      <th>Intent</th>\n",
       "      <th>Gender</th>\n",
       "      <th>Age</th>\n",
       "      <th>Race</th>\n",
       "      <th>Deaths</th>\n",
       "      <th>Population</th>\n",
       "      <th>Rate</th>\n",
       "    </tr>\n",
       "  </thead>\n",
       "  <tbody>\n",
       "    <tr>\n",
       "      <th>1</th>\n",
       "      <td>None selected</td>\n",
       "      <td>None selected</td>\n",
       "      <td>None selected</td>\n",
       "      <td>None selected</td>\n",
       "      <td>33599</td>\n",
       "      <td>316299978</td>\n",
       "      <td>10.6</td>\n",
       "    </tr>\n",
       "    <tr>\n",
       "      <th>2</th>\n",
       "      <td>None selected</td>\n",
       "      <td>None selected</td>\n",
       "      <td>None selected</td>\n",
       "      <td>White</td>\n",
       "      <td>22079</td>\n",
       "      <td>197369634</td>\n",
       "      <td>11.2</td>\n",
       "    </tr>\n",
       "    <tr>\n",
       "      <th>3</th>\n",
       "      <td>None selected</td>\n",
       "      <td>None selected</td>\n",
       "      <td>None selected</td>\n",
       "      <td>Black</td>\n",
       "      <td>7765</td>\n",
       "      <td>38896382</td>\n",
       "      <td>20.0</td>\n",
       "    </tr>\n",
       "    <tr>\n",
       "      <th>4</th>\n",
       "      <td>None selected</td>\n",
       "      <td>None selected</td>\n",
       "      <td>None selected</td>\n",
       "      <td>Hispanic</td>\n",
       "      <td>3007</td>\n",
       "      <td>54049078</td>\n",
       "      <td>5.6</td>\n",
       "    </tr>\n",
       "    <tr>\n",
       "      <th>5</th>\n",
       "      <td>None selected</td>\n",
       "      <td>None selected</td>\n",
       "      <td>None selected</td>\n",
       "      <td>Asian/Pacific Islander</td>\n",
       "      <td>442</td>\n",
       "      <td>16315561</td>\n",
       "      <td>2.7</td>\n",
       "    </tr>\n",
       "  </tbody>\n",
       "</table>\n",
       "</div>"
      ],
      "text/plain": [
       "          Intent         Gender            Age                    Race  \\\n",
       "1  None selected  None selected  None selected           None selected   \n",
       "2  None selected  None selected  None selected                   White   \n",
       "3  None selected  None selected  None selected                   Black   \n",
       "4  None selected  None selected  None selected                Hispanic   \n",
       "5  None selected  None selected  None selected  Asian/Pacific Islander   \n",
       "\n",
       "   Deaths  Population  Rate  \n",
       "1   33599   316299978  10.6  \n",
       "2   22079   197369634  11.2  \n",
       "3    7765    38896382  20.0  \n",
       "4    3007    54049078   5.6  \n",
       "5     442    16315561   2.7  "
      ]
     },
     "execution_count": 88,
     "metadata": {},
     "output_type": "execute_result"
    }
   ],
   "source": [
    "data=pd.read_csv('https://raw.githubusercontent.com/fivethirtyeight/guns-data/master/interactive_data.csv',index_col=0)\n",
    "data.head()"
   ]
  },
  {
   "cell_type": "code",
   "execution_count": 89,
   "id": "90fd5a5d-d5fd-4501-84d5-a90e76952944",
   "metadata": {},
   "outputs": [],
   "source": [
    "data=data[~(data=='None selected').any(axis=1)]"
   ]
  },
  {
   "cell_type": "code",
   "execution_count": 90,
   "id": "abe57762-15e1-47cf-b30d-39dbd1e675f7",
   "metadata": {},
   "outputs": [
    {
     "data": {
      "text/plain": [
       "33595"
      ]
     },
     "execution_count": 90,
     "metadata": {},
     "output_type": "execute_result"
    }
   ],
   "source": [
    "data.Deaths.sum()"
   ]
  },
  {
   "cell_type": "code",
   "execution_count": 91,
   "id": "d8eab4b8-3476-47a2-9b5f-3efeeb642f95",
   "metadata": {
    "tags": []
   },
   "outputs": [
    {
     "data": {
      "text/html": [
       "<div>\n",
       "<style scoped>\n",
       "    .dataframe tbody tr th:only-of-type {\n",
       "        vertical-align: middle;\n",
       "    }\n",
       "\n",
       "    .dataframe tbody tr th {\n",
       "        vertical-align: top;\n",
       "    }\n",
       "\n",
       "    .dataframe thead th {\n",
       "        text-align: right;\n",
       "    }\n",
       "</style>\n",
       "<table border=\"1\" class=\"dataframe\">\n",
       "  <thead>\n",
       "    <tr style=\"text-align: right;\">\n",
       "      <th></th>\n",
       "      <th>Intent</th>\n",
       "      <th>Deaths</th>\n",
       "      <th>ratio</th>\n",
       "    </tr>\n",
       "  </thead>\n",
       "  <tbody>\n",
       "    <tr>\n",
       "      <th>0</th>\n",
       "      <td>Accident</td>\n",
       "      <td>544</td>\n",
       "      <td>0.02</td>\n",
       "    </tr>\n",
       "    <tr>\n",
       "      <th>1</th>\n",
       "      <td>Homicide</td>\n",
       "      <td>11727</td>\n",
       "      <td>0.35</td>\n",
       "    </tr>\n",
       "    <tr>\n",
       "      <th>2</th>\n",
       "      <td>Suicide</td>\n",
       "      <td>21058</td>\n",
       "      <td>0.63</td>\n",
       "    </tr>\n",
       "    <tr>\n",
       "      <th>3</th>\n",
       "      <td>Unknown</td>\n",
       "      <td>266</td>\n",
       "      <td>0.01</td>\n",
       "    </tr>\n",
       "  </tbody>\n",
       "</table>\n",
       "</div>"
      ],
      "text/plain": [
       "     Intent  Deaths  ratio\n",
       "0  Accident     544   0.02\n",
       "1  Homicide   11727   0.35\n",
       "2   Suicide   21058   0.63\n",
       "3   Unknown     266   0.01"
      ]
     },
     "execution_count": 91,
     "metadata": {},
     "output_type": "execute_result"
    }
   ],
   "source": [
    "# task 1 & 3\n",
    "task_1=data.groupby(['Intent'],as_index=False)[['Deaths']].sum()\n",
    "task_1['ratio']=round(task_1['Deaths']/sum(task_1.Deaths),2)\n",
    "\n",
    "task_1"
   ]
  },
  {
   "cell_type": "code",
   "execution_count": 92,
   "id": "787fb796-e952-4a38-8354-721ee4816d37",
   "metadata": {
    "tags": []
   },
   "outputs": [
    {
     "data": {
      "text/html": [
       "<div>\n",
       "<style scoped>\n",
       "    .dataframe tbody tr th:only-of-type {\n",
       "        vertical-align: middle;\n",
       "    }\n",
       "\n",
       "    .dataframe tbody tr th {\n",
       "        vertical-align: top;\n",
       "    }\n",
       "\n",
       "    .dataframe thead th {\n",
       "        text-align: right;\n",
       "    }\n",
       "</style>\n",
       "<table border=\"1\" class=\"dataframe\">\n",
       "  <thead>\n",
       "    <tr style=\"text-align: right;\">\n",
       "      <th></th>\n",
       "      <th>Gender</th>\n",
       "      <th>Deaths</th>\n",
       "      <th>ratio</th>\n",
       "    </tr>\n",
       "  </thead>\n",
       "  <tbody>\n",
       "    <tr>\n",
       "      <th>0</th>\n",
       "      <td>Female</td>\n",
       "      <td>2897</td>\n",
       "      <td>0.14</td>\n",
       "    </tr>\n",
       "    <tr>\n",
       "      <th>1</th>\n",
       "      <td>Male</td>\n",
       "      <td>18161</td>\n",
       "      <td>0.86</td>\n",
       "    </tr>\n",
       "  </tbody>\n",
       "</table>\n",
       "</div>"
      ],
      "text/plain": [
       "   Gender  Deaths  ratio\n",
       "0  Female    2897   0.14\n",
       "1    Male   18161   0.86"
      ]
     },
     "execution_count": 92,
     "metadata": {},
     "output_type": "execute_result"
    }
   ],
   "source": [
    "# task 2\n",
    "task_2=data[data['Intent']=='Suicide'].groupby(['Gender'],as_index=False)[['Deaths']].sum()\n",
    "task_2['ratio']=round(task_2.Deaths/sum(task_2.Deaths),2)\n",
    "\n",
    "task_2"
   ]
  },
  {
   "cell_type": "code",
   "execution_count": 93,
   "id": "5b9d4880-e144-4166-89a5-e827dc1f7df9",
   "metadata": {
    "tags": []
   },
   "outputs": [
    {
     "data": {
      "text/html": [
       "<div>\n",
       "<style scoped>\n",
       "    .dataframe tbody tr th:only-of-type {\n",
       "        vertical-align: middle;\n",
       "    }\n",
       "\n",
       "    .dataframe tbody tr th {\n",
       "        vertical-align: top;\n",
       "    }\n",
       "\n",
       "    .dataframe thead th {\n",
       "        text-align: right;\n",
       "    }\n",
       "</style>\n",
       "<table border=\"1\" class=\"dataframe\">\n",
       "  <thead>\n",
       "    <tr style=\"text-align: right;\">\n",
       "      <th></th>\n",
       "      <th>Race</th>\n",
       "      <th>Deaths</th>\n",
       "      <th>ratio</th>\n",
       "    </tr>\n",
       "  </thead>\n",
       "  <tbody>\n",
       "    <tr>\n",
       "      <th>0</th>\n",
       "      <td>Asian/Pacific Islander</td>\n",
       "      <td>76</td>\n",
       "      <td>0.01</td>\n",
       "    </tr>\n",
       "    <tr>\n",
       "      <th>1</th>\n",
       "      <td>Black</td>\n",
       "      <td>4312</td>\n",
       "      <td>0.66</td>\n",
       "    </tr>\n",
       "    <tr>\n",
       "      <th>2</th>\n",
       "      <td>Hispanic</td>\n",
       "      <td>1166</td>\n",
       "      <td>0.18</td>\n",
       "    </tr>\n",
       "    <tr>\n",
       "      <th>3</th>\n",
       "      <td>Other</td>\n",
       "      <td>54</td>\n",
       "      <td>0.01</td>\n",
       "    </tr>\n",
       "    <tr>\n",
       "      <th>4</th>\n",
       "      <td>White</td>\n",
       "      <td>913</td>\n",
       "      <td>0.14</td>\n",
       "    </tr>\n",
       "  </tbody>\n",
       "</table>\n",
       "</div>"
      ],
      "text/plain": [
       "                     Race  Deaths  ratio\n",
       "0  Asian/Pacific Islander      76   0.01\n",
       "1                   Black    4312   0.66\n",
       "2                Hispanic    1166   0.18\n",
       "3                   Other      54   0.01\n",
       "4                   White     913   0.14"
      ]
     },
     "execution_count": 93,
     "metadata": {},
     "output_type": "execute_result"
    }
   ],
   "source": [
    "# task 4\n",
    "task_4=data[(data['Intent']=='Homicide')&(data['Age']=='15 - 34')&(data.Gender=='Male')].groupby(['Race'],as_index=False)[['Deaths']].sum()\n",
    "task_4['ratio']=round(task_4.Deaths/sum(task_4.Deaths),2)\n",
    "\n",
    "task_4"
   ]
  },
  {
   "cell_type": "code",
   "execution_count": 94,
   "id": "84b6a375-8c72-462e-ba97-59c29bfe2e93",
   "metadata": {
    "tags": []
   },
   "outputs": [
    {
     "name": "stdout",
     "output_type": "stream",
     "text": [
      "Rate of black homicide victims who are males in the age-group of 15--34: 66.0\n"
     ]
    }
   ],
   "source": [
    "print('Rate of black homicide victims who are males in the age-group of 15--34: {}'.format(task_4.loc[task_4['Race']=='Black'].iloc[0]['ratio']*100))"
   ]
  },
  {
   "cell_type": "code",
   "execution_count": 95,
   "id": "dcc3cfbf-5f1b-4e01-bca1-2f182d166c95",
   "metadata": {
    "tags": []
   },
   "outputs": [
    {
     "data": {
      "text/html": [
       "<div>\n",
       "<style scoped>\n",
       "    .dataframe tbody tr th:only-of-type {\n",
       "        vertical-align: middle;\n",
       "    }\n",
       "\n",
       "    .dataframe tbody tr th {\n",
       "        vertical-align: top;\n",
       "    }\n",
       "\n",
       "    .dataframe thead th {\n",
       "        text-align: right;\n",
       "    }\n",
       "</style>\n",
       "<table border=\"1\" class=\"dataframe\">\n",
       "  <thead>\n",
       "    <tr style=\"text-align: right;\">\n",
       "      <th></th>\n",
       "      <th>Gender</th>\n",
       "      <th>Deaths</th>\n",
       "      <th>ratio</th>\n",
       "    </tr>\n",
       "  </thead>\n",
       "  <tbody>\n",
       "    <tr>\n",
       "      <th>0</th>\n",
       "      <td>Female</td>\n",
       "      <td>1793</td>\n",
       "      <td>0.15</td>\n",
       "    </tr>\n",
       "    <tr>\n",
       "      <th>1</th>\n",
       "      <td>Male</td>\n",
       "      <td>9934</td>\n",
       "      <td>0.85</td>\n",
       "    </tr>\n",
       "  </tbody>\n",
       "</table>\n",
       "</div>"
      ],
      "text/plain": [
       "   Gender  Deaths  ratio\n",
       "0  Female    1793   0.15\n",
       "1    Male    9934   0.85"
      ]
     },
     "execution_count": 95,
     "metadata": {},
     "output_type": "execute_result"
    }
   ],
   "source": [
    "# task 5\n",
    "task_5=data[data['Intent']=='Homicide'].groupby(['Gender'],as_index=False)[['Deaths']].sum()\n",
    "task_5['ratio']=round(task_5.Deaths/sum(task_5.Deaths),2)\n",
    "\n",
    "task_5"
   ]
  },
  {
   "cell_type": "code",
   "execution_count": null,
   "id": "9eae53ce-a48c-49db-9b63-8f4e760bf3db",
   "metadata": {},
   "outputs": [],
   "source": []
  }
 ],
 "metadata": {
  "kernelspec": {
   "display_name": "Python 3 (ipykernel)",
   "language": "python",
   "name": "python3"
  },
  "language_info": {
   "codemirror_mode": {
    "name": "ipython",
    "version": 3
   },
   "file_extension": ".py",
   "mimetype": "text/x-python",
   "name": "python",
   "nbconvert_exporter": "python",
   "pygments_lexer": "ipython3",
   "version": "3.9.13"
  }
 },
 "nbformat": 4,
 "nbformat_minor": 5
}
