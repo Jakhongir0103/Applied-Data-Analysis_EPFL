{
 "cells": [
  {
   "cell_type": "markdown",
   "id": "c1d0380f",
   "metadata": {},
   "source": [
    "# Homework 2 (HW2)\n",
    "By the end of this homework, we expect you to be able to:\n",
    "\n",
    "- Preprocess data and make it amenable to statistical analysis and machine learning models;\n",
    "- Train and test out-of-the-box machine learning models in Python;\n",
    "- Carry out simple multivariate regression analyses;\n",
    "- Use techniques to control for covariates;\n",
    "- Conduct an observational study and reason about its results.\n",
    "\n",
    "---\n",
    "\n",
    "- Homework release: Fri 17 Nov 2023\t\n",
    "\n",
    "- **Homework Due**: Fri 01 Dec 2023, 23:59\t\n",
    "\n",
    "- Grades released: Mon 11 Dec 2023\t\n",
    "\n",
    "\n",
    "---\n",
    "\n",
    "## Some rules\n",
    "1. You are allowed to use any built-in Python library that comes with Anaconda. If you want to use an external library, you may do so, but must justify your choice.\n",
    "\n",
    "2. Make sure you use the `data` folder provided in the repository in read-only mode. (Or alternatively, be sure you don’t change any of the files.)\n",
    "\n",
    "3. Be sure to provide a concise textual description of your thought process, the assumptions you made, the solution you implemented, and explanations for your answers. A notebook that only has code cells will not suffice.\n",
    "\n",
    "4. For questions containing the **/Discuss:/** prefix, answer not with code, but with a textual explanation **(in markdown)**.\n",
    "\n",
    "5. Back up any hypotheses and claims with data, since this is an important aspect of the course.\n",
    "\n",
    "6. Please write all your comments in **English**, and use meaningful variable names in your code. Your repo should have a single notebook (plus the required data files) in the master/main branch. **If there are multiple notebooks present, we will not grade anything.**\n",
    "\n",
    "7. We will **not run your notebook for you!** Rather, we will grade it as is, which means that only the results contained in your evaluated code cells will be considered, and we will not see the results in unevaluated code cells. Thus, be sure to hand in a **fully-run and evaluated notebook**. In order to check whether everything looks as intended, you can check the rendered notebook on the GitHub website once you have pushed your solution there.\n",
    "\n",
    "8. In continuation to the previous point, interactive plots, such as those generated using the `plotly` package, should be strictly avoided!\n",
    "\n",
    "9. Make sure to print results and/or dataframes that confirm you have properly addressed the task.\n",
    "\n",
    "\n",
    "---"
   ]
  },
  {
   "cell_type": "code",
   "execution_count": 1,
   "id": "68937ccd",
   "metadata": {
    "ExecuteTime": {
     "end_time": "2023-11-17T17:54:27.233757Z",
     "start_time": "2023-11-17T17:54:26.757026Z"
    },
    "tags": []
   },
   "outputs": [],
   "source": [
    "import pandas as pd\n",
    "import numpy as np\n",
    "\n",
    "# plotting\n",
    "import seaborn as sns\n",
    "import matplotlib.pyplot as plt\n",
    "\n",
    "# regression / matching\n",
    "import statsmodels.formula.api as smf\n",
    "import networkx as nx\n",
    "\n",
    "# machine lerning\n",
    "from sklearn.model_selection import cross_validate\n",
    "from sklearn.ensemble import GradientBoostingClassifier\n",
    "from sklearn.preprocessing import OneHotEncoder\n",
    "\n",
    "# statistics\n",
    "from scipy.stats import ttest_ind"
   ]
  },
  {
   "cell_type": "markdown",
   "id": "fb04befc",
   "metadata": {},
   "source": [
    "## Context\n",
    "\n",
    "After two years, the EPFL Baseball Club is broke. The new Dean transferred all funds to EPFL's new poster child: its super-competitive Pétanque club. After struggling so much to learn about baseball, you have unfortunately been laid off...\n",
    "\n",
    "*(...) 1 month after, you manage to get another job (!) (...)*\n",
    "\n",
    "Congratulations! You have just been hired as a data scientist at the Association for Computational Linguistics (ACL), a professional organization for people working on natural language processing. The ACL organizes several of the top conferences and workshops in the field of computational linguistics and natural language processing.\n",
    "Your boss, Dr. Tiancheng, knows of your expertise in observational studies and asks you to investigate a question that’s been bothering everyone who has ever submitted a paper to a conference: should I spend time on writing rebuttals?\n",
    "\n",
    "\n",
    "\n",
    "---\n",
    "\n",
    "## Rebuttals, conferences, and getting your papers accepted\n",
    "\n",
    "Rebuttals in ACL (Association for Computational Linguistics) conferences and in many other academic conferences are an important part of the peer-review process. They allow authors of submitted papers to respond to the reviews and comments provided by the reviewers before a final decision is made regarding the acceptance of the paper. Here's how the rebuttal process typically works in ACL conferences:\n",
    "\n",
    "- Paper Submission: Authors submit their research papers to the ACL conference for review. These papers present novel research findings in computational linguistics, natural language processing, and related areas.\n",
    "- Peer Review: The papers undergo a peer-review process after the initial submission. The program committee or reviewers are experts in the field who evaluate the papers based on their quality, significance, novelty, methodology, and other relevant criteria. They provide comments and scores for each paper.\n",
    "- Rebuttal Period: After receiving the reviews, authors are given a specific period (usually around a week) to write a rebuttal. The rebuttal is a formal response to the reviewers' comments. It allows authors to clarify misunderstandings, address concerns, and provide additional information to support their paper's quality. \n",
    "- Final Review: After receiving the rebuttals, the reviewers may reconsider their initial assessments in light of the authors' responses. Reviewers may choose to maintain or adjust their reviews and scores based on the quality and effectiveness of the author's rebuttal.\n",
    "- Final Decision: The program committee or conference organizers consider the initial reviews/scores, rebuttals, and revised reviews/scores to make a final decision on the acceptance of the papers. The decision can be acceptance, rejection, or conditional acceptance with a request for revisions.\n",
    "\n",
    "\n",
    "---\n",
    "\n",
    "## Data\n",
    "\n",
    "- `tmp_id`: Unique identifier for each paper in the format \"P{number}\".\n",
    "- `status`: Accept or Reject.\n",
    "- `submission_type`: Short vs. Long (papers can have different lengths). We do not use this column in this homework. \n",
    "- `track`: Track to which the paper was submitted, broadly speaking, the \"topic\" of the paper.\n",
    "- `scores_before`: Scores received before rebuttal. This is a nested JSON with many fields, but we will use only the \"overall\" score for the homework. \n",
    "- `scores_after`: Scores received after rebuttal. This is a nested JSON with many fields, but we will use only the \"overall\" score for the homework.\n",
    "- `had_rebuttal`: True or False.\n",
    "\n",
    "\n",
    "Note that: \n",
    " - reviews are assigned numbers, e.g., \"2\";\n",
    " - papers can have different numbers of reviews;\n",
    " - review numbers are arbitrary, e.g., `P1` in the dataframe has two reviews numbered \"2\" and \"3\" (but no review \"1\").\n"
   ]
  },
  {
   "cell_type": "markdown",
   "id": "28074a9c",
   "metadata": {},
   "source": [
    "## Task 1 (10 pts): Get to Know Your Data\n",
    "\n",
    "As a good data scientist, you first load the data and perform some small sanity checks on it.\n",
    "\n",
    "- You are expected to continuously alter your dataframe as you complete the tasks. E.g., if you are asked to filter the data in a specific task, continue using the filtered dataset in the subsequent tasks.\n",
    "- When we tell you to \"print the dataframe,\" make sure you print it in a way that shows the total number of rows and columns in it (`display(df)` should suffice)."
   ]
  },
  {
   "cell_type": "markdown",
   "id": "fc66e675-eb6b-4ccb-a46c-02ed2e3b4a4a",
   "metadata": {
    "tags": []
   },
   "source": [
    "### In all the plots we are using colorblind-friendly colors from [this](https://davidmathlogic.com/colorblind/#%23FFC20A-%230C7BDC) website"
   ]
  },
  {
   "cell_type": "markdown",
   "id": "9d6ab063",
   "metadata": {},
   "source": [
    "**1.1** Load the dataset containing ACL reviews into memory using pandas. \n",
    "- For each paper, create columns `overall_score_before_avg` and `overall_score_after_avg` containing the average (overall) scores before and after rebuttal.\n",
    "- For each paper, create columns `overall_score_before_std` and `overall_score_after_std` containing the standard deviation of the overall scores before and after the rebuttal.\n",
    "- Print the four newly created columns for paper `P17`.\n",
    "- Print the resulting dataframe."
   ]
  },
  {
   "cell_type": "code",
   "execution_count": 2,
   "id": "4f773655-0827-4cd8-9b8e-d634ded1b174",
   "metadata": {
    "tags": []
   },
   "outputs": [],
   "source": [
    "df_reviews = pd.read_json(\"./data/acl18_v1_numerical_final.json\").reset_index(drop=True)"
   ]
  },
  {
   "cell_type": "code",
   "execution_count": 4,
   "id": "549babfa-8a83-45d2-9f16-88d88dc02776",
   "metadata": {
    "tags": []
   },
   "outputs": [
    {
     "data": {
      "text/html": [
       "<div>\n",
       "<style scoped>\n",
       "    .dataframe tbody tr th:only-of-type {\n",
       "        vertical-align: middle;\n",
       "    }\n",
       "\n",
       "    .dataframe tbody tr th {\n",
       "        vertical-align: top;\n",
       "    }\n",
       "\n",
       "    .dataframe thead th {\n",
       "        text-align: right;\n",
       "    }\n",
       "</style>\n",
       "<table border=\"1\" class=\"dataframe\">\n",
       "  <thead>\n",
       "    <tr style=\"text-align: right;\">\n",
       "      <th></th>\n",
       "      <th>overall_score_before_avg</th>\n",
       "      <th>overall_score_after_avg</th>\n",
       "      <th>overall_score_before_std</th>\n",
       "      <th>overall_score_after_std</th>\n",
       "    </tr>\n",
       "  </thead>\n",
       "  <tbody>\n",
       "    <tr>\n",
       "      <th>16</th>\n",
       "      <td>4.5</td>\n",
       "      <td>4.5</td>\n",
       "      <td>0.5</td>\n",
       "      <td>0.5</td>\n",
       "    </tr>\n",
       "  </tbody>\n",
       "</table>\n",
       "</div>"
      ],
      "text/plain": [
       "    overall_score_before_avg  overall_score_after_avg  \\\n",
       "16                       4.5                      4.5   \n",
       "\n",
       "    overall_score_before_std  overall_score_after_std  \n",
       "16                       0.5                      0.5  "
      ]
     },
     "metadata": {},
     "output_type": "display_data"
    }
   ],
   "source": [
    "# helper function to use later on as argument to the pandas 'apply' fucntion\n",
    "def get_overall_score(x, col, mean):\n",
    "    '''\n",
    "    x: one row/paper of the data frame \n",
    "    col: column/feature we want to use from the data frame  \n",
    "    mean: boolean (1 or 0) if set to 1 the function will return mean, else it will return std \n",
    "    returns: the average_overall_score for this row/paper\n",
    "    '''\n",
    "    x_dict = dict(x[col])\n",
    "    overall_scores = []\n",
    "    # iterate on the reviews and get the given overall score\n",
    "    for k in x_dict.keys():\n",
    "        overall_scores.append(x_dict[k][\"scores\"][\"overall_score\"])\n",
    "        \n",
    "    return np.mean(overall_scores) if mean else np.std(overall_scores)\n",
    "\n",
    "# create the required columns \n",
    "df_reviews[\"overall_score_before_avg\"] = df_reviews.apply(\n",
    "    lambda x: get_overall_score(x, col = \"scores_before\", mean=1), axis=1\n",
    ")\n",
    "df_reviews[\"overall_score_after_avg\"] = df_reviews.apply(\n",
    "    lambda x: get_overall_score(x, col = \"scores_after\", mean=1), axis=1\n",
    ")\n",
    "df_reviews[\"overall_score_before_std\"] = df_reviews.apply(\n",
    "    lambda x: get_overall_score(x, col = \"scores_before\", mean=0), axis=1\n",
    ")\n",
    "df_reviews[\"overall_score_after_std\"] = df_reviews.apply(\n",
    "    lambda x: get_overall_score(x, col = \"scores_after\", mean=0), axis=1\n",
    ")\n",
    "\n",
    "# print the four newly created columns for paper P17\n",
    "display(df_reviews[df_reviews[\"tmp_id\"] == \"P17\"][['overall_score_before_avg', 'overall_score_after_avg', \n",
    "                                           'overall_score_before_std', 'overall_score_after_std']])"
   ]
  },
  {
   "cell_type": "code",
   "execution_count": 5,
   "id": "1c131535-c7da-4176-93bb-b987da5a945d",
   "metadata": {
    "tags": []
   },
   "outputs": [
    {
     "data": {
      "text/html": [
       "<div>\n",
       "<style scoped>\n",
       "    .dataframe tbody tr th:only-of-type {\n",
       "        vertical-align: middle;\n",
       "    }\n",
       "\n",
       "    .dataframe tbody tr th {\n",
       "        vertical-align: top;\n",
       "    }\n",
       "\n",
       "    .dataframe thead th {\n",
       "        text-align: right;\n",
       "    }\n",
       "</style>\n",
       "<table border=\"1\" class=\"dataframe\">\n",
       "  <thead>\n",
       "    <tr style=\"text-align: right;\">\n",
       "      <th></th>\n",
       "      <th>tmp_id</th>\n",
       "      <th>status</th>\n",
       "      <th>submission_type</th>\n",
       "      <th>track</th>\n",
       "      <th>scores_before</th>\n",
       "      <th>scores_after</th>\n",
       "      <th>had_rebuttal</th>\n",
       "      <th>overall_score_before_avg</th>\n",
       "      <th>overall_score_after_avg</th>\n",
       "      <th>overall_score_before_std</th>\n",
       "      <th>overall_score_after_std</th>\n",
       "    </tr>\n",
       "  </thead>\n",
       "  <tbody>\n",
       "    <tr>\n",
       "      <th>0</th>\n",
       "      <td>P1</td>\n",
       "      <td>Reject</td>\n",
       "      <td>Long</td>\n",
       "      <td>Machine Learning</td>\n",
       "      <td>{'2': {'scores': {'originality': 2, 'soundness...</td>\n",
       "      <td>{'2': {'scores': {'originality': 2, 'soundness...</td>\n",
       "      <td>True</td>\n",
       "      <td>2.500000</td>\n",
       "      <td>2.500000</td>\n",
       "      <td>0.500000</td>\n",
       "      <td>0.500000</td>\n",
       "    </tr>\n",
       "    <tr>\n",
       "      <th>1</th>\n",
       "      <td>P2</td>\n",
       "      <td>Reject</td>\n",
       "      <td>Long</td>\n",
       "      <td>Question Answering</td>\n",
       "      <td>{'1': {'scores': {'originality': 2, 'soundness...</td>\n",
       "      <td>{'1': {'scores': {'originality': 2, 'soundness...</td>\n",
       "      <td>True</td>\n",
       "      <td>3.333333</td>\n",
       "      <td>3.333333</td>\n",
       "      <td>0.942809</td>\n",
       "      <td>0.942809</td>\n",
       "    </tr>\n",
       "    <tr>\n",
       "      <th>2</th>\n",
       "      <td>P3</td>\n",
       "      <td>Accept</td>\n",
       "      <td>Short</td>\n",
       "      <td>Multidisciplinary and Area Chair COI</td>\n",
       "      <td>{'1': {'scores': {'originality': 4, 'soundness...</td>\n",
       "      <td>{'1': {'scores': {'originality': 4, 'soundness...</td>\n",
       "      <td>True</td>\n",
       "      <td>4.666667</td>\n",
       "      <td>4.666667</td>\n",
       "      <td>0.471405</td>\n",
       "      <td>0.471405</td>\n",
       "    </tr>\n",
       "    <tr>\n",
       "      <th>3</th>\n",
       "      <td>P4</td>\n",
       "      <td>Reject</td>\n",
       "      <td>Short</td>\n",
       "      <td>Machine Learning</td>\n",
       "      <td>{'1': {'scores': {'originality': 2, 'soundness...</td>\n",
       "      <td>{'1': {'scores': {'originality': 2, 'soundness...</td>\n",
       "      <td>True</td>\n",
       "      <td>3.000000</td>\n",
       "      <td>2.666667</td>\n",
       "      <td>0.816497</td>\n",
       "      <td>1.247219</td>\n",
       "    </tr>\n",
       "    <tr>\n",
       "      <th>4</th>\n",
       "      <td>P5</td>\n",
       "      <td>Reject</td>\n",
       "      <td>Long</td>\n",
       "      <td>Document Analysis</td>\n",
       "      <td>{'2': {'scores': {'originality': 2, 'soundness...</td>\n",
       "      <td>{'2': {'scores': {'originality': 2, 'soundness...</td>\n",
       "      <td>True</td>\n",
       "      <td>3.000000</td>\n",
       "      <td>2.500000</td>\n",
       "      <td>0.000000</td>\n",
       "      <td>0.500000</td>\n",
       "    </tr>\n",
       "    <tr>\n",
       "      <th>...</th>\n",
       "      <td>...</td>\n",
       "      <td>...</td>\n",
       "      <td>...</td>\n",
       "      <td>...</td>\n",
       "      <td>...</td>\n",
       "      <td>...</td>\n",
       "      <td>...</td>\n",
       "      <td>...</td>\n",
       "      <td>...</td>\n",
       "      <td>...</td>\n",
       "      <td>...</td>\n",
       "    </tr>\n",
       "    <tr>\n",
       "      <th>1533</th>\n",
       "      <td>P1541</td>\n",
       "      <td>Reject</td>\n",
       "      <td>Short</td>\n",
       "      <td>Textual Inference and Other Areas of Semantics</td>\n",
       "      <td>{'1': {'scores': {'originality': 2, 'soundness...</td>\n",
       "      <td>{'1': {'scores': {'originality': 2, 'soundness...</td>\n",
       "      <td>True</td>\n",
       "      <td>2.333333</td>\n",
       "      <td>2.333333</td>\n",
       "      <td>0.471405</td>\n",
       "      <td>0.471405</td>\n",
       "    </tr>\n",
       "    <tr>\n",
       "      <th>1534</th>\n",
       "      <td>P1542</td>\n",
       "      <td>Reject</td>\n",
       "      <td>Long</td>\n",
       "      <td>Machine Learning</td>\n",
       "      <td>{'1': {'scores': {'originality': 2, 'soundness...</td>\n",
       "      <td>{'1': {'scores': {'originality': 2, 'soundness...</td>\n",
       "      <td>False</td>\n",
       "      <td>2.000000</td>\n",
       "      <td>2.000000</td>\n",
       "      <td>0.816497</td>\n",
       "      <td>0.816497</td>\n",
       "    </tr>\n",
       "    <tr>\n",
       "      <th>1535</th>\n",
       "      <td>P1543</td>\n",
       "      <td>Reject</td>\n",
       "      <td>Long</td>\n",
       "      <td>Machine Learning</td>\n",
       "      <td>{'1': {'scores': {'originality': 3, 'soundness...</td>\n",
       "      <td>{'1': {'scores': {'originality': 3, 'soundness...</td>\n",
       "      <td>True</td>\n",
       "      <td>2.666667</td>\n",
       "      <td>2.666667</td>\n",
       "      <td>0.942809</td>\n",
       "      <td>0.942809</td>\n",
       "    </tr>\n",
       "    <tr>\n",
       "      <th>1536</th>\n",
       "      <td>P1544</td>\n",
       "      <td>Reject</td>\n",
       "      <td>Short</td>\n",
       "      <td>Social Media</td>\n",
       "      <td>{'1': {'scores': {'originality': 2, 'soundness...</td>\n",
       "      <td>{'1': {'scores': {'originality': 2, 'soundness...</td>\n",
       "      <td>False</td>\n",
       "      <td>2.000000</td>\n",
       "      <td>2.000000</td>\n",
       "      <td>0.000000</td>\n",
       "      <td>0.000000</td>\n",
       "    </tr>\n",
       "    <tr>\n",
       "      <th>1537</th>\n",
       "      <td>P1545</td>\n",
       "      <td>Reject</td>\n",
       "      <td>Short</td>\n",
       "      <td>Information Extraction and Text Mining</td>\n",
       "      <td>{'1': {'scores': {'originality': 3, 'soundness...</td>\n",
       "      <td>{'1': {'scores': {'originality': 3, 'soundness...</td>\n",
       "      <td>True</td>\n",
       "      <td>3.000000</td>\n",
       "      <td>3.000000</td>\n",
       "      <td>0.816497</td>\n",
       "      <td>0.816497</td>\n",
       "    </tr>\n",
       "  </tbody>\n",
       "</table>\n",
       "<p>1538 rows × 11 columns</p>\n",
       "</div>"
      ],
      "text/plain": [
       "     tmp_id  status submission_type  \\\n",
       "0        P1  Reject            Long   \n",
       "1        P2  Reject            Long   \n",
       "2        P3  Accept           Short   \n",
       "3        P4  Reject           Short   \n",
       "4        P5  Reject            Long   \n",
       "...     ...     ...             ...   \n",
       "1533  P1541  Reject           Short   \n",
       "1534  P1542  Reject            Long   \n",
       "1535  P1543  Reject            Long   \n",
       "1536  P1544  Reject           Short   \n",
       "1537  P1545  Reject           Short   \n",
       "\n",
       "                                               track  \\\n",
       "0                                   Machine Learning   \n",
       "1                                 Question Answering   \n",
       "2               Multidisciplinary and Area Chair COI   \n",
       "3                                   Machine Learning   \n",
       "4                                  Document Analysis   \n",
       "...                                              ...   \n",
       "1533  Textual Inference and Other Areas of Semantics   \n",
       "1534                                Machine Learning   \n",
       "1535                                Machine Learning   \n",
       "1536                                    Social Media   \n",
       "1537          Information Extraction and Text Mining   \n",
       "\n",
       "                                          scores_before  \\\n",
       "0     {'2': {'scores': {'originality': 2, 'soundness...   \n",
       "1     {'1': {'scores': {'originality': 2, 'soundness...   \n",
       "2     {'1': {'scores': {'originality': 4, 'soundness...   \n",
       "3     {'1': {'scores': {'originality': 2, 'soundness...   \n",
       "4     {'2': {'scores': {'originality': 2, 'soundness...   \n",
       "...                                                 ...   \n",
       "1533  {'1': {'scores': {'originality': 2, 'soundness...   \n",
       "1534  {'1': {'scores': {'originality': 2, 'soundness...   \n",
       "1535  {'1': {'scores': {'originality': 3, 'soundness...   \n",
       "1536  {'1': {'scores': {'originality': 2, 'soundness...   \n",
       "1537  {'1': {'scores': {'originality': 3, 'soundness...   \n",
       "\n",
       "                                           scores_after  had_rebuttal  \\\n",
       "0     {'2': {'scores': {'originality': 2, 'soundness...          True   \n",
       "1     {'1': {'scores': {'originality': 2, 'soundness...          True   \n",
       "2     {'1': {'scores': {'originality': 4, 'soundness...          True   \n",
       "3     {'1': {'scores': {'originality': 2, 'soundness...          True   \n",
       "4     {'2': {'scores': {'originality': 2, 'soundness...          True   \n",
       "...                                                 ...           ...   \n",
       "1533  {'1': {'scores': {'originality': 2, 'soundness...          True   \n",
       "1534  {'1': {'scores': {'originality': 2, 'soundness...         False   \n",
       "1535  {'1': {'scores': {'originality': 3, 'soundness...          True   \n",
       "1536  {'1': {'scores': {'originality': 2, 'soundness...         False   \n",
       "1537  {'1': {'scores': {'originality': 3, 'soundness...          True   \n",
       "\n",
       "      overall_score_before_avg  overall_score_after_avg  \\\n",
       "0                     2.500000                 2.500000   \n",
       "1                     3.333333                 3.333333   \n",
       "2                     4.666667                 4.666667   \n",
       "3                     3.000000                 2.666667   \n",
       "4                     3.000000                 2.500000   \n",
       "...                        ...                      ...   \n",
       "1533                  2.333333                 2.333333   \n",
       "1534                  2.000000                 2.000000   \n",
       "1535                  2.666667                 2.666667   \n",
       "1536                  2.000000                 2.000000   \n",
       "1537                  3.000000                 3.000000   \n",
       "\n",
       "      overall_score_before_std  overall_score_after_std  \n",
       "0                     0.500000                 0.500000  \n",
       "1                     0.942809                 0.942809  \n",
       "2                     0.471405                 0.471405  \n",
       "3                     0.816497                 1.247219  \n",
       "4                     0.000000                 0.500000  \n",
       "...                        ...                      ...  \n",
       "1533                  0.471405                 0.471405  \n",
       "1534                  0.816497                 0.816497  \n",
       "1535                  0.942809                 0.942809  \n",
       "1536                  0.000000                 0.000000  \n",
       "1537                  0.816497                 0.816497  \n",
       "\n",
       "[1538 rows x 11 columns]"
      ]
     },
     "metadata": {},
     "output_type": "display_data"
    }
   ],
   "source": [
    "#print the resulting df\n",
    "display(df_reviews)"
   ]
  },
  {
   "cell_type": "markdown",
   "id": "0075ebff",
   "metadata": {},
   "source": [
    "**1.2** Create a single plot with 14 inches of width and 4 inches of height. The plot should contain two panels: \n",
    "- **Panel A**: The distribution of `overall_score_before_avg` for papers that were accepted and papers that were rejected.\n",
    "- **Panel B**: The distribution of `overall_score_before_avg` for papers that had rebuttals vs. papers that did not."
   ]
  },
  {
   "cell_type": "code",
   "execution_count": 6,
   "id": "0dd34712-b290-45bd-8c7b-ccf04ecc0f2b",
   "metadata": {
    "tags": []
   },
   "outputs": [
    {
     "data": {
      "image/png": "[encoded data removed]",
      "text/plain": [
       "<Figure size 1400x400 with 2 Axes>"
      ]
     },
     "metadata": {},
     "output_type": "display_data"
    }
   ],
   "source": [
    "fig, axs = plt.subplots(1, 2, figsize=(14,4), sharex=True, sharey=True)\n",
    "fig.suptitle(\"The distribution of overall_score_before_avg\")\n",
    "\n",
    "#plotting the histograms/distributions (not cumulative)\n",
    "axs[0].hist(df_reviews[df_reviews[\"status\"] == \"Accept\"].overall_score_before_avg, label=\"Accepted\", \n",
    "            histtype='step', color='#0C7BDC', density=True)\n",
    "axs[0].hist(df_reviews[df_reviews[\"status\"] == \"Reject\"].overall_score_before_avg, label=\"Rejected\", \n",
    "            histtype='step', color='#FFC20A', density=True)\n",
    "axs[0].set(xlabel=\"overall_score_before_avg\", ylabel=\"Distribution\")\n",
    "axs[0].legend()\n",
    "axs[0].set_title(\"Panel A\")\n",
    "\n",
    "axs[1].hist(df_reviews[df_reviews[\"had_rebuttal\"] == True].overall_score_before_avg, label=\"had rebuttal\", \n",
    "            histtype='step', color='#0C7BDC', density=True)\n",
    "axs[1].hist(df_reviews[df_reviews[\"had_rebuttal\"] == False].overall_score_before_avg, label=\"did not have rebuttal\", \n",
    "            histtype='step', color='#FFC20A', density=True)\n",
    "axs[1].set(xlabel=\"overall_score_before_avg\")\n",
    "axs[1].legend()\n",
    "axs[1].set_title(\"Panel B\")\n",
    "\n",
    "plt.show()"
   ]
  },
  {
   "cell_type": "markdown",
   "id": "bea160c7",
   "metadata": {},
   "source": [
    "**1.3** **/Discuss/:** If you know a paper had a rebuttal, is it more or less likely that it was accepted? Does this mean that rebuttals help papers get accepted? Explain why or why not, providing a concrete example."
   ]
  },
  {
   "cell_type": "markdown",
   "id": "9dfbcd7a-b6c0-4d80-b4e2-2b53fbaeb51c",
   "metadata": {},
   "source": [
    "Knowing that a paper had a rebuttal, the paper's overall score average before will follow the blue curve from panel B. We see that the distribution is slightly left-skewed which means the mode is higher than the mean and so it is more likely for a paper that it got a high score and thus from panel A it's more likely that it was accepted (as the \"accepted\"/blue curve maximizes the likelihood of having a high score).\n",
    "This however, doesn't mean that rebuttals help papers get accepted as confounders may be present; in fact the variable `track` can potentially influence the acceptance rate i.e some tracks may have higher acceptance rates than others and also influence the `had_rebuttal` variable in which case the `track` will be a *confounder* and `had_rebuttal` won't cause the papers to get accepted. Another \"common sense\" reason, is that there's still the **`overall_score_average_after`** that needs to be taken into account. In fact, a paper might get a high score before, then give a rebuttal and get a lower score after and get rejected. This case happened for paper P4. This could happen if for example the rebuttal wasn't of high quality, or if it unveiled a flaw that was previously hidden in the research. "
   ]
  },
  {
   "cell_type": "markdown",
   "id": "87836f37",
   "metadata": {},
   "source": [
    "**1.4** Print the percentage of rebuttals per track in the conference (defined by the `track` column). \n",
    "\n",
    "**/Discuss:/** Using \"the logic\" of hypothesis testing (see slide 29 of Lecture 4), how would you devise a statistical test to refute the following null hypothesis: all tracks have the same fraction of papers with rebuttals. Your statistical test should consider all categories at once, rather than comparing the fraction of rebuttals between pairs of categories."
   ]
  },
  {
   "cell_type": "code",
   "execution_count": 7,
   "id": "190be4e7-9538-4d4c-8264-0e15cf4d311d",
   "metadata": {
    "tags": []
   },
   "outputs": [
    {
     "data": {
      "text/plain": [
       "track\n",
       "Dialogue and Interactive Systems                                0.775281\n",
       "Discourse and Pragmatics                                        0.804348\n",
       "Document Analysis                                               0.730000\n",
       "Generation                                                      0.779661\n",
       "Information Extraction and Text Mining                          0.768362\n",
       "Linguistic Theories Cognitive Modeling and Psycholinguistics    0.750000\n",
       "Machine Learning                                                0.808696\n",
       "Machine Translation                                             0.820755\n",
       "Multidisciplinary and Area Chair COI                            0.680000\n",
       "Multilinguality                                                 0.806452\n",
       "Phonology Morphology and Word Segmentation                      0.851852\n",
       "Question Answering                                              0.728395\n",
       "Resources and Evaluation                                        0.732394\n",
       "Sentence-level semantics                                        0.788889\n",
       "Sentiment Analysis and Argument Mining                          0.788235\n",
       "Social Media                                                    0.737705\n",
       "Summarization                                                   0.745098\n",
       "Tagging Chunking Syntax and Parsing                             0.770492\n",
       "Textual Inference and Other Areas of Semantics                  0.771930\n",
       "Vision Robotics Multimodal Grounding and Speech                 0.811321\n",
       "Word-level Semantics                                            0.860759\n",
       "Name: had_rebuttal, dtype: float64"
      ]
     },
     "metadata": {},
     "output_type": "display_data"
    }
   ],
   "source": [
    "# Mean of the 'had_rebuttal' variable is the % of rebuttals\n",
    "rebuttal_perc = df_reviews.groupby(\"track\").had_rebuttal.mean()\n",
    "#print the rebutalls' percentages per track\n",
    "display(rebuttal_perc)"
   ]
  },
  {
   "cell_type": "markdown",
   "id": "65a8b3c4-56ec-467a-aacc-5b8f5fe43565",
   "metadata": {},
   "source": [
    "We can first assume that the null hypothesis is true i.e. that all tracks have the same fraction of papers with rebuttals. Then, we draw a barplot showing the fraction of papers with rebuttals for each track along with error bars for a 95% confidence interval. If at least 2 intervals are **non-overlapping** (i.e p-value < 0.05 for a 95% ci) then the null hypothesis doesn't explain what we observe and we can reject it."
   ]
  },
  {
   "cell_type": "markdown",
   "id": "50275647",
   "metadata": {},
   "source": [
    "## Task 2 (10pts): Prediction\n",
    "\n",
    "You decide to investigate further the effect of rebuttals on acceptance using your machine learning skills."
   ]
  },
  {
   "cell_type": "markdown",
   "id": "578baafa",
   "metadata": {},
   "source": [
    "\n",
    "**2.1** For each possible value in the `track` column, create a new column called {track}-onehot (e.g., for track=Generation, create Generation-onehot). Collectively, these new columns should \"one hot-encode\" the track column---for instance, if for a given paper the `track` column is filled with the value \"Generation\", the Generation-onehot column should equal 1 and all other {track}-onehot columns should equal 0. \n",
    "\n",
    "Print the column names of the resulting dataframe."
   ]
  },
  {
   "cell_type": "code",
   "execution_count": 8,
   "id": "0483b9a2-779b-4fdc-8f6a-cefad391ce34",
   "metadata": {
    "tags": []
   },
   "outputs": [
    {
     "name": "stdout",
     "output_type": "stream",
     "text": [
      "Index(['tmp_id', 'status', 'submission_type', 'track', 'scores_before',\n",
      "       'scores_after', 'had_rebuttal', 'overall_score_before_avg',\n",
      "       'overall_score_after_avg', 'overall_score_before_std',\n",
      "       'overall_score_after_std', 'Dialogue and Interactive Systems-onehot',\n",
      "       'Discourse and Pragmatics-onehot', 'Document Analysis-onehot',\n",
      "       'Generation-onehot', 'Information Extraction and Text Mining-onehot',\n",
      "       'Linguistic Theories Cognitive Modeling and Psycholinguistics-onehot',\n",
      "       'Machine Learning-onehot', 'Machine Translation-onehot',\n",
      "       'Multidisciplinary and Area Chair COI-onehot', 'Multilinguality-onehot',\n",
      "       'Phonology Morphology and Word Segmentation-onehot',\n",
      "       'Question Answering-onehot', 'Resources and Evaluation-onehot',\n",
      "       'Sentence-level semantics-onehot',\n",
      "       'Sentiment Analysis and Argument Mining-onehot', 'Social Media-onehot',\n",
      "       'Summarization-onehot', 'Tagging Chunking Syntax and Parsing-onehot',\n",
      "       'Textual Inference and Other Areas of Semantics-onehot',\n",
      "       'Vision Robotics Multimodal Grounding and Speech-onehot',\n",
      "       'Word-level Semantics-onehot'],\n",
      "      dtype='object')\n"
     ]
    }
   ],
   "source": [
    "#create the one hot encoder renaming the created columns to what is required i.e {track}-onehot\n",
    "custom_enc = OneHotEncoder(feature_name_combiner=(lambda x,y: y+'-onehot'))\n",
    "#fit the encoder to the 'track' column and transform the column  \n",
    "ohe_track = custom_enc.fit_transform(np.array(df_reviews['track']).reshape(-1,1)).toarray()\n",
    "#create a pandas df from the one hot encoded representation of the 'track' column\n",
    "ohe_track_df = pd.DataFrame(ohe_track, columns=custom_enc.get_feature_names_out(['track']))\n",
    "#update df (i.e remove the track column and replace it with the newly obtained binary features)\n",
    "df_reviews = pd.concat([df_reviews, ohe_track_df], axis=1)\n",
    "\n",
    "print(df_reviews.columns)"
   ]
  },
  {
   "cell_type": "markdown",
   "id": "55aa41ea",
   "metadata": {},
   "source": [
    "\n",
    "**2.2** Create a column `had_rebuttal_int`, which equals 1 if the paper had a rebuttal, and 0 otherwise, and a column `accepted_int`, which equals 1 if the paper was accepted, and 0 otherwise. "
   ]
  },
  {
   "cell_type": "code",
   "execution_count": 9,
   "id": "b8c6b687-a7a9-4d85-be45-d738a01d78a3",
   "metadata": {
    "tags": []
   },
   "outputs": [],
   "source": [
    "df_reviews['had_rebuttal_int'] = (df_reviews['had_rebuttal']).astype(int) \n",
    "df_reviews['accepted_int'] = (df_reviews['status'] == 'Accept').astype(int)"
   ]
  },
  {
   "cell_type": "markdown",
   "id": "c5806400",
   "metadata": {},
   "source": [
    "**2.3** Create a function `numpy_helper(df, cols)` to obtain a numpy.array out of your dataframe. The function should receive a dataframe `df` with N rows and a list of M columns `cols`, and should return a `np.array` of dimension `(NxM)` cast as a float."
   ]
  },
  {
   "cell_type": "code",
   "execution_count": 10,
   "id": "75098907-1364-4120-bc1b-b0f896a1bf8d",
   "metadata": {
    "tags": []
   },
   "outputs": [],
   "source": [
    "def numpy_helper(df, cols):\n",
    "    '''\n",
    "    df: a dataframe with N rows\n",
    "    cols: a list of M columns\n",
    "    \n",
    "    return: np.array of dimension (NxM) cast as a float.\n",
    "    '''\n",
    "    return np.array(df[cols]).astype(float)"
   ]
  },
  {
   "cell_type": "markdown",
   "id": "85dad455",
   "metadata": {},
   "source": [
    "\n",
    "**2.4**\n",
    "Create:\n",
    "- an array of features X containing all track one-hot features, as well as the `overall_score_before_avg`,`overall_score_before_std`, and `had_rebuttal_int`;\n",
    "- an array of outcomes y containing `accepted_int`. \n",
    "\n",
    "\n",
    "Print the shapes of both X and y (e.g., `X.shape`)."
   ]
  },
  {
   "cell_type": "code",
   "execution_count": 11,
   "id": "6e3cb506-de1a-4be0-b7f3-cee8eca03875",
   "metadata": {
    "tags": []
   },
   "outputs": [
    {
     "name": "stdout",
     "output_type": "stream",
     "text": [
      "The shape of array X is: (1538, 24)\n",
      "The shape of array y is: (1538, 1)\n"
     ]
    }
   ],
   "source": [
    "#creating the X array using the helper function from previous question\n",
    "cols_X = list(custom_enc.get_feature_names_out(['track'])) + ['overall_score_before_avg', \n",
    "                                                              'overall_score_before_std', 'had_rebuttal_int']\n",
    "X = numpy_helper(df_reviews, cols_X)\n",
    "\n",
    "#creating the y array using the helper function from previous question\n",
    "cols_y = ['accepted_int']\n",
    "y = numpy_helper(df_reviews, cols_y)\n",
    "\n",
    "#printing the shapes\n",
    "print(\"The shape of array X is:\", X.shape)\n",
    "print(\"The shape of array y is:\", y.shape)"
   ]
  },
  {
   "cell_type": "markdown",
   "id": "efcf79a4",
   "metadata": {},
   "source": [
    "\n",
    "**2.5** Build two `GradientBoostingClassifier` models using `sklearn` using the default parameters:\n",
    "- Model 1: predicts the outcome `accepted_int` using the onehot encoded features related to track, as well as the `overall_score_before_avg`,`overall_score_before_std`.\n",
    "- Model 2:  predicts the outcome `accepted_int` using the onehot encoded features related to track, as well as the `overall_score_before_avg`,`overall_score_before_std` **and** `had_rebuttal_int`.\n",
    "\n",
    "\n",
    "For both models:\n",
    "\n",
    "- Use the `cross_validate` function from `sklearn.model_selection` to compute the average precision, recall, and accuracy across test cross validation splits.\n",
    "\n",
    "    - e.g., `cross_validate(clf, X, y, cv=30, scoring=('accuracy', 'precision', 'recall'))`"
   ]
  },
  {
   "cell_type": "code",
   "execution_count": 15,
   "id": "dc9978f2",
   "metadata": {},
   "outputs": [
    {
     "name": "stdout",
     "output_type": "stream",
     "text": [
      "Model 1\n",
      "Accuracy: 0.84 (+/- 0.08)\n",
      "Precision: 0.71 (+/- 0.23)\n",
      "Recall: 0.59 (+/- 0.23)\n",
      "\n",
      "Model 2\n",
      "Accuracy: 0.84 (+/- 0.07)\n",
      "Precision: 0.71 (+/- 0.22)\n",
      "Recall: 0.60 (+/- 0.23)\n"
     ]
    }
   ],
   "source": [
    "scores_1 = cross_validate(GradientBoostingClassifier(), X[:,:-1], y.ravel(), cv=30, \n",
    "                                                          scoring=['accuracy', 'precision', 'recall'])\n",
    "scores_2 = cross_validate(GradientBoostingClassifier(), X, y.ravel(), cv=30, \n",
    "                                                          scoring=['accuracy', 'precision', 'recall'])\n",
    "\n",
    "# print the average accuracy, precision, and recall across test cross validation splits for model 1\n",
    "print(\"Model 1\")\n",
    "print(\"Accuracy: %0.2f (+/- %0.2f)\" % (scores_1['test_accuracy'].mean(), scores_1['test_accuracy'].std() * 2))\n",
    "print(\"Precision: %0.2f (+/- %0.2f)\" % (scores_1['test_precision'].mean(), scores_1['test_precision'].std() * 2))\n",
    "print(\"Recall: %0.2f (+/- %0.2f)\" % (scores_1['test_recall'].mean(), scores_1['test_recall'].std() * 2))\n",
    "\n",
    "# print the average accuracy, precision, and recall across test cross validation splits for model 2\n",
    "print(\"\\nModel 2\")\n",
    "print(\"Accuracy: %0.2f (+/- %0.2f)\" % (scores_2['test_accuracy'].mean(), scores_2['test_accuracy'].std() * 2))\n",
    "print(\"Precision: %0.2f (+/- %0.2f)\" % (scores_2['test_precision'].mean(), scores_2['test_precision'].std() * 2))\n",
    "print(\"Recall: %0.2f (+/- %0.2f)\" % (scores_2['test_recall'].mean(), scores_2['test_recall'].std() * 2))\n"
   ]
  },
  {
   "cell_type": "markdown",
   "id": "2abba6d4",
   "metadata": {},
   "source": [
    "\n",
    "**2.6** Determine whether the difference in accuracy of the two models is statistically significant.\n"
   ]
  },
  {
   "cell_type": "code",
   "execution_count": 16,
   "id": "f907fad9-20bc-4776-bd3b-b0e685df5815",
   "metadata": {
    "tags": []
   },
   "outputs": [
    {
     "data": {
      "text/plain": [
       "Ttest_indResult(statistic=-0.1291661307585383, pvalue=0.897673080747567)"
      ]
     },
     "execution_count": 16,
     "metadata": {},
     "output_type": "execute_result"
    }
   ],
   "source": [
    "#Running a t-test to compare the accuracy means of models 1 and 2\n",
    "ttest_ind(scores_1['test_accuracy'], scores_2['test_accuracy'])"
   ]
  },
  {
   "cell_type": "markdown",
   "id": "c4a76579-0e6b-46a3-8b81-57269f032279",
   "metadata": {},
   "source": [
    "We can see that the p-value is ~ 0.89 > 0.05 which means that the null hypothesis (the 2 mean accuracies are equal) is enough to explain what we observe. Thus, the difference in accurancy of the 2 models is NOT statistically significant."
   ]
  },
  {
   "cell_type": "markdown",
   "id": "9518f2f6",
   "metadata": {},
   "source": [
    "**2.7** **/Discuss:/** Contrast the results obtained in **2.6** with what you observed in **Task 1**. What advantage did the analyses in **2.6** have?"
   ]
  },
  {
   "cell_type": "markdown",
   "id": "28149e0c-2f09-4ce2-9d0e-a4896be42c89",
   "metadata": {},
   "source": [
    "In 2.6 we found out that the had_rebuttal variable has no statistically significant influence on the acceptance of a paper which contradicts what we said in task 1 (we said that when a paper had a rebuttal then it is *more likely* to get accepted (note that we didn't say it causes a paper acceptance, but only increases its probability)). \n",
    "The advantage the analyses in 2.6 have is that they split the categories of the track feature into separate one hot encoded features while in task 1 we don't. This is better as we've seen that not all tracks have the same rebuttal percentage for papers and thus should be considered separately in our prediction of papers' acceptance."
   ]
  },
  {
   "cell_type": "markdown",
   "id": "52beb97e",
   "metadata": {},
   "source": [
    "## Task 3 (12pts): Interlude\n"
   ]
  },
  {
   "cell_type": "markdown",
   "id": "f8f56eca",
   "metadata": {},
   "source": [
    "\n",
    "**3.1** Using the formula API from `statsmodels`, estimate the following linear regressions. Report the summary of the models.\n",
    "- `accepted_int ~ had_rebuttal_int`,  \n",
    "- `accepted_int ~ overall_score_after_avg`\n",
    "- `had_rebuttal_int ~ overall_score_before_avg`"
   ]
  },
  {
   "cell_type": "code",
   "execution_count": 19,
   "id": "29288b10-92a6-4faa-bb8f-410b4619bae3",
   "metadata": {
    "tags": []
   },
   "outputs": [],
   "source": [
    "# perform ols regression helper function\n",
    "def ols_regression(df: pd.DataFrame, formula: str) -> None:\n",
    "    \"\"\"\n",
    "    Computes the OLS regression for the given formula and dataframe,\n",
    "    and reports the results.\n",
    "    :param df: the dataframe to use\n",
    "    :param formula: the formula to use\n",
    "    :return: None\n",
    "    \"\"\"\n",
    "    # create a fitted model\n",
    "    mod = smf.ols(formula=formula, data=df)\n",
    "    # Fits the model (find the optimal coefficients, adding a random seed ensures consistency)\n",
    "    np.random.seed(2)\n",
    "    res = mod.fit()\n",
    "    # Print the summary output provided by the library.\n",
    "    print(res.summary())"
   ]
  },
  {
   "cell_type": "code",
   "execution_count": 20,
   "id": "fc0028fe-0bc4-42b1-b6ba-6e334ead8828",
   "metadata": {
    "tags": []
   },
   "outputs": [
    {
     "name": "stdout",
     "output_type": "stream",
     "text": [
      "                            OLS Regression Results                            \n",
      "==============================================================================\n",
      "Dep. Variable:           accepted_int   R-squared:                       0.041\n",
      "Model:                            OLS   Adj. R-squared:                  0.041\n",
      "Method:                 Least Squares   F-statistic:                     66.22\n",
      "Date:                Fri, 01 Dec 2023   Prob (F-statistic):           8.24e-16\n",
      "Time:                        16:23:25   Log-Likelihood:                -855.16\n",
      "No. Observations:                1538   AIC:                             1714.\n",
      "Df Residuals:                    1536   BIC:                             1725.\n",
      "Df Model:                           1                                         \n",
      "Covariance Type:            nonrobust                                         \n",
      "====================================================================================\n",
      "                       coef    std err          t      P>|t|      [0.025      0.975]\n",
      "------------------------------------------------------------------------------------\n",
      "Intercept            0.0838      0.023      3.693      0.000       0.039       0.128\n",
      "had_rebuttal_int     0.2098      0.026      8.138      0.000       0.159       0.260\n",
      "==============================================================================\n",
      "Omnibus:                      271.753   Durbin-Watson:                   1.920\n",
      "Prob(Omnibus):                  0.000   Jarque-Bera (JB):              324.377\n",
      "Skew:                           1.075   Prob(JB):                     3.65e-71\n",
      "Kurtosis:                       2.336   Cond. No.                         4.00\n",
      "==============================================================================\n",
      "\n",
      "Notes:\n",
      "[1] Standard Errors assume that the covariance matrix of the errors is correctly specified.\n"
     ]
    }
   ],
   "source": [
    "ols_regression(df_reviews, 'accepted_int ~ had_rebuttal_int')"
   ]
  },
  {
   "cell_type": "markdown",
   "id": "b4d12f03-4449-4594-9291-78f8711fc39e",
   "metadata": {
    "tags": []
   },
   "source": [
    "**Answer:**\n",
    "`accepted_int` = 0.0838 + 0.2098 * `had_rebuttal_int`"
   ]
  },
  {
   "cell_type": "code",
   "execution_count": 21,
   "id": "7a8520aa-f590-473b-9fce-32ad3abe87f0",
   "metadata": {
    "tags": []
   },
   "outputs": [
    {
     "name": "stdout",
     "output_type": "stream",
     "text": [
      "                            OLS Regression Results                            \n",
      "==============================================================================\n",
      "Dep. Variable:           accepted_int   R-squared:                       0.402\n",
      "Model:                            OLS   Adj. R-squared:                  0.401\n",
      "Method:                 Least Squares   F-statistic:                     1031.\n",
      "Date:                Fri, 01 Dec 2023   Prob (F-statistic):          1.58e-173\n",
      "Time:                        16:23:25   Log-Likelihood:                -492.65\n",
      "No. Observations:                1538   AIC:                             989.3\n",
      "Df Residuals:                    1536   BIC:                             1000.\n",
      "Df Model:                           1                                         \n",
      "Covariance Type:            nonrobust                                         \n",
      "===========================================================================================\n",
      "                              coef    std err          t      P>|t|      [0.025      0.975]\n",
      "-------------------------------------------------------------------------------------------\n",
      "Intercept                  -0.6558      0.029    -22.339      0.000      -0.713      -0.598\n",
      "overall_score_after_avg     0.2860      0.009     32.111      0.000       0.269       0.303\n",
      "==============================================================================\n",
      "Omnibus:                      110.778   Durbin-Watson:                   1.927\n",
      "Prob(Omnibus):                  0.000   Jarque-Bera (JB):               51.680\n",
      "Skew:                           0.256   Prob(JB):                     5.99e-12\n",
      "Kurtosis:                       2.263   Cond. No.                         12.3\n",
      "==============================================================================\n",
      "\n",
      "Notes:\n",
      "[1] Standard Errors assume that the covariance matrix of the errors is correctly specified.\n"
     ]
    }
   ],
   "source": [
    "ols_regression(df_reviews, 'accepted_int ~ overall_score_after_avg')"
   ]
  },
  {
   "cell_type": "markdown",
   "id": "1161d3b4-dc61-46b0-a108-53901a302061",
   "metadata": {},
   "source": [
    "**Answer:**\n",
    "`accepted_int` = 0.1651 + 0.2860 * `overall_score_after_avg`"
   ]
  },
  {
   "cell_type": "code",
   "execution_count": 22,
   "id": "fe8b3b41-6531-4cf1-a725-7843dc4fab2b",
   "metadata": {
    "tags": []
   },
   "outputs": [
    {
     "name": "stdout",
     "output_type": "stream",
     "text": [
      "                            OLS Regression Results                            \n",
      "==============================================================================\n",
      "Dep. Variable:       had_rebuttal_int   R-squared:                       0.135\n",
      "Model:                            OLS   Adj. R-squared:                  0.135\n",
      "Method:                 Least Squares   F-statistic:                     240.2\n",
      "Date:                Fri, 01 Dec 2023   Prob (F-statistic):           1.89e-50\n",
      "Time:                        16:23:25   Log-Likelihood:                -727.42\n",
      "No. Observations:                1538   AIC:                             1459.\n",
      "Df Residuals:                    1536   BIC:                             1470.\n",
      "Df Model:                           1                                         \n",
      "Covariance Type:            nonrobust                                         \n",
      "============================================================================================\n",
      "                               coef    std err          t      P>|t|      [0.025      0.975]\n",
      "--------------------------------------------------------------------------------------------\n",
      "Intercept                    0.2527      0.035      7.195      0.000       0.184       0.322\n",
      "overall_score_before_avg     0.1651      0.011     15.499      0.000       0.144       0.186\n",
      "==============================================================================\n",
      "Omnibus:                      201.621   Durbin-Watson:                   1.930\n",
      "Prob(Omnibus):                  0.000   Jarque-Bera (JB):              288.526\n",
      "Skew:                          -1.060   Prob(JB):                     2.23e-63\n",
      "Kurtosis:                       2.890   Cond. No.                         12.7\n",
      "==============================================================================\n",
      "\n",
      "Notes:\n",
      "[1] Standard Errors assume that the covariance matrix of the errors is correctly specified.\n"
     ]
    }
   ],
   "source": [
    "ols_regression(df_reviews, 'had_rebuttal_int ~ overall_score_before_avg')"
   ]
  },
  {
   "cell_type": "markdown",
   "id": "d964faa4-3cb0-4695-9413-1966b9976168",
   "metadata": {},
   "source": [
    "**Answer:**\n",
    "`had_rebuttal_int` = 0.2527 + 0.1651 * `overall_score_before_avg`"
   ]
  },
  {
   "cell_type": "markdown",
   "id": "a4bc5e23",
   "metadata": {},
   "source": [
    "\n",
    "**3.2** **/Discuss:/** Interpret the coefficients associated with the binary independent variable in the above models. Note that independent variables are the ones on the right-handside of the equation.\n",
    "\n",
    "- e.g., in `had_rebuttal_int ~ overall_score_before_avg`, `overall_score_before_avg` is the independent variable.\n",
    "\n"
   ]
  },
  {
   "cell_type": "markdown",
   "id": "e9e0d8ae-3efd-4d88-b942-6a219c3d5b77",
   "metadata": {},
   "source": [
    "The coefficient asscociated with the binary independent variable `had_rebuttal_int` (i.e the slope) in the formula `accepted_int ~ had_rebuttal_int` is the difference in mean outcomes (i.e mean acceptance rate) between data points with `had_rebuttal_int` = 1 and data points with `had_rebuttal_int` = 0. For instance, papers with `had_rebuttal_int` = 0 have a mean `accepted_int` of 0.0838 (the intercept) (almost 0 acceptance!) while papers with `had_rebuttal_int` = 1 have a mean `accepted_int` of 0.0838 (the intercept) + 0.2098 (the slope) = 0.2936 (~30% acceptance rate)"
   ]
  },
  {
   "cell_type": "markdown",
   "id": "eaba81dc",
   "metadata": {},
   "source": [
    "\n",
    "**3.3** **/Discuss:/** describe three correlations you can draw from the previous analysis. Describe their sign (i.e., whether they are positive or negative), and whether they are statistically significant (at the .05 level of significance).\n"
   ]
  },
  {
   "cell_type": "markdown",
   "id": "7a83b55c-0fc5-4f78-8dfd-8d0acab06902",
   "metadata": {},
   "source": [
    "We can see that `accepted_int` is positively correlated with `had_rebuttal_int` as `had_rebuttal_int`'s coefficient (0.2098) is positive and its p-value is 0 < 0.05 so it's statistically significant. This means that a higher value of `had_rebuttal_int` corresponds to a higher value of `accepted_int`.\n",
    "Similarly, we see that `accepted_int` is positively correlated with `overall_score_after_avg` as `overall_score_after_avg`'s coefficient (0.2860) is positive and its p-value is 0 < 0.05 so it's statistically significant. This means that a higher value of `overall_score_after_avg` corresponds to a higher value of `accepted_int`.\n",
    "Likewise, we see that `had_rebuttal_int` is positively correlated with `overall_score_before_avg` as `overall_score_before_avg`'s coefficient (0.1651) is positive and its p-value is 0 < 0.05 so it's statistically significant. This means that a higher value of `overall_score_before_avg` corresponds to a higher value of `had_rebuttal_int`."
   ]
  },
  {
   "cell_type": "markdown",
   "id": "fa59821c",
   "metadata": {},
   "source": [
    "**3.4** **/Discuss:/** Is the following statement True or False? Justify. \n",
    "\n",
    "- The variable `overall_score_after_avg` explains more of the variance in `accepted_int`than the variable `overall_score_before_avg` explains of `had_rebuttal_int`.\n"
   ]
  },
  {
   "cell_type": "markdown",
   "id": "3b52a8a3-39c3-4319-a5bd-b929bfffe8e0",
   "metadata": {},
   "source": [
    "True. Explanation: $R^2$ represents the fraction of variance explained by the model. We see that `overall_score_after_avg` explains more of the variance in `accepted_int` than the variable `overall_score_before_avg` explains of `had_rebuttal_int` as the $R^2$ of the former model (0.402) is higher than the $R^2$ of the latter model (0.135)."
   ]
  },
  {
   "cell_type": "markdown",
   "id": "b405fb7f",
   "metadata": {},
   "source": [
    "\n",
    "**3.5** **/Discuss:/** Create a causal diagram relating the following variables:\n",
    "- \"Sa\": `overall_score_after_avg`\n",
    "- \"Sb\": `overall_score_before_avg`\n",
    "- \"Re\": `had_rebuttal_int`\n",
    "- \"Ac\": `accepted_int`\n",
    "- \"Tr\": `track`\n",
    "\n",
    "\n",
    "When unsure about whether a causal relationship exists, include it in the diagram. E.g., include the arrow corresponding to the key questions around this homework, i.e., `had_rebuttal_int`->`accepted_int`, even though you are investigating whether it exists. \n",
    "\n",
    "You may draw your diagram using text, use Sa/Sb/Re/Ac/Tr to represent the names of the variables, and simply indicate the causal links, one per line.\n",
    "\n",
    "\n",
    "Instead of drawing something like this:\n",
    "![](./dagv.jpeg)\n",
    "\n",
    "Simply write:\n",
    "\n",
    "- Tr->Sb\n",
    "- Tr->Ac\n",
    "- Tr->Re\n",
    "- Ac->Sb\n",
    "- Re->Sb\n",
    "- Sb->Sa\n",
    "\n",
    "---"
   ]
  },
  {
   "cell_type": "markdown",
   "id": "44702c33-0c1b-4c9c-ad9b-46f4041d8085",
   "metadata": {},
   "source": [
    "#### **Answer:**\n",
    "- Tr->Sb\n",
    "- Tr->Ac\n",
    "- Tr->Re\n",
    "- Sb->Ac\n",
    "- Sb->Re\n",
    "- Sb->Sa \n",
    "- Sa->Ac\n",
    "- Re->Ac\n",
    "- Re->Sa"
   ]
  },
  {
   "cell_type": "markdown",
   "id": "dbe89c00",
   "metadata": {},
   "source": [
    "**3.6** **/Discuss:/** What is the problem of simply comparing the outcomes of papers that had rebuttals with those that did not? Give a concrete example."
   ]
  },
  {
   "cell_type": "markdown",
   "metadata": {},
   "source": [
    "The problem with simply comparing the outcomes of papers that had rebuttals with those that did not is that there might be a confounder that we are not taking into consideration that may be leading us to false\\\n",
    "conclusions about wheter rebuttals influence acceptance or not.\n",
    "For instance, we might think that rebuttals influence acceptance but in fact the track of the paper might be the confounder.\\\n",
    "In fact, some tracks might have a higher acceptance rate than others and also have a higher rebuttal rate than others. In this case, the track is a confounder as it influences both the rebuttal rate and the acceptance rate and thus we can't say that rebuttals influence acceptance.\\\n",
    "To come up with a more robust conclusion about the causal relationship between rebuttals and acceptance, we need to control for confounders.\\"
   ]
  },
  {
   "cell_type": "markdown",
   "id": "82ed68a4",
   "metadata": {},
   "source": [
    "# Task 4 (12 pts): Observational study\n",
    "\n",
    "You decide to use your observational study skills to obtain a concrete answer to the question: do rebuttals increase acceptance?\n",
    "\n",
    " **4.1** Perform exact one-to-one matching considering the `score_before_avg` and the `track` variables. Each paper that had a rebuttal (\"treatment group\") should be matched to a paper that did not have a rebuttal (\"control group\"). \n",
    "- Your matching should be optimal, i.e., the maximum amount of papers possible must be matched. \n",
    "- Print the dataframe of papers in the matched sample"
   ]
  },
  {
   "cell_type": "code",
   "execution_count": 23,
   "id": "50bd5396-d9b2-43f9-8b9a-1c920ba75b2c",
   "metadata": {
    "tags": []
   },
   "outputs": [
    {
     "data": {
      "text/html": [
       "<div>\n",
       "<style scoped>\n",
       "    .dataframe tbody tr th:only-of-type {\n",
       "        vertical-align: middle;\n",
       "    }\n",
       "\n",
       "    .dataframe tbody tr th {\n",
       "        vertical-align: top;\n",
       "    }\n",
       "\n",
       "    .dataframe thead th {\n",
       "        text-align: right;\n",
       "    }\n",
       "</style>\n",
       "<table border=\"1\" class=\"dataframe\">\n",
       "  <thead>\n",
       "    <tr style=\"text-align: right;\">\n",
       "      <th></th>\n",
       "      <th>tmp_id</th>\n",
       "      <th>status</th>\n",
       "      <th>submission_type</th>\n",
       "      <th>track</th>\n",
       "      <th>scores_before</th>\n",
       "      <th>scores_after</th>\n",
       "      <th>had_rebuttal</th>\n",
       "      <th>overall_score_before_avg</th>\n",
       "      <th>overall_score_after_avg</th>\n",
       "      <th>overall_score_before_std</th>\n",
       "      <th>...</th>\n",
       "      <th>Sentence-level semantics-onehot</th>\n",
       "      <th>Sentiment Analysis and Argument Mining-onehot</th>\n",
       "      <th>Social Media-onehot</th>\n",
       "      <th>Summarization-onehot</th>\n",
       "      <th>Tagging Chunking Syntax and Parsing-onehot</th>\n",
       "      <th>Textual Inference and Other Areas of Semantics-onehot</th>\n",
       "      <th>Vision Robotics Multimodal Grounding and Speech-onehot</th>\n",
       "      <th>Word-level Semantics-onehot</th>\n",
       "      <th>had_rebuttal_int</th>\n",
       "      <th>accepted_int</th>\n",
       "    </tr>\n",
       "  </thead>\n",
       "  <tbody>\n",
       "    <tr>\n",
       "      <th>1515</th>\n",
       "      <td>P1523</td>\n",
       "      <td>Reject</td>\n",
       "      <td>Long</td>\n",
       "      <td>Document Analysis</td>\n",
       "      <td>{'1': {'scores': {'originality': 2, 'soundness...</td>\n",
       "      <td>{'1': {'scores': {'originality': 2, 'soundness...</td>\n",
       "      <td>True</td>\n",
       "      <td>3.000000</td>\n",
       "      <td>3.000000</td>\n",
       "      <td>1.000000</td>\n",
       "      <td>...</td>\n",
       "      <td>0.0</td>\n",
       "      <td>0.0</td>\n",
       "      <td>0.0</td>\n",
       "      <td>0.0</td>\n",
       "      <td>0.0</td>\n",
       "      <td>0.0</td>\n",
       "      <td>0.0</td>\n",
       "      <td>0.0</td>\n",
       "      <td>1</td>\n",
       "      <td>0</td>\n",
       "    </tr>\n",
       "    <tr>\n",
       "      <th>595</th>\n",
       "      <td>P597</td>\n",
       "      <td>Reject</td>\n",
       "      <td>Short</td>\n",
       "      <td>Machine Translation</td>\n",
       "      <td>{'3': {'scores': {'originality': 3, 'soundness...</td>\n",
       "      <td>{'3': {'scores': {'originality': 3, 'soundness...</td>\n",
       "      <td>True</td>\n",
       "      <td>2.000000</td>\n",
       "      <td>2.000000</td>\n",
       "      <td>0.000000</td>\n",
       "      <td>...</td>\n",
       "      <td>0.0</td>\n",
       "      <td>0.0</td>\n",
       "      <td>0.0</td>\n",
       "      <td>0.0</td>\n",
       "      <td>0.0</td>\n",
       "      <td>0.0</td>\n",
       "      <td>0.0</td>\n",
       "      <td>0.0</td>\n",
       "      <td>1</td>\n",
       "      <td>0</td>\n",
       "    </tr>\n",
       "    <tr>\n",
       "      <th>669</th>\n",
       "      <td>P672</td>\n",
       "      <td>Reject</td>\n",
       "      <td>Long</td>\n",
       "      <td>Information Extraction and Text Mining</td>\n",
       "      <td>{'1': {'scores': {'originality': 3, 'soundness...</td>\n",
       "      <td>{'1': {'scores': {'originality': 3, 'soundness...</td>\n",
       "      <td>True</td>\n",
       "      <td>1.500000</td>\n",
       "      <td>1.500000</td>\n",
       "      <td>0.500000</td>\n",
       "      <td>...</td>\n",
       "      <td>0.0</td>\n",
       "      <td>0.0</td>\n",
       "      <td>0.0</td>\n",
       "      <td>0.0</td>\n",
       "      <td>0.0</td>\n",
       "      <td>0.0</td>\n",
       "      <td>0.0</td>\n",
       "      <td>0.0</td>\n",
       "      <td>1</td>\n",
       "      <td>0</td>\n",
       "    </tr>\n",
       "    <tr>\n",
       "      <th>351</th>\n",
       "      <td>P353</td>\n",
       "      <td>Reject</td>\n",
       "      <td>Long</td>\n",
       "      <td>Summarization</td>\n",
       "      <td>{'1': {'scores': {'originality': 4, 'soundness...</td>\n",
       "      <td>{'1': {'scores': {'originality': 4, 'soundness...</td>\n",
       "      <td>True</td>\n",
       "      <td>3.333333</td>\n",
       "      <td>3.333333</td>\n",
       "      <td>0.471405</td>\n",
       "      <td>...</td>\n",
       "      <td>0.0</td>\n",
       "      <td>0.0</td>\n",
       "      <td>0.0</td>\n",
       "      <td>1.0</td>\n",
       "      <td>0.0</td>\n",
       "      <td>0.0</td>\n",
       "      <td>0.0</td>\n",
       "      <td>0.0</td>\n",
       "      <td>1</td>\n",
       "      <td>0</td>\n",
       "    </tr>\n",
       "    <tr>\n",
       "      <th>270</th>\n",
       "      <td>P271</td>\n",
       "      <td>Reject</td>\n",
       "      <td>Long</td>\n",
       "      <td>Phonology Morphology and Word Segmentation</td>\n",
       "      <td>{'1': {'scores': {'originality': 4, 'soundness...</td>\n",
       "      <td>{'1': {'scores': {'originality': 4, 'soundness...</td>\n",
       "      <td>True</td>\n",
       "      <td>2.333333</td>\n",
       "      <td>2.333333</td>\n",
       "      <td>0.471405</td>\n",
       "      <td>...</td>\n",
       "      <td>0.0</td>\n",
       "      <td>0.0</td>\n",
       "      <td>0.0</td>\n",
       "      <td>0.0</td>\n",
       "      <td>0.0</td>\n",
       "      <td>0.0</td>\n",
       "      <td>0.0</td>\n",
       "      <td>0.0</td>\n",
       "      <td>1</td>\n",
       "      <td>0</td>\n",
       "    </tr>\n",
       "    <tr>\n",
       "      <th>...</th>\n",
       "      <td>...</td>\n",
       "      <td>...</td>\n",
       "      <td>...</td>\n",
       "      <td>...</td>\n",
       "      <td>...</td>\n",
       "      <td>...</td>\n",
       "      <td>...</td>\n",
       "      <td>...</td>\n",
       "      <td>...</td>\n",
       "      <td>...</td>\n",
       "      <td>...</td>\n",
       "      <td>...</td>\n",
       "      <td>...</td>\n",
       "      <td>...</td>\n",
       "      <td>...</td>\n",
       "      <td>...</td>\n",
       "      <td>...</td>\n",
       "      <td>...</td>\n",
       "      <td>...</td>\n",
       "      <td>...</td>\n",
       "      <td>...</td>\n",
       "    </tr>\n",
       "    <tr>\n",
       "      <th>368</th>\n",
       "      <td>P370</td>\n",
       "      <td>Reject</td>\n",
       "      <td>Short</td>\n",
       "      <td>Sentence-level semantics</td>\n",
       "      <td>{'1': {'scores': {'originality': 2, 'soundness...</td>\n",
       "      <td>{'1': {'scores': {'originality': 2, 'soundness...</td>\n",
       "      <td>True</td>\n",
       "      <td>2.000000</td>\n",
       "      <td>2.000000</td>\n",
       "      <td>0.000000</td>\n",
       "      <td>...</td>\n",
       "      <td>1.0</td>\n",
       "      <td>0.0</td>\n",
       "      <td>0.0</td>\n",
       "      <td>0.0</td>\n",
       "      <td>0.0</td>\n",
       "      <td>0.0</td>\n",
       "      <td>0.0</td>\n",
       "      <td>0.0</td>\n",
       "      <td>1</td>\n",
       "      <td>0</td>\n",
       "    </tr>\n",
       "    <tr>\n",
       "      <th>475</th>\n",
       "      <td>P477</td>\n",
       "      <td>Reject</td>\n",
       "      <td>Long</td>\n",
       "      <td>Sentence-level semantics</td>\n",
       "      <td>{'1': {'scores': {'originality': 2, 'soundness...</td>\n",
       "      <td>{'1': {'scores': {'originality': 2, 'soundness...</td>\n",
       "      <td>False</td>\n",
       "      <td>2.000000</td>\n",
       "      <td>2.000000</td>\n",
       "      <td>0.000000</td>\n",
       "      <td>...</td>\n",
       "      <td>1.0</td>\n",
       "      <td>0.0</td>\n",
       "      <td>0.0</td>\n",
       "      <td>0.0</td>\n",
       "      <td>0.0</td>\n",
       "      <td>0.0</td>\n",
       "      <td>0.0</td>\n",
       "      <td>0.0</td>\n",
       "      <td>0</td>\n",
       "      <td>0</td>\n",
       "    </tr>\n",
       "    <tr>\n",
       "      <th>416</th>\n",
       "      <td>P418</td>\n",
       "      <td>Reject</td>\n",
       "      <td>Long</td>\n",
       "      <td>Textual Inference and Other Areas of Semantics</td>\n",
       "      <td>{'2': {'scores': {'originality': 3, 'soundness...</td>\n",
       "      <td>{'2': {'scores': {'originality': 3, 'soundness...</td>\n",
       "      <td>False</td>\n",
       "      <td>2.500000</td>\n",
       "      <td>1.500000</td>\n",
       "      <td>1.500000</td>\n",
       "      <td>...</td>\n",
       "      <td>0.0</td>\n",
       "      <td>0.0</td>\n",
       "      <td>0.0</td>\n",
       "      <td>0.0</td>\n",
       "      <td>0.0</td>\n",
       "      <td>1.0</td>\n",
       "      <td>0.0</td>\n",
       "      <td>0.0</td>\n",
       "      <td>0</td>\n",
       "      <td>0</td>\n",
       "    </tr>\n",
       "    <tr>\n",
       "      <th>591</th>\n",
       "      <td>P593</td>\n",
       "      <td>Reject</td>\n",
       "      <td>Long</td>\n",
       "      <td>Resources and Evaluation</td>\n",
       "      <td>{'1': {'scores': {'originality': 3, 'soundness...</td>\n",
       "      <td>{'1': {'scores': {'originality': 3, 'soundness...</td>\n",
       "      <td>True</td>\n",
       "      <td>2.666667</td>\n",
       "      <td>2.333333</td>\n",
       "      <td>1.699673</td>\n",
       "      <td>...</td>\n",
       "      <td>0.0</td>\n",
       "      <td>0.0</td>\n",
       "      <td>0.0</td>\n",
       "      <td>0.0</td>\n",
       "      <td>0.0</td>\n",
       "      <td>0.0</td>\n",
       "      <td>0.0</td>\n",
       "      <td>0.0</td>\n",
       "      <td>1</td>\n",
       "      <td>0</td>\n",
       "    </tr>\n",
       "    <tr>\n",
       "      <th>127</th>\n",
       "      <td>P128</td>\n",
       "      <td>Reject</td>\n",
       "      <td>Long</td>\n",
       "      <td>Discourse and Pragmatics</td>\n",
       "      <td>{'1': {'scores': {'originality': 4, 'soundness...</td>\n",
       "      <td>{'1': {'scores': {'originality': 4, 'soundness...</td>\n",
       "      <td>True</td>\n",
       "      <td>4.000000</td>\n",
       "      <td>3.333333</td>\n",
       "      <td>0.000000</td>\n",
       "      <td>...</td>\n",
       "      <td>0.0</td>\n",
       "      <td>0.0</td>\n",
       "      <td>0.0</td>\n",
       "      <td>0.0</td>\n",
       "      <td>0.0</td>\n",
       "      <td>0.0</td>\n",
       "      <td>0.0</td>\n",
       "      <td>0.0</td>\n",
       "      <td>1</td>\n",
       "      <td>0</td>\n",
       "    </tr>\n",
       "  </tbody>\n",
       "</table>\n",
       "<p>542 rows × 34 columns</p>\n",
       "</div>"
      ],
      "text/plain": [
       "     tmp_id  status submission_type  \\\n",
       "1515  P1523  Reject            Long   \n",
       "595    P597  Reject           Short   \n",
       "669    P672  Reject            Long   \n",
       "351    P353  Reject            Long   \n",
       "270    P271  Reject            Long   \n",
       "...     ...     ...             ...   \n",
       "368    P370  Reject           Short   \n",
       "475    P477  Reject            Long   \n",
       "416    P418  Reject            Long   \n",
       "591    P593  Reject            Long   \n",
       "127    P128  Reject            Long   \n",
       "\n",
       "                                               track  \\\n",
       "1515                               Document Analysis   \n",
       "595                              Machine Translation   \n",
       "669           Information Extraction and Text Mining   \n",
       "351                                    Summarization   \n",
       "270       Phonology Morphology and Word Segmentation   \n",
       "...                                              ...   \n",
       "368                         Sentence-level semantics   \n",
       "475                         Sentence-level semantics   \n",
       "416   Textual Inference and Other Areas of Semantics   \n",
       "591                         Resources and Evaluation   \n",
       "127                         Discourse and Pragmatics   \n",
       "\n",
       "                                          scores_before  \\\n",
       "1515  {'1': {'scores': {'originality': 2, 'soundness...   \n",
       "595   {'3': {'scores': {'originality': 3, 'soundness...   \n",
       "669   {'1': {'scores': {'originality': 3, 'soundness...   \n",
       "351   {'1': {'scores': {'originality': 4, 'soundness...   \n",
       "270   {'1': {'scores': {'originality': 4, 'soundness...   \n",
       "...                                                 ...   \n",
       "368   {'1': {'scores': {'originality': 2, 'soundness...   \n",
       "475   {'1': {'scores': {'originality': 2, 'soundness...   \n",
       "416   {'2': {'scores': {'originality': 3, 'soundness...   \n",
       "591   {'1': {'scores': {'originality': 3, 'soundness...   \n",
       "127   {'1': {'scores': {'originality': 4, 'soundness...   \n",
       "\n",
       "                                           scores_after  had_rebuttal  \\\n",
       "1515  {'1': {'scores': {'originality': 2, 'soundness...          True   \n",
       "595   {'3': {'scores': {'originality': 3, 'soundness...          True   \n",
       "669   {'1': {'scores': {'originality': 3, 'soundness...          True   \n",
       "351   {'1': {'scores': {'originality': 4, 'soundness...          True   \n",
       "270   {'1': {'scores': {'originality': 4, 'soundness...          True   \n",
       "...                                                 ...           ...   \n",
       "368   {'1': {'scores': {'originality': 2, 'soundness...          True   \n",
       "475   {'1': {'scores': {'originality': 2, 'soundness...         False   \n",
       "416   {'2': {'scores': {'originality': 3, 'soundness...         False   \n",
       "591   {'1': {'scores': {'originality': 3, 'soundness...          True   \n",
       "127   {'1': {'scores': {'originality': 4, 'soundness...          True   \n",
       "\n",
       "      overall_score_before_avg  overall_score_after_avg  \\\n",
       "1515                  3.000000                 3.000000   \n",
       "595                   2.000000                 2.000000   \n",
       "669                   1.500000                 1.500000   \n",
       "351                   3.333333                 3.333333   \n",
       "270                   2.333333                 2.333333   \n",
       "...                        ...                      ...   \n",
       "368                   2.000000                 2.000000   \n",
       "475                   2.000000                 2.000000   \n",
       "416                   2.500000                 1.500000   \n",
       "591                   2.666667                 2.333333   \n",
       "127                   4.000000                 3.333333   \n",
       "\n",
       "      overall_score_before_std  ...  Sentence-level semantics-onehot  \\\n",
       "1515                  1.000000  ...                              0.0   \n",
       "595                   0.000000  ...                              0.0   \n",
       "669                   0.500000  ...                              0.0   \n",
       "351                   0.471405  ...                              0.0   \n",
       "270                   0.471405  ...                              0.0   \n",
       "...                        ...  ...                              ...   \n",
       "368                   0.000000  ...                              1.0   \n",
       "475                   0.000000  ...                              1.0   \n",
       "416                   1.500000  ...                              0.0   \n",
       "591                   1.699673  ...                              0.0   \n",
       "127                   0.000000  ...                              0.0   \n",
       "\n",
       "      Sentiment Analysis and Argument Mining-onehot  Social Media-onehot  \\\n",
       "1515                                            0.0                  0.0   \n",
       "595                                             0.0                  0.0   \n",
       "669                                             0.0                  0.0   \n",
       "351                                             0.0                  0.0   \n",
       "270                                             0.0                  0.0   \n",
       "...                                             ...                  ...   \n",
       "368                                             0.0                  0.0   \n",
       "475                                             0.0                  0.0   \n",
       "416                                             0.0                  0.0   \n",
       "591                                             0.0                  0.0   \n",
       "127                                             0.0                  0.0   \n",
       "\n",
       "      Summarization-onehot  Tagging Chunking Syntax and Parsing-onehot  \\\n",
       "1515                   0.0                                         0.0   \n",
       "595                    0.0                                         0.0   \n",
       "669                    0.0                                         0.0   \n",
       "351                    1.0                                         0.0   \n",
       "270                    0.0                                         0.0   \n",
       "...                    ...                                         ...   \n",
       "368                    0.0                                         0.0   \n",
       "475                    0.0                                         0.0   \n",
       "416                    0.0                                         0.0   \n",
       "591                    0.0                                         0.0   \n",
       "127                    0.0                                         0.0   \n",
       "\n",
       "      Textual Inference and Other Areas of Semantics-onehot  \\\n",
       "1515                                                0.0       \n",
       "595                                                 0.0       \n",
       "669                                                 0.0       \n",
       "351                                                 0.0       \n",
       "270                                                 0.0       \n",
       "...                                                 ...       \n",
       "368                                                 0.0       \n",
       "475                                                 0.0       \n",
       "416                                                 1.0       \n",
       "591                                                 0.0       \n",
       "127                                                 0.0       \n",
       "\n",
       "      Vision Robotics Multimodal Grounding and Speech-onehot  \\\n",
       "1515                                                0.0        \n",
       "595                                                 0.0        \n",
       "669                                                 0.0        \n",
       "351                                                 0.0        \n",
       "270                                                 0.0        \n",
       "...                                                 ...        \n",
       "368                                                 0.0        \n",
       "475                                                 0.0        \n",
       "416                                                 0.0        \n",
       "591                                                 0.0        \n",
       "127                                                 0.0        \n",
       "\n",
       "      Word-level Semantics-onehot  had_rebuttal_int  accepted_int  \n",
       "1515                          0.0                 1             0  \n",
       "595                           0.0                 1             0  \n",
       "669                           0.0                 1             0  \n",
       "351                           0.0                 1             0  \n",
       "270                           0.0                 1             0  \n",
       "...                           ...               ...           ...  \n",
       "368                           0.0                 1             0  \n",
       "475                           0.0                 0             0  \n",
       "416                           0.0                 0             0  \n",
       "591                           0.0                 1             0  \n",
       "127                           0.0                 1             0  \n",
       "\n",
       "[542 rows x 34 columns]"
      ]
     },
     "metadata": {},
     "output_type": "display_data"
    }
   ],
   "source": [
    "# Exact matching when the treatment and control are exact same on average score and track\n",
    "# Select the treatment/control groups \n",
    "treatment_df = df_reviews[df_reviews['had_rebuttal_int']==1]\n",
    "control_df = df_reviews[df_reviews['had_rebuttal_int']==0]\n",
    "\n",
    "# Create Graph\n",
    "G = nx.Graph()\n",
    "\n",
    "# Add an edge with a weight of 1 when the control and treatment groups have the exact same average score and track\n",
    "for control_id, control_row in control_df.iterrows():\n",
    "    for treatment_id, treatment_row in treatment_df.iterrows():\n",
    "        if (control_row['track'] == treatment_row['track']) & \\\n",
    "        (control_row['overall_score_before_avg'] == treatment_row['overall_score_before_avg']):\n",
    "            G.add_weighted_edges_from([(control_id, treatment_id, 1)])\n",
    "\n",
    "# Get at most one matched node for each node, maximizing the total weight of matched edges\n",
    "matching = nx.max_weight_matching(G)\n",
    "matched = [i[0] for i in list(matching)] + [i[1] for i in list(matching)]\n",
    "\n",
    "# Select the matched pairs only\n",
    "df_matched = df_reviews.loc[matched]\n",
    "display(df_matched)"
   ]
  },
  {
   "cell_type": "markdown",
   "id": "c31c97d1",
   "metadata": {},
   "source": [
    "**4.2** So far, we did not consider the `score_before_std` variable. One could argue that the variance in the scores makes a difference. E.g., a paper that received scores 1 and 5, might be very different from a paper with scores 3 and 3. \n",
    "\n",
    "Note that you did not match on the `score_before_std` variable. However, it suffices if this variable is \"balanced\" across treatment and control groups.\n",
    " Use the Standardized Mean Difference (SMD) to assess whether that's the case.\n",
    "\n",
    "- The standardized mean difference for a variable $x$ and two groups $t$ and $c$ is defined as: $\\frac{| E[x_t] - E[x_c] |}{\\sqrt{Var[x_t] + Var[x_c]}}$\n",
    "\n",
    "- Note that a Standardized Mean Difference smaller than 0.1 suggests that variables are balanced across treatment and control groups.\n"
   ]
  },
  {
   "cell_type": "code",
   "execution_count": 24,
   "id": "c16b2276-ba5f-47d0-b830-ac33a3d3b1a4",
   "metadata": {
    "tags": []
   },
   "outputs": [
    {
     "name": "stdout",
     "output_type": "stream",
     "text": [
      "SMD: 0.07632\n"
     ]
    }
   ],
   "source": [
    "# select the treatment/control groups of the matched dataset\n",
    "treatment_df_match = df_matched[df_matched['had_rebuttal_int']==1]\n",
    "control_df_match = df_matched[df_matched['had_rebuttal_int']==0]\n",
    "\n",
    "# compute smd\n",
    "smd = np.abs(np.mean(treatment_df_match['overall_score_before_std']) - \\\n",
    "             np.mean(control_df_match['overall_score_before_std'])) / \\\n",
    "      np.sqrt(np.var(treatment_df_match['overall_score_before_std']) + \\\n",
    "              np.var(control_df_match['overall_score_before_std']))\n",
    "print('SMD: {0:.5}'.format(smd))"
   ]
  },
  {
   "cell_type": "markdown",
   "id": "2d4a0a33-5090-4293-b1b1-d6eb027d58d0",
   "metadata": {},
   "source": [
    "**Answer:**\n",
    "We see that smd=0.07632 < 0.1, which suggests that the `overall_score_before_std` is balanced across the 2 groups."
   ]
  },
  {
   "cell_type": "markdown",
   "id": "042f788c",
   "metadata": {},
   "source": [
    "\n",
    "**4.3** Using the matched sample, estimate the following linear regression: `accepted ~ had_rebuttal_int`.\n"
   ]
  },
  {
   "cell_type": "code",
   "execution_count": 25,
   "id": "df6df892-e7e2-482b-8c72-1ce2b8f97e81",
   "metadata": {
    "tags": []
   },
   "outputs": [
    {
     "name": "stdout",
     "output_type": "stream",
     "text": [
      "                            OLS Regression Results                            \n",
      "==============================================================================\n",
      "Dep. Variable:           accepted_int   R-squared:                       0.000\n",
      "Model:                            OLS   Adj. R-squared:                 -0.002\n",
      "Method:                 Least Squares   F-statistic:                   0.07696\n",
      "Date:                Fri, 01 Dec 2023   Prob (F-statistic):              0.782\n",
      "Time:                        16:23:58   Log-Likelihood:                -132.72\n",
      "No. Observations:                 542   AIC:                             269.4\n",
      "Df Residuals:                     540   BIC:                             278.0\n",
      "Df Model:                           1                                         \n",
      "Covariance Type:            nonrobust                                         \n",
      "====================================================================================\n",
      "                       coef    std err          t      P>|t|      [0.025      0.975]\n",
      "------------------------------------------------------------------------------------\n",
      "Intercept            0.1033      0.019      5.492      0.000       0.066       0.140\n",
      "had_rebuttal_int     0.0074      0.027      0.277      0.782      -0.045       0.060\n",
      "==============================================================================\n",
      "Omnibus:                      278.289   Durbin-Watson:                   1.931\n",
      "Prob(Omnibus):                  0.000   Jarque-Bera (JB):             1033.626\n",
      "Skew:                           2.542   Prob(JB):                    3.56e-225\n",
      "Kurtosis:                       7.463   Cond. No.                         2.62\n",
      "==============================================================================\n",
      "\n",
      "Notes:\n",
      "[1] Standard Errors assume that the covariance matrix of the errors is correctly specified.\n"
     ]
    }
   ],
   "source": [
    "# estimate the linear regression using ols module\n",
    "ols_regression(df_matched, 'accepted_int ~ had_rebuttal_int')"
   ]
  },
  {
   "cell_type": "markdown",
   "id": "f98b8b2c-45a0-40e0-b3f6-c17b2a462b5a",
   "metadata": {
    "tags": []
   },
   "source": [
    "**Answer:**\n",
    "`accepted_int` = 0.1033 + 0.0074 * `had_rebuttal_int`"
   ]
  },
  {
   "cell_type": "markdown",
   "id": "21c8423e",
   "metadata": {},
   "source": [
    "\n",
    "**4.4** **/Discuss:/**\n",
    "\n",
    "i. Considering your results obtained in 4.3, and the causal diagram drawn in Task 3: do rebuttals increase the chance of a paper getting accepted? Why are results different from what you obtained in **Task 1?**\n",
    "\n",
    "ii. Why is there no need to include other covariates (e.g., score before) in the regression?"
   ]
  },
  {
   "cell_type": "markdown",
   "id": "c92ed34c-8b8d-4c1f-a30f-22a8ffb732cf",
   "metadata": {},
   "source": [
    "**Answer:**\n",
    "\n",
    "i. Because the coefficient of `had_rebuttal_int` is very small and its corresponding pvalue > 0.05, we can say that rebuttals don't affect the acceptance of the paper.\n",
    "\n",
    "Here the result is different than what we observed in task 1, because in task 1 we studied the correalation between acceptance and rebuttal directly without considering any confounders. However, `overall_score_before_avg` and `track` are influencing both the rebuttals and acceptance and are confounders. So, here we have balanced papers with and without rebuttals, making the `overall_score_before_avg` and `track` on both groups, and found that having rebuttals does not influence the acceptance of the paper.\n",
    "\n",
    "ii. Because we have balanced the dataset on `track`, `overall_score_before_avg` and given that the matched dataset was already balanced on `overall_score_before_std`, they don't affect the `accepted_int` directly."
   ]
  },
  {
   "cell_type": "markdown",
   "id": "e4867ea1",
   "metadata": {},
   "source": [
    "**4.5** **/Discuss:/** Imagine there is another, unobserved variable \"quality\" which captures the true quality of the paper. Suppose quality (\"Qu\") is connected to the DAG you drew in the following ways:\n",
    "- Qu -> Sa\n",
    "- Qu -> Sb\n",
    "- Qu -> Re\n",
    "- Qu -> Ac \n",
    "\n",
    "Assume that\n",
    "\n",
    "- quality can only increase the chances of rebuttals;\n",
    "- quality and the rebuttal can only increase the chance of a paper being accepted.\n",
    "\n",
    "Does this uncontrolled confounder threaten the validity of your findings?\n"
   ]
  },
  {
   "cell_type": "markdown",
   "id": "d6310fdf-3329-4a81-8666-3286eba7762d",
   "metadata": {},
   "source": [
    "**Answer:**\n",
    "\n",
    "- Before in Task 3.5 we had put the correlation Re -> Ac, as we were still studying it, however after matching the control/treatment groups, we saw that there is actually no direct correlation, but it was because of the presense of confounders `overall_score_before_avg` (Sb) and `track` (Tr). Our finding is that **having a rebuttal does not cause the paper to be accepted.**\n",
    "\n",
    "- The fact that we don't have a correlation Sa -> Re, and we have removed the correlation Sb -> Re by matching the control/treatment group on `overall_score_before_avg` means the correlations Qu -> Sa and Qu -> Sb do not affect our study of the correlation between Re and Ac.\n",
    "\n",
    "- Because \"Qu\" is influencing both Re and Ac, it is an additional confounder that we are not considering in our analysis, so by considering the Quality of the paper, maybe we could have found a direct correlation (meaning causation) between `had_rebuttal_int` and `accepted_int`. However, because the increase of the chance of a paper's acceptance is caused by quality and rebuttal, and the increase of the chances of rebuttals is caused by quality, the increase of the chance of a paper's acceptance might be caused by the quality only, and not be influenced by the rebuttals directly. We could study it by matching on `Quality` as well, if that is the case, it would not have invalidated our current findings."
   ]
  }
 ],
 "metadata": {
  "kernelspec": {
   "display_name": "Python 3 (ipykernel)",
   "language": "python",
   "name": "python3"
  },
  "language_info": {
   "codemirror_mode": {
    "name": "ipython",
    "version": 3
   },
   "file_extension": ".py",
   "mimetype": "text/x-python",
   "name": "python",
   "nbconvert_exporter": "python",
   "pygments_lexer": "ipython3",
   "version": "3.9.18"
  }
 },
 "nbformat": 4,
 "nbformat_minor": 5
}
