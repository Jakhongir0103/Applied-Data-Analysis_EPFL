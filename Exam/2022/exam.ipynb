{
 "cells": [
  {
   "cell_type": "markdown",
   "id": "09e9a536",
   "metadata": {},
   "source": [
    "## ADA final exam (Fall 2022)\n",
    "\n",
    "This exam consists of 3 tasks. Tasks 2 and 3 are independent of each other (although conceptually related).\n"
   ]
  },
  {
   "cell_type": "markdown",
   "id": "68507ec4",
   "metadata": {},
   "source": [
    "## Dataset\n",
    "\n",
    "For a Wikipedia editor to become an administrator, a so-called “request for adminship” ([RfA](https://en.wikipedia.org/wiki/Wikipedia:Requests_for_adminship)) must be submitted by either the candidate or another community member. Subsequently, any Wikipedia member may cast a supporting or opposing vote. Here we provide a simplified version of the Wikipedia RfA dataset, containing all votes from 2003 through 2012.\n",
    "\n",
    "###  Data format\n",
    "\n",
    "|        |   SRC |   TGT |   VOT |   RES |   YEA | DAT                 | TXT                                                                                                                                                                                               |\n",
    "|-------:|------:|------:|------:|------:|------:|:--------------------|:--------------------------------------------------------------------------------------------------------------------------------------------------------------------------------------------------|\n",
    "|  39054 |  3444 | 10170 |     1 |     1 |  2009 | 2009-07-01 17:50:00 | '''Support''' - Best of luck. &nbsp;                                                                                                                                                              |\n",
    "| 159680 |   722 |  9634 |    -1 |    -1 |  2006 | 2006-12-15 07:28:00 | '''Oppose''' Not even 2000 edits.                                                                                                                                                                 |\n",
    "| 173438 |  4194 |  5524 |     1 |     1 |  2005 | 2005-03-18 19:22:00 | Ohhh, you're Carrp!  In that case, '''Support'''.                                                                                                                                                 |\n",
    "|  60627 |  4855 |  9436 |     1 |     1 |  2008 | 2008-12-18 23:26:00 | '''Support''' via thoughtful answer to my question that demonstrates this editor has clue.                                                 |\n",
    "| 194809 |  7687 |   908 |     1 |     1 |  2004 | 2004-09-25 05:21:00 | Nicholas is very good in English. Also, he got '''exceptional''' patience to explain petty obvious facts in talk page to convince ignorants. Let the world be benefitted more out of his work. -- |\n",
    "\n",
    "\n",
    "- SRC: the user name of the source of the vote, i.e., of the user who cast the vote.\n",
    "- TGT: the user name of the target of the vote, i.e., of the user running for election.\n",
    "- VOT: the source's vote on the target (-1 = oppose; 1 = support).\n",
    "- RES: the outcome of the election (-1 = target was rejected as admin; 1 = target was accepted). **(We will not use this  column in this exam.)**\n",
    "- YEA: the year of the RfA.\n",
    "- DAT: the date and time of this vote. **(We will not use this column in this exam.)**\n",
    "- TXT: the comment written by the source. **(We will not use this column in this exam.)**\n",
    "\n",
    "---\n"
   ]
  },
  {
   "cell_type": "markdown",
   "id": "4a4a661c",
   "metadata": {},
   "source": [
    "## Structural balance theory\n",
    "\n",
    "**Structural balance theory** affirms that social networks tend to be organized so as to avoid conflictual situations, e.g., if a great friend of yours hates someone, you will likely not befriend that person.\n",
    "\n",
    "The theory can be operationalized by looking at _triangles_ in an undirected _signed graph_ capturing person-to-person relationships, where a _signed graph_ is a  graph in which each edge is associated with a positive or negative sign, and a _triangle_ is a set of three edges ($\\langle u,v \\rangle$, $\\langle v,w\\rangle$, $\\langle u,w\\rangle$) that fully connect three distinct nodes ($u, v, w$).\n",
    "\n",
    "\n",
    "\n",
    "_Triangles_ in an undirected signed graph can be in 4 _configurations_:\n",
    "all positive edges ($\\{+,+,+\\}$); \n",
    "all negative edges ($\\{-,-,-\\}$); \n",
    "two positive edges and one negative edge ($\\{+,+,-\\}$);\n",
    "one positive edge and two negative edges ($\\{+,-,-\\}$).\n",
    "\n",
    "Structural balance theory posits that social networks tend to favor triangle configurations with an even number of negative signs (i.e., $\\{+,+,+\\}$ and $\\{+,-,-\\}$), which can be understood as being “balanced” by avoiding conflictual situations. Intuitively, $\\{+,+,+\\}$ could be tagged as “The friend of my friend is my friend”, and $\\{+,-,-\\}$ as “The enemy of my enemy is my friend”, “The friend of my enemy is my enemy”, or “The enemy of my friend is my enemy”. On the contrary, triangle configurations with an odd number of negative signs (i.e., $\\{+,+,-\\}$ and $\\{-,-,-\\}$) are unstable (“unbalanced”) according to structural balance theory and will thus occur less frequently in social networks. For instance, me being friends with two mutual enemies ($\\{+,+,-\\}$) would lead to tension that could be resolved if the two enemies became friends or if I took sides and ended my friendship with one of the two. Similarly, two among three mutual enemies ($\\{-,-,-\\}$) would have the incentive to form an alliance to “gang up” against the third.\n",
    "\n",
    "Some social scientists have argued that three mutual enemies ($\\{-,-,-\\}$) is not necessarily a triangle configuration that social networks tend to avoid. This gives rise to **weak structural balance theory**, which only posits that social networks tend to avoid the “unbalanced” triangle configuration $\\{+,+,-\\}$.\n",
    "\n",
    "In a nutshell,\n",
    "- structural balance theory\n",
    "  - considers $\\{+,+,+\\}$, $\\{+,-,-\\}$ as balanced,\n",
    "  - and $\\{+,+,-\\}$, $\\{-,-,-\\}$ as unbalanced;\n",
    "- weak structural balance theory\n",
    "  - considers $\\{+,+,+\\}$, $\\{+,-,-\\}$, $\\{-,-,-\\}$ as balanced,\n",
    "  - and $\\{+,+,-\\}$ as unbalanced.\n",
    "\n"
   ]
  },
  {
   "cell_type": "code",
   "execution_count": 1,
   "id": "405aee08",
   "metadata": {},
   "outputs": [],
   "source": [
    "# 1.1\n",
    "import pandas as pd\n",
    "import numpy as np\n",
    "\n",
    "# plots\n",
    "import matplotlib.pyplot as plt\n",
    "%matplotlib inline\n",
    "import seaborn as sns\n",
    "\n",
    "# ignore warnings\n",
    "import warnings\n",
    "warnings.filterwarnings(\"ignore\")"
   ]
  },
  {
   "cell_type": "markdown",
   "id": "d5f337c9",
   "metadata": {},
   "source": [
    "### Task 1: Preliminaries\n",
    "\n",
    "As a good data scientist, you first load the data and explore it.\n",
    "\n",
    "**1.1**\n",
    "Load the csv file `wiki-RfA.csv.gz` in a pandas dataframe. Calculate the number of distinct RfAs and the average number of votes per RfA.\n",
    "- **Hint:** Throughout this question, assume that each RfA is uniquely determined by the column `TGT` and each vote is uniquely determined by the combination of `SRC` and `TGT`."
   ]
  },
  {
   "cell_type": "code",
   "execution_count": 2,
   "id": "2a925b3c",
   "metadata": {},
   "outputs": [
    {
     "name": "stdout",
     "output_type": "stream",
     "text": [
      "Number of RFAs: 3439\n",
      "Mean votes per RfA: 48.56\n"
     ]
    }
   ],
   "source": [
    "# read dataframe\n",
    "wiki = pd.read_csv('wiki-RfA.csv.gz', compression='infer')\n",
    "\n",
    "# print\n",
    "print(\"Number of RFAs:\",wiki.TGT.nunique())\n",
    "print(\"Mean votes per RfA:\",round(wiki.groupby('TGT')['VOT'].count().mean(),2))"
   ]
  },
  {
   "cell_type": "markdown",
   "id": "813b5a32",
   "metadata": {},
   "source": [
    "**1.2** \n",
    "In a single figure with three subfigures (one per item), show the following time series:\n",
    "- the number of RfAs per year;\n",
    "- the overall fraction of positive votes per year; and \n",
    "- the average number of votes per RfA per year.\n",
    "\n",
    "For each of the above three quantities, print the value for the year 2008."
   ]
  },
  {
   "cell_type": "code",
   "execution_count": 3,
   "id": "7549a632",
   "metadata": {},
   "outputs": [
    {
     "data": {
      "image/png": "[encoded data removed]",
      "text/plain": [
       "<Figure size 1500x400 with 3 Axes>"
      ]
     },
     "metadata": {},
     "output_type": "display_data"
    }
   ],
   "source": [
    "# make a copy of df for this question only\n",
    "wiki_1_2 = wiki.copy()\n",
    "wiki_1_2['pos_vot'] = (wiki.VOT==1).astype(int)\n",
    "\n",
    "# find the above quantities\n",
    "plot_1_1 = wiki.groupby('YEA')['TGT'].nunique()\n",
    "plot_1_2 = wiki_1_2.groupby('YEA')['pos_vot'].mean()\n",
    "plot_1_3 = wiki.groupby(['YEA','TGT'],as_index=False)['VOT'].count().groupby('YEA')['VOT'].mean()\n",
    "\n",
    "# plot\n",
    "fig, axs = plt.subplots(1,3,figsize=(15,4))\n",
    "sns.lineplot(x=plot_1_1.index, y=plot_1_1.values, ax=axs[0]).set(ylabel='# RfA', xlabel='Year')\n",
    "sns.scatterplot(x=plot_1_1.index, y=plot_1_1.values, ax=axs[0])\n",
    "sns.lineplot(x=plot_1_2.index, y=plot_1_2.values, ax=axs[1]).set(ylabel='Ratio of Positive Votes', xlabel='Year')\n",
    "sns.scatterplot(x=plot_1_2.index, y=plot_1_2.values, ax=axs[1])\n",
    "sns.lineplot(x=plot_1_3.index, y=plot_1_3.values, ax=axs[2]).set(ylabel='Mean votes per RfA', xlabel='Year')\n",
    "sns.scatterplot(x=plot_1_3.index, y=plot_1_3.values, ax=axs[2])\n",
    "\n",
    "plt.tight_layout()\n",
    "plt.show()"
   ]
  },
  {
   "cell_type": "code",
   "execution_count": 4,
   "id": "8dd5600b",
   "metadata": {},
   "outputs": [
    {
     "name": "stdout",
     "output_type": "stream",
     "text": [
      "1: 520\n",
      "2: 0.7612268475384787\n",
      "3: 51.60192307692308\n"
     ]
    }
   ],
   "source": [
    "print(\"1:\",plot_1_1[2008])\n",
    "print(\"2:\",plot_1_2[2008])\n",
    "print(\"3:\",plot_1_3[2008])"
   ]
  },
  {
   "cell_type": "markdown",
   "id": "366d38d9",
   "metadata": {},
   "source": [
    "**1.3** \n",
    "**/Discuss:/** Describe the temporal patterns observed in the plots you did in **T1.2**."
   ]
  },
  {
   "cell_type": "markdown",
   "id": "e77900f8",
   "metadata": {},
   "source": [
    "**A1.3** \n",
    "\n",
    "We are having higher fraction of negative votes over the years."
   ]
  },
  {
   "cell_type": "markdown",
   "id": "81126c89",
   "metadata": {},
   "source": [
    "**1.4** \n",
    "Create an undirected graph ([`nx.Graph`](https://networkx.org/documentation/stable/reference/classes/graph.html)) where every node corresponds to a Wikipedia user (source or target of an RfA) and where there exists an edge between two users if at least one of them has voted on the other. Each edge should have attributes corresponding to columns of the dataframe, namely:\n",
    "- `VOT`, which equals `1` if the vote was positive, and `-1` otherwise.\n",
    "- `YEA`, an integer that represents the year of the RfA.\n",
    "\n",
    "**The code to load the graph has been provided to you!** After running it, print the number of nodes and edges in your graph.\n",
    "\n",
    "---\n",
    "\n",
    "**Observation:** Note that we have at most one edge per pair of nodes in the graph, even though two votes may be associated with the pair  — e.g., if A voted in B's RfA in time $t_1$ and B voted in A's RfA in time $t_2$ ($t_1 < t_2$). In these cases, the code provided associates the metadata of the oldest vote ($t_1$ in the example) to the edge between A and B."
   ]
  },
  {
   "cell_type": "code",
   "execution_count": 5,
   "id": "e57d4776",
   "metadata": {},
   "outputs": [],
   "source": [
    "# Provided code! Do not change!\n",
    "import networkx as nx\n",
    "import pandas as pd\n",
    "G = nx.from_pandas_edgelist(pd.read_csv(\"./wiki-RfA.csv.gz\"), \n",
    "                            'SRC', 'TGT', ['VOT', 'RES', 'YEA', 'DAT'], create_using=nx.Graph)"
   ]
  },
  {
   "cell_type": "code",
   "execution_count": 6,
   "id": "f21ec7a6",
   "metadata": {},
   "outputs": [
    {
     "name": "stdout",
     "output_type": "stream",
     "text": [
      "# nodes 10831\n",
      "# edges 161147\n"
     ]
    }
   ],
   "source": [
    "# 1.4\n",
    "# print the number of edges and nodes\n",
    "print(\"# nodes\", len(G.nodes))\n",
    "print(\"# edges\", len(G.edges))"
   ]
  },
  {
   "cell_type": "markdown",
   "id": "37cbd1b8",
   "metadata": {},
   "source": [
    "**1.5** \n",
    "Plot the **complementary** cumulative distribution of the degree centrality of the undirected graph. Use a logarithmic (base 10) x-axis and a linear y-axis."
   ]
  },
  {
   "cell_type": "code",
   "execution_count": 7,
   "id": "c1edfd6a",
   "metadata": {},
   "outputs": [
    {
     "data": {
      "image/png": "[encoded data removed]",
      "text/plain": [
       "<Figure size 640x480 with 1 Axes>"
      ]
     },
     "metadata": {},
     "output_type": "display_data"
    }
   ],
   "source": [
    "# 1.5\n",
    "# get the degrees of the node\n",
    "degrees = list(dict(G.degree()).values())\n",
    "\n",
    "# plot the ccdf\n",
    "sns.ecdfplot(degrees, complementary=True, log_scale=True)\n",
    "plt.title('Degree CCDF')\n",
    "plt.show()"
   ]
  },
  {
   "cell_type": "markdown",
   "id": "935be3bf",
   "metadata": {},
   "source": [
    "\n",
    "**1.6**\n",
    "**/Discuss:/** Why is the following statement false? Justify your answer. **\"From the graph obtained in task 1.5, one can conclude that around 40% of the users voted at least 11 times.\"**\n"
   ]
  },
  {
   "cell_type": "markdown",
   "id": "3316f395",
   "metadata": {},
   "source": [
    "**A1.6**\n",
    "\n",
    "Because the graph contains both incoming and outgoing links."
   ]
  },
  {
   "cell_type": "markdown",
   "id": "9d1d5f4a",
   "metadata": {},
   "source": [
    "**1.7**\n",
    "What fraction of users voted at least 11 times? Use the data to measure the fraction."
   ]
  },
  {
   "cell_type": "code",
   "execution_count": 8,
   "id": "a167a11b",
   "metadata": {},
   "outputs": [],
   "source": [
    "# 1.7\n",
    "D = nx.from_pandas_edgelist(pd.read_csv(\"./wiki-RfA.csv.gz\"), \n",
    "                            'SRC', 'TGT', ['VOT', 'RES', 'YEA', 'DAT'], create_using=nx.DiGraph)"
   ]
  },
  {
   "cell_type": "code",
   "execution_count": 9,
   "id": "6aff0f30",
   "metadata": {},
   "outputs": [
    {
     "name": "stdout",
     "output_type": "stream",
     "text": [
      "0.2486\n"
     ]
    }
   ],
   "source": [
    "# get the out degree of the nodes\n",
    "out_degree = list(dict(D.out_degree).values())\n",
    "\n",
    "# print the user voted more than (or equal to) 11 times\n",
    "print(round(len([deg for deg in out_degree if deg>=11]) / len(out_degree),4))"
   ]
  },
  {
   "cell_type": "markdown",
   "id": "35b05b29",
   "metadata": {},
   "source": [
    "### Task 2: Triangles\n",
    "\n",
    "Next, you set out to investigate the social balance theory by looking at the RfA graph.\n",
    "\n",
    "**2.1**\n",
    "Considering _only_ the RfAs of 2004 (i.e., where `YEA == 2004`), generate all triangles in the undirected graph.\n",
    "Print the number of triangles found.\n",
    "- **Hint:** Note that you can generate a graph with only a subset of nodes and edges via ` G.edge_subgraph`.\n",
    "-  **Hint:** The function `nx.enumerate_all_cliques` generates all cliques in an undirected graph. First, all cliques of size 1 are generated, then all cliques of size 2, etc. Triangles are cliques of size 3.\n"
   ]
  },
  {
   "cell_type": "code",
   "execution_count": 10,
   "id": "b39a403e",
   "metadata": {},
   "outputs": [],
   "source": [
    "# 2.1\n",
    "# get the edges of 2004\n",
    "G_edges = G.edges\n",
    "edges_2004 = []\n",
    "for edge in G_edges:\n",
    "    if G_edges[edge]['YEA'] == 2004:\n",
    "        edges_2004.append(edge)\n",
    "\n",
    "# get the 2004 votes only\n",
    "G_2004 = G.edge_subgraph(edges_2004)"
   ]
  },
  {
   "cell_type": "code",
   "execution_count": 11,
   "id": "9a892107",
   "metadata": {},
   "outputs": [
    {
     "name": "stdout",
     "output_type": "stream",
     "text": [
      "# triangles: 8448\n"
     ]
    }
   ],
   "source": [
    "# get all the griangles from the graph\n",
    "triangles = []\n",
    "for clique in (nx.enumerate_all_cliques(G_2004)):\n",
    "    if len(clique) == 3:\n",
    "        triangles.append(clique)\n",
    "print(\"# triangles:\",len(triangles))"
   ]
  },
  {
   "cell_type": "markdown",
   "id": "9b8ac389",
   "metadata": {},
   "source": [
    "**2.2 ** **/True or false:/** Is the following statement true or false? Justify your answer. **\"The node with the highest clustering coefficient in an undirected graph is the node that belongs to the largest number of triangles.\"**"
   ]
  },
  {
   "cell_type": "markdown",
   "id": "f961eef7",
   "metadata": {},
   "source": [
    "**A2.2**\n",
    "\n",
    "Yes, because the clustering coefficient is defined as # of edges among neighbours / # potential edges among neighbours."
   ]
  },
  {
   "cell_type": "markdown",
   "id": "e2f5b22c",
   "metadata": {},
   "source": [
    "**2.3** Considering the set of triangles previously calculated, estimate the fraction of triangles of configurations\n",
    " $\\{+,+,+\\}$,  $\\{-,-,-\\}$,  $\\{+,+,-\\}$, and $\\{+,-,-\\}$. What fraction of triangles are \"balanced\" according to structural balance theory?"
   ]
  },
  {
   "cell_type": "code",
   "execution_count": 12,
   "id": "54b1f0fe",
   "metadata": {},
   "outputs": [],
   "source": [
    "# {+ + +} = 3\n",
    "# {- - -} = -3\n",
    "# {+ + -} = 1\n",
    "# {+ - -} = -1"
   ]
  },
  {
   "cell_type": "code",
   "execution_count": 13,
   "id": "f858e94c",
   "metadata": {},
   "outputs": [
    {
     "name": "stdout",
     "output_type": "stream",
     "text": [
      "{+,+,-}: 1178\n",
      "{+,-,-}: 530\n",
      "{+,+,+}: 6696\n",
      "{-,-,-}: 44\n",
      "Balanced fraction: 0.86\n"
     ]
    }
   ],
   "source": [
    "# 2.3\n",
    "import itertools\n",
    "\n",
    "G_2004_edges = G_2004.edges\n",
    "\n",
    "# votes (to sum the number of triangles of each configuration)\n",
    "votes = {\n",
    "    1:0,\n",
    "    -1:0,\n",
    "    3:0,\n",
    "    -3:0\n",
    "}\n",
    "\n",
    "# mapping from vote score to its type\n",
    "vote_to_label = {\n",
    "    1:'{+,+,-}',\n",
    "    -1:'{+,-,-}',\n",
    "    3:'{+,+,+}',\n",
    "    -3:'{-,-,-}'\n",
    "}\n",
    "\n",
    "# compute the votes\n",
    "for triangle in triangles:\n",
    "    triangle_sum = 0\n",
    "    for s,t in itertools.combinations(triangle, 2):\n",
    "        triangle_sum += G_2004_edges[(s,t)]['VOT']\n",
    "    votes[triangle_sum] += 1\n",
    "\n",
    "# print the number of each triangle configuration\n",
    "for k,v in votes.items():\n",
    "    print(f'{vote_to_label[k]}: {v}')\n",
    "\n",
    "print(\"Balanced fraction:\",round((votes[3]+votes[-1])/sum(votes.values()),2))"
   ]
  },
  {
   "cell_type": "markdown",
   "id": "97e6f9f0",
   "metadata": {},
   "source": [
    "**2.4** To observe how triangle configurations would be distributed under a random null model, do the following:\n",
    "- Create a new column `VOT_RND` in the dataframe, where RfA votes (i.e., edge signs in the graph) are shuffled, i.e., permuted randomly.  For shuffling, use `numpy.random`, without replacement and with the seed 32 (see code provided below).\n",
    "- Create a new edge attribute with the values of `VOT_RND` in the graph you created in task **1.4**. You can do this easily using the  [`set_edge_attributes`](https://networkx.org/documentation/stable/reference/generated/networkx.classes.function.set_edge_attributes.html) function.\n",
    "- Considering the shuffled edge signs,  compute the fraction of triangles in each configuration ($\\{+,+,+\\}$,  $\\{-,-,-\\}$,  $\\{+,+,-\\}$, $\\{+,-,-\\}$). Moreover, compute the fraction of triangles that are \"balanced\" according to structural balance theory. (Reminder: consider only the RfAs of 2004.)\n"
   ]
  },
  {
   "cell_type": "code",
   "execution_count": 14,
   "id": "8b4cba61",
   "metadata": {},
   "outputs": [],
   "source": [
    "# PROVIDED STUB FOR 2.4\n",
    "import numpy as np\n",
    "np.random.seed(32)\n",
    "df_2004 = wiki[wiki.YEA == 2004].copy(deep=True)\n",
    "df_2004[\"VOT_RND\"] = np.random.choice(df_2004[\"VOT\"].values, size=len(df_2004), replace=False)"
   ]
  },
  {
   "cell_type": "code",
   "execution_count": 15,
   "id": "49cf240b",
   "metadata": {},
   "outputs": [],
   "source": [
    "# create attributes mapping\n",
    "attributes = {}\n",
    "for idx,row in df_2004.iterrows():\n",
    "    attributes[(row['SRC'], row['TGT'])] = row['VOT_RND']\n",
    "\n",
    "# add the attributes\n",
    "nx.set_edge_attributes(G_2004, attributes, 'VOT_RND')"
   ]
  },
  {
   "cell_type": "code",
   "execution_count": 16,
   "id": "2233ec27",
   "metadata": {},
   "outputs": [
    {
     "name": "stdout",
     "output_type": "stream",
     "text": [
      "{+,+,-}: 3526\n",
      "{+,-,-}: 821\n",
      "{+,+,+}: 12489\n",
      "{-,-,-}: 60\n",
      "Balanced fraction: 0.79\n"
     ]
    }
   ],
   "source": [
    "# the above-way of computing the triangles fraction\n",
    "G_2004_edges = G_2004.edges\n",
    "for triangle in triangles:\n",
    "    triangle_sum = 0\n",
    "    for s,t in itertools.combinations(triangle, 2):\n",
    "        triangle_sum += G_2004_edges[(s,t)]['VOT_RND']\n",
    "    votes[triangle_sum] += 1\n",
    "for k,v in votes.items():\n",
    "    print(f'{vote_to_label[k]}: {v}')\n",
    "\n",
    "print(\"Balanced fraction:\",round((votes[3]+votes[-1])/sum(votes.values()),2))"
   ]
  },
  {
   "cell_type": "markdown",
   "id": "f055a145",
   "metadata": {},
   "source": [
    "**2.5** **/Discuss:/** Do the results of tasks **2.3** and **2.4** suggest that structural balance theory is correct? What kind of subsequent analysis would make you trust that the results are not obtained simply by chance? (No need to actually perform that subsequent analysis here.) Justify your answer."
   ]
  },
  {
   "cell_type": "markdown",
   "id": "dcd070a6",
   "metadata": {},
   "source": [
    "**A2.5**\n",
    "\n",
    "Yes, as the fraction of balanced triangles is much higher. We could do a bootstrap and see what the confidence interval would be like."
   ]
  },
  {
   "cell_type": "markdown",
   "id": "d5252ffb",
   "metadata": {},
   "source": [
    "### Interlude: Additional data\n",
    "\n",
    "In the data provided in the file `wiki-RfA.csv.gz` (with which you’ve worked up to now), each column corresponds to a vote from a user $u$ to a user $v$ at a time $t$. \n",
    "\n",
    "In **Task 2**, we did not consider the temporal aspect of this network. For the next task, you are provided with a complimentary dataset (`data/wiki-RfA_extra.csv.gz`) containing, for each vote (uniquely determined by `SRC` and `TGT`), a variety of features. **Importantly, these features were calculated considering only data that was already available at the time when the respective vote was cast.** The features are described as follows.\n",
    "\n",
    "- `PP`, `NN`, `PN` — Each vote (signed edge) is part of zero or more triangles, and we computed the number of triangles in which the two remaining edges were both positive (`PP`), both negative (`NN`) and of different signs (i.e., one positive and one negative, `PN`). This considers only the votes the target (denoted by `TGT`) has received before the current vote. \n",
    "\n",
    "- `P`, `N` — The number of positive (`P`) and negative (`N`) votes that the target `TGT` received before the current vote.\n",
    "\n",
    "- `TXT_PROCESSED` — The text in the original dataset, processed so 1) it is entirely lower-case, 2) it does not contain non-alphanumeric characters, and 3) it does not contain words starting with “supp” or “opp” (since words such as \"support\" and \"oppose\"  are obvious give-away signals of the vote).\n",
    "\n",
    "### Interlude: Predicting edge signs with structural balance theory\n",
    "\n",
    "We can use structural balance theory to predict edge signs. \n",
    "\n",
    "Consider an edge whose sign we do not know, as well as the fractions `PP`, `NN`, and `PN` associated with the edge, as defined above. \n",
    "\n",
    "According to structural balance theory, if `PP` + `NN` $\\geq$ `PN`, the vote is predicted to be positive, as this will create more balanced triangles in the graph. Otherwise, it is predicted to be negative. \n",
    "\n",
    "According to the weak structural balance theory, if `PP` $\\geq$ `PN`, the vote is predicted to be positive, as this will create more balanced triangles in the graph. Otherwise, it is predicted to be negative. \n",
    "\n",
    "Note that in both cases we use “$\\geq$” rather than “<”, i.e., when both sides of the equation are equal, we break ties in favor of positive edges. We do so because there are more positive edges in the graph."
   ]
  },
  {
   "cell_type": "markdown",
   "id": "e2f20eed",
   "metadata": {},
   "source": [
    "### Task 3: Predict it!\n",
    "\n",
    "In the final part of the exam, you will leverage your machine learning and regression skills.\n",
    "\n",
    "**3.1** Merge the new dataset with the original dataframe from task **1** using the columns `SRC` and `TGT`. You may drop the old `TXT` column if you want to. \n"
   ]
  },
  {
   "cell_type": "code",
   "execution_count": 17,
   "id": "a2272113",
   "metadata": {},
   "outputs": [
    {
     "data": {
      "text/html": [
       "<div>\n",
       "<style scoped>\n",
       "    .dataframe tbody tr th:only-of-type {\n",
       "        vertical-align: middle;\n",
       "    }\n",
       "\n",
       "    .dataframe tbody tr th {\n",
       "        vertical-align: top;\n",
       "    }\n",
       "\n",
       "    .dataframe thead th {\n",
       "        text-align: right;\n",
       "    }\n",
       "</style>\n",
       "<table border=\"1\" class=\"dataframe\">\n",
       "  <thead>\n",
       "    <tr style=\"text-align: right;\">\n",
       "      <th></th>\n",
       "      <th>SRC</th>\n",
       "      <th>TGT</th>\n",
       "      <th>VOT</th>\n",
       "      <th>RES</th>\n",
       "      <th>YEA</th>\n",
       "      <th>DAT</th>\n",
       "      <th>TXT</th>\n",
       "      <th>PP</th>\n",
       "      <th>NN</th>\n",
       "      <th>PN</th>\n",
       "      <th>N</th>\n",
       "      <th>P</th>\n",
       "      <th>TXT_PROCESSED</th>\n",
       "    </tr>\n",
       "  </thead>\n",
       "  <tbody>\n",
       "    <tr>\n",
       "      <th>114228</th>\n",
       "      <td>6564</td>\n",
       "      <td>4849</td>\n",
       "      <td>1</td>\n",
       "      <td>1</td>\n",
       "      <td>2006</td>\n",
       "      <td>2006-10-14 14:19:00</td>\n",
       "      <td>'''Very Strong Support''': We certainly requir...</td>\n",
       "      <td>0</td>\n",
       "      <td>0</td>\n",
       "      <td>0</td>\n",
       "      <td>0</td>\n",
       "      <td>19</td>\n",
       "      <td>very strong we certainly require administrato...</td>\n",
       "    </tr>\n",
       "    <tr>\n",
       "      <th>39342</th>\n",
       "      <td>9106</td>\n",
       "      <td>6560</td>\n",
       "      <td>-1</td>\n",
       "      <td>1</td>\n",
       "      <td>2009</td>\n",
       "      <td>2009-04-10 20:26:00</td>\n",
       "      <td>I've been good friends with FoxLox for a while...</td>\n",
       "      <td>0</td>\n",
       "      <td>0</td>\n",
       "      <td>0</td>\n",
       "      <td>3</td>\n",
       "      <td>26</td>\n",
       "      <td>i ve been good friends with foxlox for a while...</td>\n",
       "    </tr>\n",
       "    <tr>\n",
       "      <th>125410</th>\n",
       "      <td>10036</td>\n",
       "      <td>5230</td>\n",
       "      <td>1</td>\n",
       "      <td>-1</td>\n",
       "      <td>2006</td>\n",
       "      <td>2006-06-26 19:59:00</td>\n",
       "      <td>'''Support''' great editor, hell if Isotope ca...</td>\n",
       "      <td>0</td>\n",
       "      <td>0</td>\n",
       "      <td>0</td>\n",
       "      <td>4</td>\n",
       "      <td>51</td>\n",
       "      <td>great editor hell if isotope can agree to som...</td>\n",
       "    </tr>\n",
       "  </tbody>\n",
       "</table>\n",
       "</div>"
      ],
      "text/plain": [
       "          SRC   TGT  VOT  RES   YEA                  DAT  \\\n",
       "114228   6564  4849    1    1  2006  2006-10-14 14:19:00   \n",
       "39342    9106  6560   -1    1  2009  2009-04-10 20:26:00   \n",
       "125410  10036  5230    1   -1  2006  2006-06-26 19:59:00   \n",
       "\n",
       "                                                      TXT  PP  NN  PN  N   P  \\\n",
       "114228  '''Very Strong Support''': We certainly requir...   0   0   0  0  19   \n",
       "39342   I've been good friends with FoxLox for a while...   0   0   0  3  26   \n",
       "125410  '''Support''' great editor, hell if Isotope ca...   0   0   0  4  51   \n",
       "\n",
       "                                            TXT_PROCESSED  \n",
       "114228   very strong we certainly require administrato...  \n",
       "39342   i ve been good friends with foxlox for a while...  \n",
       "125410   great editor hell if isotope can agree to som...  "
      ]
     },
     "metadata": {},
     "output_type": "display_data"
    }
   ],
   "source": [
    "# 3.1\n",
    "# read the dataframe\n",
    "wiki_extra = pd.read_csv('wiki-RfA_extra.csv.gz', compression='infer')\n",
    "\n",
    "# merge the both dataframes\n",
    "wiki_full = pd.merge(wiki,wiki_extra,on=['SRC','TGT','YEA'])\n",
    "display(wiki_full.sample(3))"
   ]
  },
  {
   "cell_type": "markdown",
   "id": "c5d42a2d",
   "metadata": {},
   "source": [
    "**3.2**  Create the following two rule-based classifiers, and for each, estimate its area under the ROC curve (a.k.a. “AUC/ROC”) on the entire dataset:\n",
    "\n",
    "- **A)** a classifier inspired by structural balance theory. The classifier should predict a positive vote if  `PP` + `NN` $\\geq$ `PN`, and a negative vote otherwise.\n",
    "- **B)** a classifier inspired by weak structural balance theory. The classifier should predict a positive vote if `PP`  $\\geq$ `PN` and a negative vote otherwise."
   ]
  },
  {
   "cell_type": "code",
   "execution_count": 18,
   "id": "44643421",
   "metadata": {},
   "outputs": [],
   "source": [
    "# 3.2\n",
    "# convert votes to 0, 1\n",
    "wiki_full['pos_vote'] = (wiki_full['VOT'] == 1).astype(int)\n",
    "\n",
    "# model 1 prediction\n",
    "wiki_full['predicted_pos_vote_a'] = (wiki_full['PP'] + wiki_full['NN'] >= wiki_full['PN']).astype(int)\n",
    "\n",
    "# model 2 prediction\n",
    "wiki_full['predicted_pos_vote_b'] = (wiki_full['PP'] >= wiki_full['PN']).astype(int)"
   ]
  },
  {
   "cell_type": "code",
   "execution_count": 19,
   "id": "7dac84a0",
   "metadata": {},
   "outputs": [
    {
     "name": "stdout",
     "output_type": "stream",
     "text": [
      "Classifier A ROC score: 0.525390127858417\n",
      "Classifier B ROC score: 0.528036104766419\n"
     ]
    }
   ],
   "source": [
    "from sklearn.metrics import roc_auc_score\n",
    "# print the roc scores\n",
    "print('Classifier A ROC score:',roc_auc_score(wiki_full['pos_vote'], wiki_full['predicted_pos_vote_a']))\n",
    "print('Classifier B ROC score:',roc_auc_score(wiki_full['pos_vote'], wiki_full['predicted_pos_vote_b']))"
   ]
  },
  {
   "cell_type": "markdown",
   "id": "0161ec09",
   "metadata": {},
   "source": [
    "**3.3** To determine if the differences in the classifiers from task **3.2** occur solely due to chance, follow the following bootstrap procedure, using 200 iterations:\n",
    "\n",
    "- **A)** Randomly sample the entire dataset (i.e., votes from the dataframe constructed in task **3.1**) with replacement;\n",
    "- **B)** Compute the difference of the AUC/ROC for the two classifiers on the entire dataset.\n",
    "\n",
    "Then use the distribution of AUC/ROC differences (one difference per bootstrap iteration) to estimate the 95% confidence interval for the AUC/ROC difference."
   ]
  },
  {
   "cell_type": "code",
   "execution_count": 20,
   "id": "817ee28f",
   "metadata": {},
   "outputs": [
    {
     "name": "stdout",
     "output_type": "stream",
     "text": [
      "Classifier A ROC score: 0.5257667825987935\n",
      "Classifier B ROC score: 0.5281781631983342\n",
      "CI for classifier A: (0.5244662776303559, 0.5270956034093189)\n",
      "CI for classifier B: (0.5265961740188323, 0.529447270598149)\n"
     ]
    }
   ],
   "source": [
    "# 3.3 \n",
    "# shuffle the dataset with replacement\n",
    "dataset_size = wiki_full.shape[0]\n",
    "wiki_sampled = wiki_full.sample(dataset_size,replace=True)\n",
    "\n",
    "# shuffled dataset predictions\n",
    "wiki_sampled['predicted_pos_vote_a'] = (wiki_sampled['PP'] + wiki_sampled['NN'] >= wiki_sampled['PN']).astype(int)\n",
    "wiki_sampled['predicted_pos_vote_b'] = (wiki_sampled['PP'] >= wiki_sampled['PN']).astype(int)\n",
    "print('Classifier A ROC score:',roc_auc_score(wiki_sampled['pos_vote'], wiki_sampled['predicted_pos_vote_a']))\n",
    "print('Classifier B ROC score:',roc_auc_score(wiki_sampled['pos_vote'], wiki_sampled['predicted_pos_vote_b']))\n",
    "\n",
    "# calculating bootstrap ci of roc_auc\n",
    "def bootstrap_confidence_interval(df, column, iterations = 200):\n",
    "    \"\"\"\n",
    "    Parameters:\n",
    "    - data: An array of data\n",
    "    - iterations: The number of bootstrap samples to generate\n",
    "    \n",
    "    Returns:\n",
    "    - A tuple representing the lower and upper bounds of the 95% confidence interval\n",
    "    \"\"\"\n",
    "    roc_scores = np.zeros(iterations)\n",
    "    dataset_size = df.shape[0]\n",
    "    \n",
    "    for i in range(iterations):\n",
    "        df_sampled = df.sample(dataset_size,replace=True)\n",
    "        roc_scores[i] = roc_auc_score(df_sampled['pos_vote'], df_sampled[column])\n",
    "\n",
    "    lower = np.percentile(roc_scores, 5 / 2)\n",
    "    upper = np.percentile(roc_scores, 100 - 5 / 2)\n",
    "    \n",
    "    return lower, upper\n",
    "\n",
    "# print the intervals of roc of 2 models\n",
    "print('CI for classifier A:',bootstrap_confidence_interval(wiki_sampled[['pos_vote','predicted_pos_vote_a']],'predicted_pos_vote_a'))\n",
    "print('CI for classifier B:',bootstrap_confidence_interval(wiki_sampled[['pos_vote','predicted_pos_vote_b']],'predicted_pos_vote_b'))"
   ]
  },
  {
   "cell_type": "markdown",
   "id": "4d0e1569",
   "metadata": {},
   "source": [
    "**3.4 ** **/Discuss:**/ According to the results in tasks **3.2** and **3.3**, which theory better predicts actual edge signs, structural balance theory or the weak structural balance theory? \n"
   ]
  },
  {
   "cell_type": "markdown",
   "id": "94b39801",
   "metadata": {},
   "source": [
    "**A3.4** \n",
    "\n",
    "Weak balance theory can predict it better, as give a roc score significantly higher."
   ]
  },
  {
   "cell_type": "markdown",
   "id": "28d37dc1",
   "metadata": {},
   "source": [
    "**3.5** How accurately can we predict the vote with more sophisticated features and algorithms?\n",
    "\n",
    "- Create a TF-IDF representation of the text of each vote  using `sklearn`'s vectorizer ([`sklearn.feature_extraction.text.TfidfVectorizer`](https://scikit-learn.org/stable/modules/generated/sklearn.feature_extraction.text.TfidfVectorizer.html)) with the parameters `max_features=150` and `stop_words='english'`.\n",
    "- Split the  dataset into training and test sets using sklearn [`sklearn.model_selection.train_test_split`](https://scikit-learn.org/stable/modules/generated/sklearn.model_selection.train_test_split.html) using parameters `test_size=0.1` and  `random_state=42`.\n",
    "\n",
    "- Then, train two logistic regression models ([`sklearn.linear_model.SGDClassifier`](https://scikit-learn.org/stable/modules/generated/sklearn.linear_model.SGDClassifier.html)) using parameters `loss='log_loss'` and `max_iter=2000` considering:\n",
    "\n",
    "    - **1)** the TF-IDF feature vector\n",
    "\n",
    "    - **2)** the TF-IDF feature vector and the features `PP`, `NN`, `PN`, `P`, and `N` related to the graph.\n",
    "\n",
    "- Last, report the AUC/ROC of each model in the test set."
   ]
  },
  {
   "cell_type": "code",
   "execution_count": 21,
   "id": "764a00f3",
   "metadata": {},
   "outputs": [],
   "source": [
    "# 3.5\n",
    "from sklearn.feature_extraction.text import TfidfVectorizer\n",
    "from sklearn.model_selection import train_test_split\n",
    "\n",
    "# fill nan values of text with '' \n",
    "wiki_full['TXT_PROCESSED'].fillna('',inplace=True)\n",
    "\n",
    "# tfidf of text\n",
    "vectorizer = TfidfVectorizer(max_features=150, stop_words='english')\n",
    "X = vectorizer.fit_transform(wiki_full['TXT_PROCESSED'].values).toarray()\n",
    "y = wiki_full.VOT.values"
   ]
  },
  {
   "cell_type": "code",
   "execution_count": 35,
   "id": "f3a76381",
   "metadata": {},
   "outputs": [
    {
     "name": "stdout",
     "output_type": "stream",
     "text": [
      "Model 1\n",
      "AUC/ROC: 0.70579\n",
      "Model 2\n",
      "AUC/ROC: 0.74256\n"
     ]
    }
   ],
   "source": [
    "from sklearn.linear_model import SGDClassifier\n",
    "\n",
    "# train the models\n",
    "def train_model(X,y):\n",
    "    X_train, X_test, y_train, y_test = train_test_split(X, y, test_size=0.1, random_state=42)\n",
    "\n",
    "    model = SGDClassifier(loss='log_loss', max_iter=2000).fit(X_train, y_train)\n",
    "\n",
    "    # y_predicted = model.predict_proba(X_test)[:,1]\n",
    "    y_predicted = model.predict(X_test)\n",
    "\n",
    "    auc_roc = roc_auc_score(y_test, y_predicted)\n",
    "    print('AUC/ROC:',round(auc_roc,5))\n",
    "\n",
    "\n",
    "# print the auc/roc scores of the models\n",
    "print('Model 1')\n",
    "train_model(X,y)\n",
    "print('Model 2')\n",
    "train_model(np.hstack([X, wiki_full[['PP','NN','PN','N','P']].values]),y)"
   ]
  },
  {
   "cell_type": "markdown",
   "id": "898cbdd1",
   "metadata": {},
   "source": [
    "**3.6** **/Discuss:**/  According to the results in task **3.5**, does information from the graph help in the task of predicting the vote even when using the text?  What kind of subsequent analysis would make you trust that the results are not obtained simply by chance? (No need to actually perform that subsequent analysis here.) "
   ]
  },
  {
   "cell_type": "markdown",
   "id": "6b6767ad",
   "metadata": {},
   "source": [
    "**A3.6** \n",
    "\n",
    "Indeed text only is giving better results rather than using the additional features (PP, NN, PN, N, P) as well, as its roc score is closer to 0.5. We could do bootstrap to train multiple models and get the roc score confidence intervals."
   ]
  },
  {
   "cell_type": "markdown",
   "id": "7f51071d",
   "metadata": {},
   "source": [
    "**3.7** Putting on your observational studies hat, run two logistic regressions using `statsmodels`.\n",
    "- In the first regression, the vote is the outcome, and `PP`, `NN` and `PN` are the predictors.\n",
    "- In the second regression, the vote is the outcome, and `PP`, `NN`, `PN`, and `N` are the predictors."
   ]
  },
  {
   "cell_type": "code",
   "execution_count": 23,
   "id": "0ffebb3c",
   "metadata": {},
   "outputs": [],
   "source": [
    "from sklearn.preprocessing import StandardScaler\n",
    "\n",
    "# normalize the values for better interpretation\n",
    "scaler = StandardScaler()\n",
    "wiki_full[['PP_norm','NN_norm','PN_norm','N_norm']] = scaler.fit_transform(wiki_full[['PP','NN','PN','N']])"
   ]
  },
  {
   "cell_type": "code",
   "execution_count": 24,
   "id": "9f8df411",
   "metadata": {},
   "outputs": [
    {
     "name": "stdout",
     "output_type": "stream",
     "text": [
      "Regression 1\n",
      "Optimization terminated successfully.\n",
      "         Current function value: 0.514594\n",
      "         Iterations 7\n",
      "                           Logit Regression Results                           \n",
      "==============================================================================\n",
      "Dep. Variable:               pos_vote   No. Observations:               167003\n",
      "Model:                          Logit   Df Residuals:                   166999\n",
      "Method:                           MLE   Df Model:                            3\n",
      "Date:                Tue, 16 Jan 2024   Pseudo R-squ.:                 0.01804\n",
      "Time:                        09:38:17   Log-Likelihood:                -85939.\n",
      "converged:                       True   LL-Null:                       -87517.\n",
      "Covariance Type:            nonrobust   LLR p-value:                     0.000\n",
      "==============================================================================\n",
      "                 coef    std err          z      P>|z|      [0.025      0.975]\n",
      "------------------------------------------------------------------------------\n",
      "Intercept      1.2781      0.006    206.255      0.000       1.266       1.290\n",
      "PP             0.2493      0.007     34.272      0.000       0.235       0.264\n",
      "NN            -0.6765      0.040    -16.946      0.000      -0.755      -0.598\n",
      "PN            -0.5509      0.014    -40.304      0.000      -0.578      -0.524\n",
      "==============================================================================\n",
      "Regression 2\n",
      "Optimization terminated successfully.\n",
      "         Current function value: 0.487994\n",
      "         Iterations 7\n",
      "                           Logit Regression Results                           \n",
      "==============================================================================\n",
      "Dep. Variable:               pos_vote   No. Observations:               167003\n",
      "Model:                          Logit   Df Residuals:                   166998\n",
      "Method:                           MLE   Df Model:                            4\n",
      "Date:                Tue, 16 Jan 2024   Pseudo R-squ.:                 0.06880\n",
      "Time:                        09:38:19   Log-Likelihood:                -81496.\n",
      "converged:                       True   LL-Null:                       -87517.\n",
      "Covariance Type:            nonrobust   LLR p-value:                     0.000\n",
      "==============================================================================\n",
      "                 coef    std err          z      P>|z|      [0.025      0.975]\n",
      "------------------------------------------------------------------------------\n",
      "Intercept      1.6227      0.008    212.945      0.000       1.608       1.638\n",
      "PP             0.2535      0.008     33.344      0.000       0.239       0.268\n",
      "NN            -0.5466      0.040    -13.631      0.000      -0.625      -0.468\n",
      "PN            -0.4561      0.014    -33.013      0.000      -0.483      -0.429\n",
      "N             -0.0438      0.000    -89.263      0.000      -0.045      -0.043\n",
      "==============================================================================\n"
     ]
    }
   ],
   "source": [
    "# 3.7\n",
    "import statsmodels.formula.api as smf\n",
    "\n",
    "# first regression model\n",
    "print('Regression 1')\n",
    "print(smf.logit(formula='pos_vote ~ PP + NN + PN', data=wiki_full).fit().summary())\n",
    "\n",
    "# second regression model\n",
    "print('Regression 2')\n",
    "print(smf.logit(formula='pos_vote ~ PP + NN + PN + N', data=wiki_full).fit().summary())"
   ]
  },
  {
   "cell_type": "code",
   "execution_count": 25,
   "id": "9d7d4e20",
   "metadata": {},
   "outputs": [
    {
     "name": "stdout",
     "output_type": "stream",
     "text": [
      "NORMALIZED\n",
      "Regression 1\n"
     ]
    },
    {
     "name": "stdout",
     "output_type": "stream",
     "text": [
      "Optimization terminated successfully.\n",
      "         Current function value: 0.514594\n",
      "         Iterations 7\n",
      "                           Logit Regression Results                           \n",
      "==============================================================================\n",
      "Dep. Variable:               pos_vote   No. Observations:               167003\n",
      "Model:                          Logit   Df Residuals:                   166999\n",
      "Method:                           MLE   Df Model:                            3\n",
      "Date:                Tue, 16 Jan 2024   Pseudo R-squ.:                 0.01804\n",
      "Time:                        09:38:21   Log-Likelihood:                -85939.\n",
      "converged:                       True   LL-Null:                       -87517.\n",
      "Covariance Type:            nonrobust   LLR p-value:                     0.000\n",
      "==============================================================================\n",
      "                 coef    std err          z      P>|z|      [0.025      0.975]\n",
      "------------------------------------------------------------------------------\n",
      "Intercept      1.3092      0.006    214.006      0.000       1.297       1.321\n",
      "PP_norm        0.4409      0.013     34.272      0.000       0.416       0.466\n",
      "NN_norm       -0.1255      0.007    -16.946      0.000      -0.140      -0.111\n",
      "PN_norm       -0.3380      0.008    -40.304      0.000      -0.354      -0.322\n",
      "==============================================================================\n",
      "Regression 2\n",
      "Optimization terminated successfully.\n",
      "         Current function value: 0.487994\n",
      "         Iterations 7\n",
      "                           Logit Regression Results                           \n",
      "==============================================================================\n",
      "Dep. Variable:               pos_vote   No. Observations:               167003\n",
      "Model:                          Logit   Df Residuals:                   166998\n",
      "Method:                           MLE   Df Model:                            4\n",
      "Date:                Tue, 16 Jan 2024   Pseudo R-squ.:                 0.06880\n",
      "Time:                        09:38:22   Log-Likelihood:                -81496.\n",
      "converged:                       True   LL-Null:                       -87517.\n",
      "Covariance Type:            nonrobust   LLR p-value:                     0.000\n",
      "==============================================================================\n",
      "                 coef    std err          z      P>|z|      [0.025      0.975]\n",
      "------------------------------------------------------------------------------\n",
      "Intercept      1.3639      0.006    213.354      0.000       1.351       1.376\n",
      "PP_norm        0.4483      0.013     33.344      0.000       0.422       0.475\n",
      "NN_norm       -0.1014      0.007    -13.631      0.000      -0.116      -0.087\n",
      "PN_norm       -0.2799      0.008    -33.013      0.000      -0.297      -0.263\n",
      "N_norm        -0.5277      0.006    -89.263      0.000      -0.539      -0.516\n",
      "==============================================================================\n"
     ]
    }
   ],
   "source": [
    "# Regression models with normalized features\n",
    "print('NORMALIZED')\n",
    "print('Regression 1')\n",
    "print(smf.logit(formula='pos_vote ~ PP_norm + NN_norm + PN_norm', data=wiki_full).fit().summary())\n",
    "print('Regression 2')\n",
    "print(smf.logit(formula='pos_vote ~ PP_norm + NN_norm + PN_norm + N_norm', data=wiki_full).fit().summary())"
   ]
  },
  {
   "cell_type": "markdown",
   "id": "db15d090",
   "metadata": {},
   "source": [
    "**3.8** **/Discuss:**/   Explain what the coefficient associated with `PP` means in the first regression. Is it in accordance with structural balance theory?"
   ]
  },
  {
   "cell_type": "markdown",
   "id": "48845787",
   "metadata": {},
   "source": [
    "**A3.8** \n",
    "\n",
    "The coefficient of `PP` is positive, meaning it is positively correlated with the positive vote (`VOT`=1) - when `NN` and `PN` are set to their mean value, 1 std of `PP` increases the average positive votes by 0.44. It is also in accordance with the structural balance theory."
   ]
  },
  {
   "cell_type": "markdown",
   "id": "49752dbb",
   "metadata": {},
   "source": [
    "**3.9** **/Discuss:**/   Compare the coefficients associated with `PN` and `NN` in the first vs. the second regression. Present a reason that may explain this difference."
   ]
  },
  {
   "cell_type": "markdown",
   "id": "8ab7612b",
   "metadata": {},
   "source": [
    "**A3.9**  \n",
    "\n",
    "In the first case they both (`PN`, `NN`) have more negative influence on the `VOT` compared to the second case, simply because in the first case we were not considering the effect of negative votes (`N`).\n",
    "\n",
    "It is probably because, if a node already has many Negative votes, it is more likely for it to have another negative vote."
   ]
  },
  {
   "cell_type": "markdown",
   "id": "207c9147",
   "metadata": {},
   "source": [
    "---"
   ]
  }
 ],
 "metadata": {
  "kernelspec": {
   "display_name": "adaexam",
   "language": "python",
   "name": "python3"
  },
  "language_info": {
   "codemirror_mode": {
    "name": "ipython",
    "version": 3
   },
   "file_extension": ".py",
   "mimetype": "text/x-python",
   "name": "python",
   "nbconvert_exporter": "python",
   "pygments_lexer": "ipython3",
   "version": "3.9.7"
  }
 },
 "nbformat": 4,
 "nbformat_minor": 5
}
