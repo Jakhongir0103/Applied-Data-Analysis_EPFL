{
 "cells": [
  {
   "cell_type": "markdown",
   "id": "e4fc29c0d30afb83",
   "metadata": {},
   "source": [
    "# ADA final exam (Fall 2023)\n",
    "\n",
    "This exam consists of 2 parts. Parts are independent from each other.\n",
    "\n",
    "## Dataset\n",
    "\n",
    "\n",
    "\"Friends\" is an American television sitcom that originally aired on NBC from September 22, 1994, to May 6, 2004. Created by David Crane and Marta Kauffman, the show gained immense popularity and has since become a classic in the world of television. The series is set in New York City and revolves around a group of six friends: Ross Geller (David Schwimmer), Rachel Green (Jennifer Aniston), Monica Geller (Courteney Cox), Chandler Bing (Matthew Perry), Joey Tribbiani (Matt LeBlanc), and Phoebe Buffay (Lisa Kudrow). The show explores their personal and professional lives as they navigate the ups and downs of relationships, careers, and the challenges of adulthood.\n",
    "\n",
    "In this exam, we will use a dataset containing all the conversations that occurred over 10 seasons of Friends. We refer to each row in the dataset as an 'utterance.\" The data format of the dataset is as follows\n",
    "\n",
    "- id: `<str>`, the index of the utterance in the format sAA_eBB_cCC_uDDD, where AA is the season number, BB is the episode number, CC is the scene/conversation number, and DDD is the number of the utterance in the scene (e.g. s01_e18_c05_u021).\n",
    "- speaker: `<str>`, the speaker who made the utterance, e.g. Monica Geller\n",
    "- conversation_id: `<str>`, the id of the first utterance in the conversation this utterance belongs. We assume conversations begin at the start of a new scene.\n",
    "- reply_to: `<str>`, the id of the utterance to which this utterance replies. None if the utterance is the first in a conversation.\n",
    "- text: `<str>`, the textual content of the utterance.\n"
   ]
  },
  {
   "cell_type": "code",
   "execution_count": 1,
   "id": "b039cc2f",
   "metadata": {},
   "outputs": [],
   "source": [
    "# First, let's import some required libraries!\n",
    "import statsmodels.formula.api as smf\n",
    "import pandas as pd\n",
    "from collections import Counter\n",
    "import networkx as nx\n",
    "import seaborn as sns\n",
    "import matplotlib.pyplot as plt\n",
    "import itertools\n",
    "import numpy as np\n",
    "\n",
    "# ignore warnings\n",
    "import warnings\n",
    "warnings.filterwarnings(\"ignore\")\n",
    "\n",
    "DATA_FOLDER = '.\\\\data\\\\'"
   ]
  },
  {
   "cell_type": "markdown",
   "id": "77be188a",
   "metadata": {},
   "source": [
    "\n",
    "## Part 1: The one where you find the protagonist (60 pts)\n",
    "\n",
    "A big debate among Friends fans is: who is the show's main character? In this task, your goal is to provide a data-driven answer to this question.\n",
    "\n",
    "\n",
    "--- \n",
    "\n",
    "**1.1 —** Load the data from the jsonl file `exam1.jsonl` into a pandas dataframe. Then\n",
    " \n",
    " A. Calculate and display the number of distinct speakers in the dataframe.\n",
    " \n",
    " B. Calculate and display the number of conversations (see `conversation_id`).\n",
    " \n",
    " C. Remove all utterances from the dataframe where the `speaker` is \"TRANSCRIPT_NOTE\" or \"#ALL#\". Print the number of rows in the dataframe.\n",
    " \n",
    " D. Create additional columns corresponding to the season (`season`, e.g., season 1 should contain `s01`) and the episode (`episode`, e.g., episode 5 of season 4 should contain `s04_e05`) of each utterance. Print the season and the episode associated with utterance `s10_e18_c11_u019`.\n",
    " \n",
    " E. Create an additional column corresponding to the length of each utterance in terms of the number of characters (`length`). Print the length associated with utterance `s10_e18_c11_u019`.\n"
   ]
  },
  {
   "cell_type": "code",
   "execution_count": 139,
   "id": "d4daa420",
   "metadata": {},
   "outputs": [
    {
     "name": "stdout",
     "output_type": "stream",
     "text": [
      "# speakers: 700\n",
      "# conversation: 3107\n",
      "Season, Episode:\n"
     ]
    },
    {
     "data": {
      "text/html": [
       "<div>\n",
       "<style scoped>\n",
       "    .dataframe tbody tr th:only-of-type {\n",
       "        vertical-align: middle;\n",
       "    }\n",
       "\n",
       "    .dataframe tbody tr th {\n",
       "        vertical-align: top;\n",
       "    }\n",
       "\n",
       "    .dataframe thead th {\n",
       "        text-align: right;\n",
       "    }\n",
       "</style>\n",
       "<table border=\"1\" class=\"dataframe\">\n",
       "  <thead>\n",
       "    <tr style=\"text-align: right;\">\n",
       "      <th></th>\n",
       "      <th>season</th>\n",
       "      <th>episode</th>\n",
       "    </tr>\n",
       "  </thead>\n",
       "  <tbody>\n",
       "    <tr>\n",
       "      <th>67370</th>\n",
       "      <td>s10</td>\n",
       "      <td>s10_e18</td>\n",
       "    </tr>\n",
       "  </tbody>\n",
       "</table>\n",
       "</div>"
      ],
      "text/plain": [
       "      season  episode\n",
       "67370    s10  s10_e18"
      ]
     },
     "metadata": {},
     "output_type": "display_data"
    },
    {
     "name": "stdout",
     "output_type": "stream",
     "text": [
      "Lenght:\n"
     ]
    },
    {
     "data": {
      "text/html": [
       "<div>\n",
       "<style scoped>\n",
       "    .dataframe tbody tr th:only-of-type {\n",
       "        vertical-align: middle;\n",
       "    }\n",
       "\n",
       "    .dataframe tbody tr th {\n",
       "        vertical-align: top;\n",
       "    }\n",
       "\n",
       "    .dataframe thead th {\n",
       "        text-align: right;\n",
       "    }\n",
       "</style>\n",
       "<table border=\"1\" class=\"dataframe\">\n",
       "  <thead>\n",
       "    <tr style=\"text-align: right;\">\n",
       "      <th></th>\n",
       "      <th>length</th>\n",
       "    </tr>\n",
       "  </thead>\n",
       "  <tbody>\n",
       "    <tr>\n",
       "      <th>67370</th>\n",
       "      <td>17</td>\n",
       "    </tr>\n",
       "  </tbody>\n",
       "</table>\n",
       "</div>"
      ],
      "text/plain": [
       "       length\n",
       "67370      17"
      ]
     },
     "metadata": {},
     "output_type": "display_data"
    }
   ],
   "source": [
    "df1 = pd.read_json(DATA_FOLDER+'exam1.jsonl', lines=True)\n",
    "\n",
    "# A\n",
    "print(\"# speakers:\",df1.speaker.nunique())\n",
    "\n",
    "# B\n",
    "print(\"# conversation:\",df1.conversation_id.nunique())\n",
    "\n",
    "# C\n",
    "df1 = df1[~df1.speaker.isin([\"TRANSCRIPT_NOTE\",\"#ALL#\"])]\n",
    "\n",
    "# D\n",
    "df1['season'] = df1.id.str.split('_').apply(lambda r: r[0])\n",
    "df1['episode'] = df1.id.str.split('_').apply(lambda r: f'{r[0]}_{r[1]}')\n",
    "print(\"Season, Episode:\")\n",
    "display(df1[df1['id']=='s10_e18_c11_u019'][['season','episode']])\n",
    "\n",
    "# E\n",
    "df1['length'] = df1['text'].apply(lambda r: len(r))\n",
    "print(\"Lenght:\")\n",
    "display(df1[df1['id']=='s10_e18_c11_u019'][['length']])\n"
   ]
  },
  {
   "cell_type": "markdown",
   "id": "60d3bdc7",
   "metadata": {},
   "source": [
    "**1.2** Next, you conduct some basic analyses:\n",
    "\n",
    " A. With `statsmodels`, fit a linear regression `length ~ C(season, Treatment(reference=\"s01\"))`, where length is an integer and season is a categorical variable. Print the regression summary.\n",
    " \n",
    " B. /**Discuss:/** Considering the regression summary:\n",
    "   - What does the intercept in this regression represent? \n",
    "   - What does the coefficient `C(season, Treatment(reference=\"s01\"))[T.s09]` represent? \n",
    "   - Does the average utterance in season 9 contain significantly more characters than in season 1 at the 0.05 significance level? Justify with the regression summary **only**. \n",
    "   - Does the average utterance in season 10 contain significantly more characters than in season 1 at the 0.05 significance level? Justify with the regression summary  **only** .\n",
    "\n",
    " C. Argue visually (i.e., with a plot) that there are 6 main characters in the show."
   ]
  },
  {
   "cell_type": "code",
   "execution_count": 372,
   "id": "bf0b3c34",
   "metadata": {},
   "outputs": [
    {
     "name": "stdout",
     "output_type": "stream",
     "text": [
      "                            OLS Regression Results                            \n",
      "==============================================================================\n",
      "Dep. Variable:                 length   R-squared:                       0.001\n",
      "Model:                            OLS   Adj. R-squared:                  0.001\n",
      "Method:                 Least Squares   F-statistic:                     8.058\n",
      "Date:                Tue, 16 Jan 2024   Prob (F-statistic):           4.96e-12\n",
      "Time:                        18:13:34   Log-Likelihood:            -3.2981e+05\n",
      "No. Observations:               60985   AIC:                         6.596e+05\n",
      "Df Residuals:                   60975   BIC:                         6.597e+05\n",
      "Df Model:                           9                                         \n",
      "Covariance Type:            nonrobust                                         \n",
      "================================================================================================================\n",
      "                                                   coef    std err          t      P>|t|      [0.025      0.975]\n",
      "----------------------------------------------------------------------------------------------------------------\n",
      "Intercept                                       51.0190      0.704     72.464      0.000      49.639      52.399\n",
      "C(season, Treatment(reference=\"s01\"))[T.s02]     2.2764      1.004      2.268      0.023       0.309       4.243\n",
      "C(season, Treatment(reference=\"s01\"))[T.s03]     1.1906      0.974      1.222      0.222      -0.718       3.100\n",
      "C(season, Treatment(reference=\"s01\"))[T.s04]     0.6674      0.980      0.681      0.496      -1.253       2.588\n",
      "C(season, Treatment(reference=\"s01\"))[T.s05]    -0.3185      0.984     -0.324      0.746      -2.247       1.610\n",
      "C(season, Treatment(reference=\"s01\"))[T.s06]     1.9612      0.974      2.013      0.044       0.052       3.871\n",
      "C(season, Treatment(reference=\"s01\"))[T.s07]     0.3712      0.979      0.379      0.705      -1.548       2.290\n",
      "C(season, Treatment(reference=\"s01\"))[T.s08]     1.1265      0.982      1.147      0.251      -0.799       3.052\n",
      "C(season, Treatment(reference=\"s01\"))[T.s09]     6.0889      0.979      6.222      0.000       4.171       8.007\n",
      "C(season, Treatment(reference=\"s01\"))[T.s10]    -0.8470      1.026     -0.825      0.409      -2.858       1.164\n",
      "==============================================================================\n",
      "Omnibus:                    39360.499   Durbin-Watson:                   1.966\n",
      "Prob(Omnibus):                  0.000   Jarque-Bera (JB):           721113.209\n",
      "Skew:                           2.832   Prob(JB):                         0.00\n",
      "Kurtosis:                      18.865   Cond. No.                         11.1\n",
      "==============================================================================\n",
      "\n",
      "Notes:\n",
      "[1] Standard Errors assume that the covariance matrix of the errors is correctly specified.\n"
     ]
    }
   ],
   "source": [
    "# A\n",
    "print(smf.ols(formula='length ~ C(season, Treatment(reference=\"s01\"))', data=df1).fit().summary())\n"
   ]
  },
  {
   "cell_type": "markdown",
   "id": "97fb46a0",
   "metadata": {},
   "source": [
    "# B \n",
    "\n",
    "A - mean text lenght of season 1\n",
    "C - yes, as p value < 0.05\n",
    "D - no, as it is negative"
   ]
  },
  {
   "cell_type": "code",
   "execution_count": 31,
   "id": "5b17804c",
   "metadata": {},
   "outputs": [
    {
     "data": {
      "image/png": "[encoded data removed]",
      "text/plain": [
       "<Figure size 2000x600 with 1 Axes>"
      ]
     },
     "metadata": {},
     "output_type": "display_data"
    }
   ],
   "source": [
    "# C\n",
    "topic_counts = df1['speaker'].value_counts().sort_values(ascending=False)[:30]\n",
    "\n",
    "# plot the histogram\n",
    "plt.figure(figsize=(20,6))\n",
    "topic_counts.plot(kind='bar')\n",
    "plt.xticks(rotation=45, ha='right')\n",
    "plt.title('Speakers histogram')\n",
    "plt.show()"
   ]
  },
  {
   "cell_type": "markdown",
   "id": "ec77dd04",
   "metadata": {},
   "source": [
    "We can see from the utterance of the speakers that only 6 of them have quite high number of utterances. "
   ]
  },
  {
   "cell_type": "markdown",
   "id": "eeb47cab",
   "metadata": {},
   "source": [
    "--- \n",
    "**1.3 —** Using `networkx` \n",
    "\n",
    "A. Create a `MultiDiGraph` (directed graph with self loops and parallel edges) where:\n",
    "- Each node $u$ is a character uniquely identified by the `speaker` field.\n",
    "- There is an edge between nodes $u$ and $v$ if $u$ replied to $v$. If an utterance (a row in the dataframe) is said in reply to nobody, then it will not correspond to an edge. Each edge should contain two attributes. Each edge should have two attributes: `season` and `episode`.\n",
    "\n",
    "B. Print the number of nodes and edges in your graph.\n",
    "\n",
    "C. **/Discuss:/** Instead of using multi-edges, what would be another way in which you could capture the number of replies associated with each node pair?\n"
   ]
  },
  {
   "cell_type": "code",
   "execution_count": 69,
   "id": "190ec32f",
   "metadata": {},
   "outputs": [
    {
     "data": {
      "text/html": [
       "<div>\n",
       "<style scoped>\n",
       "    .dataframe tbody tr th:only-of-type {\n",
       "        vertical-align: middle;\n",
       "    }\n",
       "\n",
       "    .dataframe tbody tr th {\n",
       "        vertical-align: top;\n",
       "    }\n",
       "\n",
       "    .dataframe thead th {\n",
       "        text-align: right;\n",
       "    }\n",
       "</style>\n",
       "<table border=\"1\" class=\"dataframe\">\n",
       "  <thead>\n",
       "    <tr style=\"text-align: right;\">\n",
       "      <th></th>\n",
       "      <th>speaker</th>\n",
       "      <th>id</th>\n",
       "      <th>speaker2</th>\n",
       "      <th>season</th>\n",
       "      <th>episode</th>\n",
       "    </tr>\n",
       "  </thead>\n",
       "  <tbody>\n",
       "    <tr>\n",
       "      <th>9617</th>\n",
       "      <td>Chandler Bing</td>\n",
       "      <td>s02_e21_c11_u011</td>\n",
       "      <td>Ross Geller</td>\n",
       "      <td>s02</td>\n",
       "      <td>s02_e21</td>\n",
       "    </tr>\n",
       "    <tr>\n",
       "      <th>39546</th>\n",
       "      <td>Monica Geller</td>\n",
       "      <td>s08_e06_c03_u004</td>\n",
       "      <td>Rachel Green</td>\n",
       "      <td>s08</td>\n",
       "      <td>s08_e06</td>\n",
       "    </tr>\n",
       "    <tr>\n",
       "      <th>35976</th>\n",
       "      <td>The Writer</td>\n",
       "      <td>s07_e15_c08_u011</td>\n",
       "      <td>Cecilia</td>\n",
       "      <td>s07</td>\n",
       "      <td>s07_e15</td>\n",
       "    </tr>\n",
       "  </tbody>\n",
       "</table>\n",
       "</div>"
      ],
      "text/plain": [
       "             speaker                id      speaker2 season  episode\n",
       "9617   Chandler Bing  s02_e21_c11_u011   Ross Geller    s02  s02_e21\n",
       "39546  Monica Geller  s08_e06_c03_u004  Rachel Green    s08  s08_e06\n",
       "35976     The Writer  s07_e15_c08_u011       Cecilia    s07  s07_e15"
      ]
     },
     "metadata": {},
     "output_type": "display_data"
    }
   ],
   "source": [
    "df_edge = pd.merge(df1[['speaker','reply-to']].dropna().rename({'reply-to':'id'},axis=1), df1[['id','speaker','season','episode']].rename({'speaker':'speaker2'},axis=1),on='id')\n",
    "display(df_edge.sample(3))"
   ]
  },
  {
   "cell_type": "markdown",
   "id": "d476dd1d",
   "metadata": {},
   "source": [
    "I did inner join, because some of the replied ids were missing form the dataframe, such as, 's01_e01_c01_u005'. It is present in `reply-to` but not it `id`, it is probably because we removed the utterances where `speaker` == \"TRANSCRIPT_NOTE\" or \"#ALL#\""
   ]
  },
  {
   "cell_type": "code",
   "execution_count": 72,
   "id": "9f362612",
   "metadata": {},
   "outputs": [
    {
     "name": "stdout",
     "output_type": "stream",
     "text": [
      "Number of nodes 698\n",
      "Number of edges 54904\n",
      "{'season': 's01', 'episode': 's01_e01'}\n"
     ]
    }
   ],
   "source": [
    "# Initialize the graph\n",
    "G = nx.MultiDiGraph()\n",
    "\n",
    "# Creates nodes with attributes\n",
    "for _, node in df1.iterrows():\n",
    "    G.add_node(node['speaker'])\n",
    "\n",
    "# Creates edge with attributes\n",
    "for _, edge in df_edge.iterrows():\n",
    "    G.add_edge(edge['speaker'], edge['speaker2'], season=edge['season'], episode=edge['episode'])\n",
    "    \n",
    "# Print number of edges\n",
    "print(\"Number of nodes\", len(G.nodes))\n",
    "print(\"Number of edges\", len(G.edges))\n",
    "\n",
    "# Checking\n",
    "print(G.edges[list(G.edges)[0]])"
   ]
  },
  {
   "cell_type": "markdown",
   "id": "189ac815",
   "metadata": {},
   "source": [
    "# C\n",
    "\n",
    "We could create digraph and add the number of replies as an attribute of an edge"
   ]
  },
  {
   "cell_type": "markdown",
   "id": "130a16f1",
   "metadata": {},
   "source": [
    "---\n",
    "With the graph ready, you set out to investigate who is the true protagonist of Friends.\n",
    "\n",
    "Ignore the graph you generated previously and instead use the graph provided in `exam2.graphml`. Note that this graph may be slightly different from what you generated, but treat it as the ground truth. We provide you with code to load the graph below.\n"
   ]
  },
  {
   "cell_type": "code",
   "execution_count": 73,
   "id": "a917d360",
   "metadata": {},
   "outputs": [],
   "source": [
    "import networkx as nx\n",
    "\n",
    "G = nx.read_graphml(\"./data/exam2.graphml\")"
   ]
  },
  {
   "cell_type": "markdown",
   "id": "6ad04b50",
   "metadata": {},
   "source": [
    "---"
   ]
  },
  {
   "cell_type": "markdown",
   "id": "53ee10e7",
   "metadata": {},
   "source": [
    "**1.4 —** Using the provided MultiDiGraph $G$:\n",
    "\n",
    "A. Calculate the out-degree of each node (also known as out-degree centrality). Please do not use the `nx.out_degree_centrality` function here, as it normalizes the degree. (E.g., if a node has 5 outgoing edges, it should have out-degree 5 according to your code.)\n",
    "\n",
    "B. Calculate the PageRank centrality of each node in $G$. Use the default parameters.\n",
    "\n",
    "C. Print both centrality metrics calculated above for the six main characters of Friends.\n",
    "\n",
    "D. **/Discuss:/** According to the metrics, who is the most important character in Friends?"
   ]
  },
  {
   "cell_type": "code",
   "execution_count": 80,
   "id": "1fc945d3",
   "metadata": {},
   "outputs": [
    {
     "name": "stdout",
     "output_type": "stream",
     "text": [
      "['Rachel Green', 'Ross Geller', 'Chandler Bing', 'Monica Geller', 'Joey Tribbiani', 'Phoebe Buffay']\n"
     ]
    }
   ],
   "source": [
    "# get main characters\n",
    "main_chars = list(topic_counts[:6].index)\n",
    "print(main_chars)"
   ]
  },
  {
   "cell_type": "code",
   "execution_count": 86,
   "id": "aa8407dd",
   "metadata": {},
   "outputs": [
    {
     "name": "stdout",
     "output_type": "stream",
     "text": [
      "Rachel Green: pagerank - 0.12684259753919158, outdegree - 8470\n",
      "Ross Geller: pagerank - 0.12561115738701217, outdegree - 8234\n",
      "Chandler Bing: pagerank - 0.1145352324808736, outdegree - 7702\n",
      "Monica Geller: pagerank - 0.1134500759232524, outdegree - 7621\n",
      "Joey Tribbiani: pagerank - 0.11283519639878972, outdegree - 7395\n",
      "Phoebe Buffay: pagerank - 0.10206929426008514, outdegree - 6797\n"
     ]
    }
   ],
   "source": [
    "# A\n",
    "outdegree = dict(G.out_degree)\n",
    "\n",
    "# B\n",
    "pagerank = dict(nx.pagerank(G))\n",
    "\n",
    "# C\n",
    "[print(f\"{char}: pagerank - {pagerank[char]}, outdegree - {outdegree[char]}\") for char in main_chars];"
   ]
  },
  {
   "cell_type": "markdown",
   "id": "422d6d4a",
   "metadata": {},
   "source": [
    "__D__\n",
    "\n",
    "`Rachel Green` is the most important character is it has both the highest pagerank and outdegree."
   ]
  },
  {
   "cell_type": "markdown",
   "id": "fe9f1601",
   "metadata": {},
   "source": [
    "---\n",
    "\n",
    "**1.5 —** **/True or false:/** Considering your answer in **1.4**, are the following statements true or false? Justify your answers. \n",
    "\n",
    "A. \"If we inverted all  edges in the graph such that an edge $(u,v)$ becomes an edge $(v,u)$, the PageRank centrality would remain unchanged.\"\n",
    "\n",
    "B. \"If we removed all outgoing edges from Rachel Green, her PageRank centrality would remain unchanged.\"\n",
    "\n",
    "C. \"If a new node was introduced in the graph, with 1,000 outgoing edges towards each other node, but no incoming edge, it would have the highest PageRank centrality.\"\n"
   ]
  },
  {
   "cell_type": "markdown",
   "id": "904e975f",
   "metadata": {},
   "source": [
    "A - False, pagerank relies on the incoming links\n",
    "\n",
    "B - False, It might change the centrality of the neighbour nodes, thus changing the one of Rache Green as well\n",
    "\n",
    "C - False, pagerank relies on the incoming links"
   ]
  },
  {
   "cell_type": "markdown",
   "id": "6e47355c",
   "metadata": {},
   "source": [
    "---\n",
    "\n",
    "**1.6 —** Next, you consider how these centrality metrics vary over the course of the seasons.\n",
    "\n",
    "A. Calculate the PageRank and out-degree centrality of the 6 main characters per episode, i.e., for each episode, create a graph containing only the utterances of that episode and calculate the PageRank centrality for this new graph. Print the PageRank and the out-degree of Rachel Green for the first episode of the first season.\n",
    "\n",
    "B. Considering the episode-level out-degree centrality of Phoebe Buffay in season 1 and in season 10, print the mean and the standard error of the mean.\n",
    "\n",
    "C. Create a single plot with 10 inches of width and 4 inches of height. The plot should contain two panels, containing the average PageRank centrality per season of Rachel Green and Ross Geller (Panel A), and the average out-degree per season of Rachel Green and Ross Geller (Panel B). Show 95% confidence intervals in your plot (calculated over the episodes in each season).\n",
    "\n",
    "D. **/Discuss:/** Does the plot support the hypothesis that Rachel was the show's protagonist in all 10 seasons? Explain why."
   ]
  },
  {
   "cell_type": "code",
   "execution_count": 120,
   "id": "a0cfffe7",
   "metadata": {},
   "outputs": [
    {
     "name": "stdout",
     "output_type": "stream",
     "text": [
      "s01_e01: pagerank of Rachel Green -  0.18759937713282485\n"
     ]
    }
   ],
   "source": [
    "# A\n",
    "\n",
    "# get unique episodes\n",
    "episodes = []\n",
    "G_edges = G.edges\n",
    "for edge in G_edges:\n",
    "    episodes.append(G_edges[edge]['episode'])\n",
    "episodes = np.unique(episodes)\n",
    "\n",
    "graphs = {}\n",
    "for episode in episodes:\n",
    "    edges_per_episode = []\n",
    "    E = nx.MultiDiGraph()\n",
    "    for edge in G_edges:\n",
    "        if (G_edges[edge]['episode']==episode) & (edge[0] in main_chars) & (edge[1] in main_chars):\n",
    "            E.add_edge(edge[0], edge[1], episode=episode, season=G_edges[edge]['season'])\n",
    "    graphs[episode] = E\n",
    "\n",
    "for k,v in graphs.items():\n",
    "    pagerank = nx.pagerank(v)\n",
    "    nx.set_node_attributes(v, pagerank, 'pagerank')\n",
    "    if k=='s01_e01':\n",
    "        print('s01_e01: pagerank of Rachel Green - ',pagerank['Rachel Green'])"
   ]
  },
  {
   "cell_type": "code",
   "execution_count": 371,
   "id": "c518db4c",
   "metadata": {},
   "outputs": [
    {
     "name": "stdout",
     "output_type": "stream",
     "text": [
      "for Phoebe Buffay\n",
      "Season 1:\n",
      "outdegree mean: 19.541666666666668\n",
      "outdegree sem: 1.8591520260695866\n",
      "-----------\n",
      "Season 10:\n",
      "outdegree mean: 28.61111111111111\n",
      "outdegree sem: 3.3236515167060676\n"
     ]
    }
   ],
   "source": [
    "# B\n",
    "from scipy.stats import sem\n",
    "\n",
    "s1_outdegree = []\n",
    "s10_outdegree = []\n",
    "for k,v in graphs.items():\n",
    "    outdegree = dict(v.out_degree)\n",
    "    nx.set_node_attributes(v, outdegree, 'outdegree')\n",
    "    if str(k).startswith('s01'):\n",
    "        s1_outdegree.append(outdegree['Phoebe Buffay'])\n",
    "    if str(k).startswith('s10'):\n",
    "        s10_outdegree.append(outdegree['Phoebe Buffay'])\n",
    "\n",
    "print('for Phoebe Buffay')\n",
    "print('Season 1:')\n",
    "print('outdegree mean:',np.mean(s1_outdegree))\n",
    "print('outdegree sem:',sem(s1_outdegree))\n",
    "print('-----------')\n",
    "print('Season 10:')\n",
    "print('outdegree mean:',np.mean(s10_outdegree))\n",
    "print('outdegree sem:',sem(s10_outdegree))"
   ]
  },
  {
   "cell_type": "code",
   "execution_count": 136,
   "id": "36a5bf4d",
   "metadata": {},
   "outputs": [
    {
     "data": {
      "text/plain": [
       "array(['s01', 's02', 's03', 's04', 's05', 's06', 's07', 's08', 's09',\n",
       "       's10'], dtype='<U3')"
      ]
     },
     "execution_count": 136,
     "metadata": {},
     "output_type": "execute_result"
    }
   ],
   "source": [
    "# get the seasons\n",
    "seasons = np.unique([ep[:3] for ep in graphs.keys()])\n",
    "seasons"
   ]
  },
  {
   "cell_type": "code",
   "execution_count": 164,
   "id": "c11e5470",
   "metadata": {},
   "outputs": [],
   "source": [
    "# C\n",
    "panelA_ross = {season: [] for season in seasons}\n",
    "panelA_rachel = {season: [] for season in seasons}\n",
    "panelB_ross = {season: [] for season in seasons}\n",
    "panelB_rachel = {season: [] for season in seasons}\n",
    "\n",
    "for k,v in graphs.items():\n",
    "    panelA_ross[k[:3]].append(v.nodes['Ross Geller']['pagerank'])\n",
    "    panelA_rachel[k[:3]].append(v.nodes['Rachel Green']['pagerank'])\n",
    "    panelB_ross[k[:3]].append(v.nodes['Ross Geller']['outdegree'])\n",
    "    panelB_rachel[k[:3]].append(v.nodes['Rachel Green']['outdegree'])\n"
   ]
  },
  {
   "cell_type": "code",
   "execution_count": 369,
   "id": "6bfeca47",
   "metadata": {},
   "outputs": [],
   "source": [
    "means_b_1 = {k: np.mean(v) for k,v in panelB_ross.items()}\n",
    "means_b_2 = {k: np.mean(v) for k,v in panelB_rachel.items()}\n",
    "panleB = pd.DataFrame({'Ross Geller':list(means_b_1.values()), 'Rachel Green':list(means_b_2.values())}, index=list(means_b_1.keys()))\n",
    "\n",
    "means_a_1 = {k: np.mean(v) for k,v in panelA_ross.items()}\n",
    "means_a_2 = {k: np.mean(v) for k,v in panelA_rachel.items()}\n",
    "panleA = pd.DataFrame({'Ross Geller':list(means_a_1.values()), 'Rachel Green':list(means_a_2.values())}, index=list(means_a_1.keys()))"
   ]
  },
  {
   "cell_type": "code",
   "execution_count": 370,
   "id": "1384ea93",
   "metadata": {},
   "outputs": [
    {
     "data": {
      "image/png": "[encoded data removed]",
      "text/plain": [
       "<Figure size 1000x400 with 2 Axes>"
      ]
     },
     "metadata": {},
     "output_type": "display_data"
    }
   ],
   "source": [
    "fig, axes = plt.subplots(1,2,figsize=(10,4))\n",
    "axes[0].bar(x=panleA.index, height=panleA['Rachel Green'], label='Rachel Green')\n",
    "axes[0].bar(x=panleA.index, height=panleA['Ross Geller'], alpha=0.5, label='Ross Geller')\n",
    "axes[0].set_title('Pagerank')\n",
    "\n",
    "axes[1].bar(x=panleB.index, height=panleB['Rachel Green'], label='Rachel Green')\n",
    "axes[1].bar(x=panleB.index, height=panleB['Ross Geller'], alpha=0.5, label='Ross Geller')\n",
    "axes[1].set_title('Outdegree')\n",
    "\n",
    "plt.legend()\n",
    "plt.show()"
   ]
  },
  {
   "cell_type": "markdown",
   "id": "d4096d7c",
   "metadata": {},
   "source": [
    "We could have plotted the errors by matplotlib.pyplot.errorbar, but I did not have time for it. Here is a function to compute the ci intervals"
   ]
  },
  {
   "cell_type": "code",
   "execution_count": null,
   "id": "c7ba3b8e",
   "metadata": {},
   "outputs": [],
   "source": [
    "def bootstrap_confidence_interval(array, iterations = 1000, ci_level = 95):\n",
    "    \"\"\"\n",
    "    Bootstrap the 95% confidence interval for the mean of the data.\n",
    "    \n",
    "    Parameters:\n",
    "    - data: An array of data\n",
    "    - iterations: The number of bootstrap samples to generate\n",
    "    - ci_level: CI percentage\n",
    "    \n",
    "    Returns:\n",
    "    - A tuple representing the lower and upper bounds of the 95% confidence interval\n",
    "    \"\"\"\n",
    "    means = np.zeros(iterations)\n",
    "    alpha = 100 - ci_level\n",
    "    \n",
    "    for i in range(iterations):\n",
    "        bootstrap_sample = np.random.choice(a=array, size=len(array), replace=True)\n",
    "        means[i] = np.mean(bootstrap_sample)\n",
    "\n",
    "    lower = np.percentile(means, alpha / 2)\n",
    "    upper = np.percentile(means, 100 - alpha / 2)\n",
    "    \n",
    "    return lower, upper"
   ]
  },
  {
   "cell_type": "markdown",
   "id": "820a85f5",
   "metadata": {},
   "source": [
    "# D\n",
    "\n",
    "No, Rachel does not always have higher pagerank/outdegree"
   ]
  },
  {
   "cell_type": "markdown",
   "id": "94b0e5b3",
   "metadata": {},
   "source": [
    "---\n",
    "\n",
    "**1.7 —** **/True or false:/** Considering your answer in **1.6** are the following statements true or false? Justify your answer. \n",
    "\n",
    "\n",
    "A. \"In season 7, Rachel Green's episode-level PageRank and out-degree centrality are higher than Ross Geller's. This difference is statistically significant at the 0.05 significance level.\"\n",
    "\n",
    "B. \"Phoebe Buffay's out-degree grew between season 1 and season 10; this implies that other characters spoke less than her in season 10.\"\n",
    "\n",
    "C. \"Phoebe Buffay's PageRank was higher in season 10 than in season 1. This difference is statistically significant at the 0.05 significance level and suggests that the character gained importance over the course of the show.\"\n"
   ]
  },
  {
   "cell_type": "markdown",
   "id": "87e48217",
   "metadata": {},
   "source": [
    "A - True, from the above plot\n",
    "\n",
    "B - False, we don't know how the outdegree changed for the other characters.\n",
    "\n",
    "C - False, we did only the outdegree for Phoebe Buffay"
   ]
  },
  {
   "cell_type": "markdown",
   "id": "84866967",
   "metadata": {},
   "source": [
    "## Part 2: The one about text similarity (40 pts)\n",
    "\n",
    "Next, you investigate how unique characters are by analyzing what they said throughout the 10 seasons."
   ]
  },
  {
   "cell_type": "markdown",
   "id": "176a69b8",
   "metadata": {},
   "source": [
    "**2.1 —** Load the dataframe `exam3.jsonl`. This dataframe is similar to `exam1.jsonl`, except:\n",
    "\n",
    "- It has an additional column called `tokens`, containing a sentence list. Each sentence is another list composed of tokens, e.g.,\n",
    "`[['There', \"'s\", 'nothing', 'to', 'tell', '!'], ['He', \"'s\", 'just', 'some', 'guy', 'I', 'work', 'with', '!']]`.\n",
    "- It has an additional column called `episode` containing a unique episode identifier.\n",
    "- It only contains utterances by Phoebe, Rachel, Ross, Joey, Monica, or Chandler (the main characters).\n",
    " \n",
    "Given this dataframe, you will create an episode-level word-frequency matrix for Chandler Bing, one of the main characters.\n",
    "\n",
    "A. Create a list $L$ containing all distinct tokens uttered by Chandler Bing throughout the 10 seasons, sorted in ascending order. Print the 10 first and last elements of the list. \n",
    "\n",
    "B. Create a matrix $X$ with $m$ rows and $n$ columns, where: $n$ is the number of tokens in the list $L$ that you just created, and $m$ is the number of episodes (236). Each position $X_{i,j}$ in this matrix should contain the number of times the character uttered the word $j$ in episode $i$. Print how many times Chandler uttered the token `joey` in the first episode of the first season, as well as the shape of the matrix $X$.\n",
    "\n",
    "C. Transform the matrix $X$ into a TF-IDF matrix $T$, combining the following formula (as seen in class):\n",
    "\n",
    "$$\\text{TF}(i,j) = \\text{number of times the $j$-th word occurs in the $i$-th episode}$$\n",
    "\n",
    "$$\\text{IDF}(j) =  \\log \\frac{\\text{number of episodes}}{\\text{number of episodes in which the $j$-th word occurs}}$$\n",
    "\n",
    "Print the value in the TF-IDF matrix corresponding to Chandler's utterance of the token `joey` in the first episode of the first season.\n",
    "\n",
    "D. **/Discuss:/** Some of the tokens (e.g., `joey`) reference other characters. How may these tokens help a classifier predict which character uttered a sentence?"
   ]
  },
  {
   "cell_type": "code",
   "execution_count": 2,
   "id": "da79d4b9",
   "metadata": {},
   "outputs": [
    {
     "name": "stdout",
     "output_type": "stream",
     "text": [
      "First 10: ['!', '!!', '!!!', '!!!!', '!!!!!', '!!!!!!!', '!..', '!...', '!?', '\"']\n",
      "Last 10: ['yum', 'yummy', 'yup', 'zack', 'zero', 'zip', 'zone', 'zoo', 'zorps', '{', '}']\n"
     ]
    }
   ],
   "source": [
    "df3 = pd.read_json(DATA_FOLDER+'exam3.jsonl', lines=True)\n",
    "df3 = df3[df3.speaker == 'Chandler Bing']\n",
    "\n",
    "# A\n",
    "L = np.unique([word1 for sub_list1 in df3.tokens.apply(lambda t: [word for sub_list in t for word in sub_list]).values for word1 in sub_list1])\n",
    "L = sorted(L,reverse=False)\n",
    "print(\"First 10:\",L[:10])\n",
    "print(\"Last 10:\",L[-11:])"
   ]
  },
  {
   "cell_type": "code",
   "execution_count": 241,
   "id": "2e951338",
   "metadata": {},
   "outputs": [
    {
     "name": "stdout",
     "output_type": "stream",
     "text": [
      "First 10: ['!', '!!', '!!!', '!!!!', '!!!!!', '!!!!!!!', '!..', '!...', '!?', '\"']\n",
      "Last 10: ['yum', 'yummy', 'yup', 'zack', 'zero', 'zip', 'zone', 'zoo', 'zorps', '{', '}']\n"
     ]
    }
   ],
   "source": [
    "df3 = pd.read_json(DATA_FOLDER+'exam3.jsonl', lines=True)\n",
    "df3 = df3[df3.speaker == 'Chandler Bing']\n",
    "\n",
    "# A\n",
    "L = np.unique([word for sub_list in df3.tokens.apply(lambda t: [word for sub_list in t for word in sub_list]).values for word in sub_list])\n",
    "L = sorted(L,reverse=False)\n",
    "print(\"First 10:\",L[:10])\n",
    "print(\"Last 10:\",L[-11:])"
   ]
  },
  {
   "cell_type": "code",
   "execution_count": 12,
   "id": "2791ac50",
   "metadata": {},
   "outputs": [
    {
     "name": "stdout",
     "output_type": "stream",
     "text": [
      "X shape:  (236, 6063)\n"
     ]
    }
   ],
   "source": [
    "# B\n",
    "L = np.array(L)\n",
    "X = np.zeros(shape=(df3.episode.nunique(),len(L)))\n",
    "\n",
    "for idx_e, episode in enumerate(df3.episode.unique()):\n",
    "    counts = pd.value_counts([word1 for sub_list1 in df3[df3.episode==episode].tokens.apply(lambda t: [word for sub_list in t for word in sub_list]).values for word1 in sub_list1])\n",
    "    for w in counts.keys():\n",
    "        idx_w = np.argwhere(L==w)[0][0]\n",
    "        X[idx_e, idx_w] += counts[w]\n",
    "        \n",
    "print(\"X shape: \",X.shape)"
   ]
  },
  {
   "cell_type": "code",
   "execution_count": 4,
   "id": "5dfeea26",
   "metadata": {},
   "outputs": [
    {
     "name": "stdout",
     "output_type": "stream",
     "text": [
      "# joey occurances: 1.0\n"
     ]
    }
   ],
   "source": [
    "joey_idx = np.argwhere(L=='joey')\n",
    "print('# joey occurances:',X[0,joey_idx][0][0])"
   ]
  },
  {
   "cell_type": "code",
   "execution_count": 9,
   "id": "60533f3b",
   "metadata": {},
   "outputs": [
    {
     "name": "stdout",
     "output_type": "stream",
     "text": [
      "# joey occurances: -0.6931471805599453\n"
     ]
    }
   ],
   "source": [
    "# C\n",
    "Xtfidf = X.copy()\n",
    "X_tfidf = X * np.log(np.where(Xtfidf.T>0,1,0).sum(axis=1) / 236)\n",
    "print('# joey occurances:',X_tfidf[0,joey_idx][0][0])"
   ]
  },
  {
   "cell_type": "markdown",
   "id": "9b691ae5",
   "metadata": {},
   "source": [
    "---\n",
    "For the remainder of the task, you will use the TF-IDF matrix that we compute below. Note:\n",
    "- This matrix was calculated in a slightly different way: it considers only the 1000 tokens with the highest term frequency.\n",
    "- We provide three useful variables below (`X`, `y`, and `df_tfidf`). \n",
    "    - `X` is a matrix containing the TF-IDF values for the top 1000 tokens, where each row corresponds to a character in an episode. \n",
    "    - `y` indicates which character is responsible for the utterance. Each character has a corresponding number, e.g., 2 for Monica Geller; see dictionary below. \n",
    "    - `df_tfidf` is a dataframe combining `X` with other episode and utterance-level metadata."
   ]
  },
  {
   "cell_type": "code",
   "execution_count": 283,
   "id": "6e0aebac",
   "metadata": {},
   "outputs": [
    {
     "name": "stdout",
     "output_type": "stream",
     "text": [
      "X shape (51312, 1000)\n",
      "y shape (51312,)\n"
     ]
    },
    {
     "data": {
      "text/html": [
       "<div>\n",
       "<style scoped>\n",
       "    .dataframe tbody tr th:only-of-type {\n",
       "        vertical-align: middle;\n",
       "    }\n",
       "\n",
       "    .dataframe tbody tr th {\n",
       "        vertical-align: top;\n",
       "    }\n",
       "\n",
       "    .dataframe thead th {\n",
       "        text-align: right;\n",
       "    }\n",
       "</style>\n",
       "<table border=\"1\" class=\"dataframe\">\n",
       "  <thead>\n",
       "    <tr style=\"text-align: right;\">\n",
       "      <th></th>\n",
       "      <th>speaker</th>\n",
       "      <th>episode</th>\n",
       "      <th>0</th>\n",
       "      <th>1</th>\n",
       "      <th>2</th>\n",
       "      <th>3</th>\n",
       "      <th>4</th>\n",
       "      <th>5</th>\n",
       "      <th>6</th>\n",
       "      <th>7</th>\n",
       "      <th>...</th>\n",
       "      <th>990</th>\n",
       "      <th>991</th>\n",
       "      <th>992</th>\n",
       "      <th>993</th>\n",
       "      <th>994</th>\n",
       "      <th>995</th>\n",
       "      <th>996</th>\n",
       "      <th>997</th>\n",
       "      <th>998</th>\n",
       "      <th>999</th>\n",
       "    </tr>\n",
       "  </thead>\n",
       "  <tbody>\n",
       "    <tr>\n",
       "      <th>0</th>\n",
       "      <td>Monica Geller</td>\n",
       "      <td>s01_e01</td>\n",
       "      <td>0.0</td>\n",
       "      <td>0.0</td>\n",
       "      <td>0.0</td>\n",
       "      <td>0.0</td>\n",
       "      <td>0.0</td>\n",
       "      <td>0.0</td>\n",
       "      <td>0.0</td>\n",
       "      <td>0.0</td>\n",
       "      <td>...</td>\n",
       "      <td>0.0</td>\n",
       "      <td>0.0</td>\n",
       "      <td>0.0</td>\n",
       "      <td>0.0</td>\n",
       "      <td>0.0</td>\n",
       "      <td>0.0</td>\n",
       "      <td>0.0</td>\n",
       "      <td>0.0</td>\n",
       "      <td>0.0</td>\n",
       "      <td>0.0</td>\n",
       "    </tr>\n",
       "    <tr>\n",
       "      <th>1</th>\n",
       "      <td>Joey Tribbiani</td>\n",
       "      <td>s01_e01</td>\n",
       "      <td>0.0</td>\n",
       "      <td>0.0</td>\n",
       "      <td>0.0</td>\n",
       "      <td>0.0</td>\n",
       "      <td>0.0</td>\n",
       "      <td>0.0</td>\n",
       "      <td>0.0</td>\n",
       "      <td>0.0</td>\n",
       "      <td>...</td>\n",
       "      <td>0.0</td>\n",
       "      <td>0.0</td>\n",
       "      <td>0.0</td>\n",
       "      <td>0.0</td>\n",
       "      <td>0.0</td>\n",
       "      <td>0.0</td>\n",
       "      <td>0.0</td>\n",
       "      <td>0.0</td>\n",
       "      <td>0.0</td>\n",
       "      <td>0.0</td>\n",
       "    </tr>\n",
       "    <tr>\n",
       "      <th>2</th>\n",
       "      <td>Chandler Bing</td>\n",
       "      <td>s01_e01</td>\n",
       "      <td>0.0</td>\n",
       "      <td>0.0</td>\n",
       "      <td>0.0</td>\n",
       "      <td>0.0</td>\n",
       "      <td>0.0</td>\n",
       "      <td>0.0</td>\n",
       "      <td>0.0</td>\n",
       "      <td>0.0</td>\n",
       "      <td>...</td>\n",
       "      <td>0.0</td>\n",
       "      <td>0.0</td>\n",
       "      <td>0.0</td>\n",
       "      <td>0.0</td>\n",
       "      <td>0.0</td>\n",
       "      <td>0.0</td>\n",
       "      <td>0.0</td>\n",
       "      <td>0.0</td>\n",
       "      <td>0.0</td>\n",
       "      <td>0.0</td>\n",
       "    </tr>\n",
       "  </tbody>\n",
       "</table>\n",
       "<p>3 rows × 1002 columns</p>\n",
       "</div>"
      ],
      "text/plain": [
       "          speaker  episode    0    1    2    3    4    5    6    7  ...  990  \\\n",
       "0   Monica Geller  s01_e01  0.0  0.0  0.0  0.0  0.0  0.0  0.0  0.0  ...  0.0   \n",
       "1  Joey Tribbiani  s01_e01  0.0  0.0  0.0  0.0  0.0  0.0  0.0  0.0  ...  0.0   \n",
       "2   Chandler Bing  s01_e01  0.0  0.0  0.0  0.0  0.0  0.0  0.0  0.0  ...  0.0   \n",
       "\n",
       "   991  992  993  994  995  996  997  998  999  \n",
       "0  0.0  0.0  0.0  0.0  0.0  0.0  0.0  0.0  0.0  \n",
       "1  0.0  0.0  0.0  0.0  0.0  0.0  0.0  0.0  0.0  \n",
       "2  0.0  0.0  0.0  0.0  0.0  0.0  0.0  0.0  0.0  \n",
       "\n",
       "[3 rows x 1002 columns]"
      ]
     },
     "execution_count": 283,
     "metadata": {},
     "output_type": "execute_result"
    }
   ],
   "source": [
    "from sklearn.feature_extraction.text import TfidfVectorizer\n",
    "df_tfidf = pd.read_json(\"./data/exam3.jsonl\", lines=True)[[\"speaker\", \"episode\", \"text\"]]\n",
    "\n",
    "vectorizer = TfidfVectorizer(max_features=1000, stop_words=\"english\")\n",
    "X = vectorizer.fit_transform(df_tfidf.text).toarray()\n",
    "print(\"X shape\", X.shape)\n",
    "\n",
    "\n",
    "map_char_to_int = {\n",
    "'Chandler Bing': 0,\n",
    "'Joey Tribbiani': 1,\n",
    "'Monica Geller': 2,\n",
    "'Phoebe Buffay': 3,\n",
    "'Rachel Green': 4,\n",
    "'Ross Geller': 5\n",
    "}\n",
    "\n",
    "\n",
    "y = df_tfidf.speaker.apply(lambda x: map_char_to_int[x]).values\n",
    "print(\"y shape\", y.shape)\n",
    "\n",
    "df_tfidf = pd.concat([df_tfidf[[\"speaker\", \"episode\"]],  pd.DataFrame(X)], axis=1)\n",
    "\n",
    "df_tfidf.head(3)"
   ]
  },
  {
   "cell_type": "markdown",
   "id": "15f01045",
   "metadata": {},
   "source": [
    "--- "
   ]
  },
  {
   "cell_type": "markdown",
   "id": "76d6b6f1",
   "metadata": {},
   "source": [
    "**2.2 —** To compare characters, carry out a classification task. Train a decision tree classifier to predict which main character uttered a sentence..\n",
    "\n",
    "A. Split the dataset into training and test sets using sklearn `sklearn.model_selection.train_test_split` using parameters `test_size=0.3` and `random_state=42`, and using the default values for all other parameters.\n",
    "\n",
    "B. Train a decision tree classifier (`sklearn.tree.DecisionTreeClassifier`) using `random_state=42`, leaving all other parameters as their default.\n",
    "\n",
    "C. Compute the accuracy of your classifier and of a random baseline, i.e., a classifier that predicts a character uniformly at random. **/Discuss:/** Compare the two accuracies.\n",
    "\n",
    "\n",
    "D. Compute the confusion matrix of your classifier using `sklearn.metrics.confusion_matrix`. Normalize the confusion matrix such that all cells sum to 1.\n",
    "\n",
    "E. Plot an appropriate graphical representation of the confusion matrix.\n",
    "\n",
    "F. **/Discuss:/** Analyzing the confusion matrix, discuss:\n",
    "   - Which character is most distinct in the way they talk?\n",
    "   - Which two characters are the most similar in the way they talk?\n",
    "   - Which two characters are the least similar in the way they talk?\n"
   ]
  },
  {
   "cell_type": "code",
   "execution_count": 287,
   "id": "03c8bf67",
   "metadata": {},
   "outputs": [
    {
     "name": "stdout",
     "output_type": "stream",
     "text": [
      "Accuracy: 0.23833961283616995\n",
      "Random Accuracy: 0.1607769260750942\n"
     ]
    }
   ],
   "source": [
    "from sklearn.tree import DecisionTreeClassifier\n",
    "from sklearn.model_selection import train_test_split\n",
    "from sklearn.metrics import accuracy_score\n",
    "\n",
    "X_train, X_test, y_train, y_test = train_test_split(X, y, test_size=0.3, random_state=42)\n",
    "cls_ = DecisionTreeClassifier(random_state=42).fit(X_train, y_train)\n",
    "\n",
    "y_predicted = cls_.predict(X_test)\n",
    "y_random = np.random.choice(5, y_test.shape[0])\n",
    "\n",
    "accuracy = accuracy_score(y_test, y_predicted)\n",
    "accuracy_random = accuracy_score(y_test, y_random)\n",
    "\n",
    "print(\"Accuracy:\",accuracy)\n",
    "print(\"Random Accuracy:\",accuracy_random)"
   ]
  },
  {
   "cell_type": "markdown",
   "id": "f1da5ada",
   "metadata": {},
   "source": [
    "The model is very bad, as it is almost close to random predictor"
   ]
  },
  {
   "cell_type": "code",
   "execution_count": 317,
   "id": "53da7976",
   "metadata": {},
   "outputs": [
    {
     "data": {
      "image/png": "[encoded data removed]",
      "text/plain": [
       "<Figure size 640x480 with 2 Axes>"
      ]
     },
     "metadata": {},
     "output_type": "display_data"
    }
   ],
   "source": [
    "from sklearn.metrics import confusion_matrix, ConfusionMatrixDisplay\n",
    "\n",
    "cm = confusion_matrix(y_test,y_predicted)\n",
    "cm = cm/sum(sum(cm))\n",
    "disp = ConfusionMatrixDisplay(confusion_matrix=cm)\n",
    "disp.plot()\n",
    "plt.show()"
   ]
  },
  {
   "cell_type": "markdown",
   "id": "1a158a88",
   "metadata": {},
   "source": [
    "---\n",
    "\n",
    "**2.3 —** **/Discuss:/** Last, you discuss the results obtained in **2.2** with a friend, who asks you some thought-provoking questions.\n",
    "\n",
    "A. Your friend proposes that you should create a measure of similarity between two characters in a given episode in a more direct way than what you've done in **2.2**.  Propose (but do not implement) said similarity metric.\n",
    "\n",
    "B. Your friend also suggests that your analysis might not truly capture how two characters differ. According to her, if people are in the same conversation, they might speak similarly simply because they are in the same social context. Propose (but do not implement) a way of creating a dataset where this confounder does not exist.\n",
    "\n",
    "C. Last, your friend complains about how you present your (normalized) confusion matrix. According to her, from reading the cells alone, it is unclear if the fraction of occurrences is higher or lower than what a random classifier would yield. Propose (but do not implement) a way of modifying the confusion matrix to address her concern.\n"
   ]
  },
  {
   "cell_type": "markdown",
   "id": "9d4253a5",
   "metadata": {},
   "source": [
    "A - we could do it by how many times they replied to each other\n",
    "\n",
    "B - We could match on the episodes\n",
    "\n",
    "C - We could plot them both next to each other"
   ]
  },
  {
   "cell_type": "markdown",
   "id": "25c65d90",
   "metadata": {},
   "source": [
    "---"
   ]
  }
 ],
 "metadata": {
  "kernelspec": {
   "display_name": "Python 3 (ipykernel)",
   "language": "python",
   "name": "python3"
  },
  "language_info": {
   "codemirror_mode": {
    "name": "ipython",
    "version": 3
   },
   "file_extension": ".py",
   "mimetype": "text/x-python",
   "name": "python",
   "nbconvert_exporter": "python",
   "pygments_lexer": "ipython3",
   "version": "3.9.7"
  }
 },
 "nbformat": 4,
 "nbformat_minor": 5
}
